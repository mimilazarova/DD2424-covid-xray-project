{
  "nbformat": 4,
  "nbformat_minor": 0,
  "metadata": {
    "kernelspec": {
      "display_name": "Python 3",
      "language": "python",
      "name": "python3"
    },
    "language_info": {
      "codemirror_mode": {
        "name": "ipython",
        "version": 3
      },
      "file_extension": ".py",
      "mimetype": "text/x-python",
      "name": "python",
      "nbconvert_exporter": "python",
      "pygments_lexer": "ipython3",
      "version": "3.7.3"
    },
    "colab": {
      "name": "dataloader_maria.ipynb",
      "provenance": [],
      "machine_shape": "hm"
    },
    "accelerator": "GPU"
  },
  "cells": [
    {
      "cell_type": "code",
      "metadata": {
        "id": "0TUIYrMXAOjI",
        "colab_type": "code",
        "colab": {}
      },
      "source": [
        "import warnings\n",
        "warnings.filterwarnings(\"ignore\", category=FutureWarning)\n",
        "\n",
        "import tensorflow as tf\n",
        "import numpy as np\n",
        "import matplotlib.pyplot as plt\n",
        "import cv2\n",
        "import pickle\n",
        "\n",
        "from tensorflow.keras.optimizers import Adam\n",
        "from tensorflow.keras.utils import to_categorical\n",
        "from sklearn.model_selection import train_test_split\n",
        "from tensorflow.keras.models import Sequential\n",
        "from tensorflow.keras import backend as K\n",
        "from tensorflow.keras.layers import Conv2D, MaxPooling2D, Flatten, Dense, Dropout\n",
        "from sklearn.metrics import confusion_matrix\n",
        "from tensorflow.keras.callbacks import EarlyStopping\n",
        "from tensorflow.keras.callbacks import ModelCheckpoint\n",
        "import matplotlib.pyplot as plt\n",
        "from sklearn.metrics import accuracy_score\n",
        "from tensorflow.keras.preprocessing.image import ImageDataGenerator\n",
        "\n",
        "#from covidimage import CovidImage\n",
        "#from classifier_maria import Classifier"
      ],
      "execution_count": 0,
      "outputs": []
    },
    {
      "cell_type": "code",
      "metadata": {
        "id": "3vKntH0O_Zj8",
        "colab_type": "code",
        "colab": {
          "base_uri": "https://localhost:8080/",
          "height": 35
        },
        "outputId": "e890b3c6-66c5-4cf2-8a9b-6acaf79cb55d"
      },
      "source": [
        "# Set up data path\n",
        "from google.colab import drive\n",
        "drive.mount('/content/drive')"
      ],
      "execution_count": 2,
      "outputs": [
        {
          "output_type": "stream",
          "text": [
            "Drive already mounted at /content/drive; to attempt to forcibly remount, call drive.mount(\"/content/drive\", force_remount=True).\n"
          ],
          "name": "stdout"
        }
      ]
    },
    {
      "cell_type": "code",
      "metadata": {
        "id": "qpG3tAix_RTr",
        "colab_type": "code",
        "colab": {}
      },
      "source": [
        "# Hyperparameters\n",
        "EPOCHS = 25\n",
        "INIT_LR = 0.001\n",
        "BS = 32"
      ],
      "execution_count": 0,
      "outputs": []
    },
    {
      "cell_type": "code",
      "metadata": {
        "id": "Z-BuQyYXNaqQ",
        "colab_type": "code",
        "colab": {}
      },
      "source": [
        "class Classifier:\n",
        "    @staticmethod\n",
        "    def build(width, height, depth, classes):\n",
        "        \n",
        "        model = Sequential()\n",
        "        inputShape = (height, width, depth)\n",
        "        \n",
        "        model.add(Conv2D(32, (3, 3), strides=(1, 1), activation='relu', input_shape=inputShape))\n",
        "        model.add(MaxPooling2D(pool_size=(2, 2), strides=(2, 2)))\n",
        "        \n",
        "        model.add(Conv2D(64, (3, 3), strides=(1, 1), activation='relu'))\n",
        "        model.add(MaxPooling2D(pool_size=(3, 3), strides=(2, 2)))\n",
        "        \n",
        "        model.add(Conv2D(64, (3, 3), strides=(1, 1), activation='relu'))\n",
        "        model.add(MaxPooling2D(pool_size=(3, 3), strides=(2, 2)))\n",
        "        \n",
        "        model.add(Flatten())\n",
        "        model.add(Dense(64, activation='relu'))\n",
        "        model.add(Dropout(0.2))\n",
        "        \n",
        "        model.add(Dense(classes, activation='softmax'))\n",
        "        \n",
        "        print(\"summary\")\n",
        "        print(model.summary())\n",
        "        \n",
        "        return model"
      ],
      "execution_count": 0,
      "outputs": []
    },
    {
      "cell_type": "code",
      "metadata": {
        "id": "E2jubyxrGlfH",
        "colab_type": "code",
        "colab": {}
      },
      "source": [
        "with open('/content/drive/My Drive/data/trainX1.pickle', 'rb') as f:\n",
        "  X1 = pickle.load(f)\n",
        "with open('/content/drive/My Drive/data/trainX2.pickle', 'rb') as f:\n",
        "  X2 = pickle.load(f)\n",
        "trainX = np.concatenate((X1, X2))\n",
        "\n",
        "with open('/content/drive/My Drive/data/testX.pickle', 'rb') as f:\n",
        "  testX = pickle.load(f)\n",
        "\n",
        "with open('/content/drive/My Drive/data/train_y.pickle', 'rb') as f:\n",
        "  train_y = pickle.load(f)\n",
        "with open('/content/drive/My Drive/data/test_y.pickle', 'rb') as f:\n",
        "  test_y = pickle.load(f)"
      ],
      "execution_count": 0,
      "outputs": []
    },
    {
      "cell_type": "code",
      "metadata": {
        "id": "HWN977MC_Jjt",
        "colab_type": "code",
        "colab": {}
      },
      "source": [
        "# Reshape datasets for Sequential model\n",
        "trainX = np.expand_dims(trainX, axis=-1) \n",
        "testX = np.expand_dims(testX, axis=-1) \n",
        "\n",
        "# One-hot encoding of classes\n",
        "train_y = to_categorical(train_y, num_classes=3)"
      ],
      "execution_count": 0,
      "outputs": []
    },
    {
      "cell_type": "code",
      "metadata": {
        "id": "kaYvAJXuAOjs",
        "colab_type": "code",
        "colab": {}
      },
      "source": [
        "# TODO: shuffle (sample from all classes evenly)\n",
        "\n",
        "# Split training data for training and validation\n",
        "trainX, valX, train_y, val_y = train_test_split(trainX, train_y, test_size=0.30, random_state=42)"
      ],
      "execution_count": 0,
      "outputs": []
    },
    {
      "cell_type": "code",
      "metadata": {
        "id": "e0ABU7cyAOjz",
        "colab_type": "code",
        "colab": {
          "base_uri": "https://localhost:8080/",
          "height": 537
        },
        "outputId": "bedcaa22-13c8-4539-8d26-11d6bf80fd8d"
      },
      "source": [
        "# Build model and its chracteristics\n",
        "model = Classifier.build(width=224, height=224, depth=1, classes=3)\n",
        "\n",
        "opt = Adam(lr=INIT_LR, decay=INIT_LR/EPOCHS)\n",
        "\n",
        "model.compile(loss=\"binary_crossentropy\", optimizer=opt,\n",
        "              metrics=[\"accuracy\"])\n",
        "\n",
        "# Callbacks: early stopping and checkpoint\n",
        "early_stopping = EarlyStopping(monitor='val_accuracy', verbose=1, \n",
        "                               patience=10,\n",
        "                               mode='max',\n",
        "                               restore_best_weights=True)\n",
        "\n",
        "filepath = \"weights-improvement-{epoch:02d}-{val_acc:.2f}.hdf5\"\n",
        "checkpoint = ModelCheckpoint(filepath, monitor='val_acc', verbose=1, \n",
        "                             save_best_only=True, mode='max')\n",
        "\n",
        "callbacks_list = [early_stopping, checkpoint]\n",
        "\n",
        "# Construct image generator for data augmentation\n",
        "aug = ImageDataGenerator(rotation_range=20, width_shift_range=0.1,\n",
        "                         height_shift_range=0.1, shear_range=0.2, \n",
        "                         zoom_range=0.01, horizontal_flip=True,\n",
        "                         vertical_flip=False, fill_mode=\"nearest\")\n"
      ],
      "execution_count": 8,
      "outputs": [
        {
          "output_type": "stream",
          "text": [
            "summary\n",
            "Model: \"sequential\"\n",
            "_________________________________________________________________\n",
            "Layer (type)                 Output Shape              Param #   \n",
            "=================================================================\n",
            "conv2d (Conv2D)              (None, 222, 222, 32)      320       \n",
            "_________________________________________________________________\n",
            "max_pooling2d (MaxPooling2D) (None, 111, 111, 32)      0         \n",
            "_________________________________________________________________\n",
            "conv2d_1 (Conv2D)            (None, 109, 109, 64)      18496     \n",
            "_________________________________________________________________\n",
            "max_pooling2d_1 (MaxPooling2 (None, 54, 54, 64)        0         \n",
            "_________________________________________________________________\n",
            "conv2d_2 (Conv2D)            (None, 52, 52, 64)        36928     \n",
            "_________________________________________________________________\n",
            "max_pooling2d_2 (MaxPooling2 (None, 25, 25, 64)        0         \n",
            "_________________________________________________________________\n",
            "flatten (Flatten)            (None, 40000)             0         \n",
            "_________________________________________________________________\n",
            "dense (Dense)                (None, 64)                2560064   \n",
            "_________________________________________________________________\n",
            "dropout (Dropout)            (None, 64)                0         \n",
            "_________________________________________________________________\n",
            "dense_1 (Dense)              (None, 3)                 195       \n",
            "=================================================================\n",
            "Total params: 2,616,003\n",
            "Trainable params: 2,616,003\n",
            "Non-trainable params: 0\n",
            "_________________________________________________________________\n",
            "None\n"
          ],
          "name": "stdout"
        }
      ]
    },
    {
      "cell_type": "code",
      "metadata": {
        "id": "0g9r-dHtAOj1",
        "colab_type": "code",
        "colab": {
          "base_uri": "https://localhost:8080/",
          "height": 901
        },
        "outputId": "93bb7c6a-dd69-4263-a2f3-214ef571cc40"
      },
      "source": [
        "print(\"Training network...\")\n",
        "history = model.fit(aug.flow(trainX, train_y, batch_size=BS),\n",
        "                    validation_data=(valX, val_y),\n",
        "#                    validation_split=0.3,\n",
        "                    steps_per_epoch=len(trainX) // BS,\n",
        "#                   validation_steps=int(len(trainX) / 3)// BS,\n",
        "                    callbacks=[early_stopping],\n",
        "                    epochs=EPOCHS, verbose=1)"
      ],
      "execution_count": 9,
      "outputs": [
        {
          "output_type": "stream",
          "text": [
            "Training network...\n",
            "Epoch 1/25\n",
            "298/298 [==============================] - 36s 120ms/step - loss: 0.3738 - accuracy: 0.7379 - val_loss: 0.3305 - val_accuracy: 0.8035\n",
            "Epoch 2/25\n",
            "298/298 [==============================] - 35s 118ms/step - loss: 0.3212 - accuracy: 0.7996 - val_loss: 0.3098 - val_accuracy: 0.8118\n",
            "Epoch 3/25\n",
            "298/298 [==============================] - 35s 118ms/step - loss: 0.3057 - accuracy: 0.8135 - val_loss: 0.2804 - val_accuracy: 0.8380\n",
            "Epoch 4/25\n",
            "298/298 [==============================] - 35s 117ms/step - loss: 0.2914 - accuracy: 0.8228 - val_loss: 0.2585 - val_accuracy: 0.8480\n",
            "Epoch 5/25\n",
            "298/298 [==============================] - 34s 116ms/step - loss: 0.2751 - accuracy: 0.8370 - val_loss: 0.2542 - val_accuracy: 0.8539\n",
            "Epoch 6/25\n",
            "298/298 [==============================] - 35s 116ms/step - loss: 0.2744 - accuracy: 0.8363 - val_loss: 0.2538 - val_accuracy: 0.8512\n",
            "Epoch 7/25\n",
            "298/298 [==============================] - 35s 118ms/step - loss: 0.2719 - accuracy: 0.8386 - val_loss: 0.2425 - val_accuracy: 0.8612\n",
            "Epoch 8/25\n",
            "298/298 [==============================] - 36s 119ms/step - loss: 0.2632 - accuracy: 0.8454 - val_loss: 0.2413 - val_accuracy: 0.8605\n",
            "Epoch 9/25\n",
            "298/298 [==============================] - 35s 119ms/step - loss: 0.2607 - accuracy: 0.8472 - val_loss: 0.2351 - val_accuracy: 0.8614\n",
            "Epoch 10/25\n",
            "298/298 [==============================] - 35s 119ms/step - loss: 0.2543 - accuracy: 0.8519 - val_loss: 0.2398 - val_accuracy: 0.8649\n",
            "Epoch 11/25\n",
            "298/298 [==============================] - 35s 118ms/step - loss: 0.2533 - accuracy: 0.8522 - val_loss: 0.2495 - val_accuracy: 0.8568\n",
            "Epoch 12/25\n",
            "298/298 [==============================] - 35s 117ms/step - loss: 0.2471 - accuracy: 0.8540 - val_loss: 0.2267 - val_accuracy: 0.8702\n",
            "Epoch 13/25\n",
            "298/298 [==============================] - 36s 119ms/step - loss: 0.2412 - accuracy: 0.8563 - val_loss: 0.2384 - val_accuracy: 0.8578\n",
            "Epoch 14/25\n",
            "298/298 [==============================] - 34s 115ms/step - loss: 0.2359 - accuracy: 0.8641 - val_loss: 0.2194 - val_accuracy: 0.8734\n",
            "Epoch 15/25\n",
            "298/298 [==============================] - 34s 115ms/step - loss: 0.2372 - accuracy: 0.8592 - val_loss: 0.2224 - val_accuracy: 0.8724\n",
            "Epoch 16/25\n",
            "298/298 [==============================] - 34s 115ms/step - loss: 0.2340 - accuracy: 0.8643 - val_loss: 0.2202 - val_accuracy: 0.8776\n",
            "Epoch 17/25\n",
            "298/298 [==============================] - 34s 115ms/step - loss: 0.2309 - accuracy: 0.8644 - val_loss: 0.2157 - val_accuracy: 0.8759\n",
            "Epoch 18/25\n",
            "298/298 [==============================] - 34s 114ms/step - loss: 0.2310 - accuracy: 0.8692 - val_loss: 0.2202 - val_accuracy: 0.8771\n",
            "Epoch 19/25\n",
            "298/298 [==============================] - 34s 114ms/step - loss: 0.2261 - accuracy: 0.8662 - val_loss: 0.2044 - val_accuracy: 0.8837\n",
            "Epoch 20/25\n",
            "298/298 [==============================] - 34s 114ms/step - loss: 0.2231 - accuracy: 0.8687 - val_loss: 0.2192 - val_accuracy: 0.8812\n",
            "Epoch 21/25\n",
            "298/298 [==============================] - 34s 114ms/step - loss: 0.2242 - accuracy: 0.8705 - val_loss: 0.2056 - val_accuracy: 0.8815\n",
            "Epoch 22/25\n",
            "298/298 [==============================] - 36s 120ms/step - loss: 0.2192 - accuracy: 0.8704 - val_loss: 0.2082 - val_accuracy: 0.8734\n",
            "Epoch 23/25\n",
            "298/298 [==============================] - 34s 112ms/step - loss: 0.2184 - accuracy: 0.8726 - val_loss: 0.2025 - val_accuracy: 0.8869\n",
            "Epoch 24/25\n",
            "298/298 [==============================] - 33s 112ms/step - loss: 0.2180 - accuracy: 0.8708 - val_loss: 0.2100 - val_accuracy: 0.8719\n",
            "Epoch 25/25\n",
            "298/298 [==============================] - 34s 113ms/step - loss: 0.2169 - accuracy: 0.8776 - val_loss: 0.2088 - val_accuracy: 0.8803\n"
          ],
          "name": "stdout"
        }
      ]
    },
    {
      "cell_type": "code",
      "metadata": {
        "id": "ZpXxWn7sQeyo",
        "colab_type": "code",
        "colab": {
          "base_uri": "https://localhost:8080/",
          "height": 35
        },
        "outputId": "2e4e423b-bcc9-4185-96a2-f2eac86ed4e3"
      },
      "source": [
        "# Test accuracy\n",
        "test_y_pred = model.predict(testX)\n",
        "test_y_pred_1 = np.argmax(test_y_pred, axis=1)\n",
        "accuracy_score(test_y, test_y_pred_1)"
      ],
      "execution_count": 12,
      "outputs": [
        {
          "output_type": "execute_result",
          "data": {
            "text/plain": [
              "0.8880794701986755"
            ]
          },
          "metadata": {
            "tags": []
          },
          "execution_count": 12
        }
      ]
    },
    {
      "cell_type": "code",
      "metadata": {
        "id": "Gn-BOiPoP3i6",
        "colab_type": "code",
        "colab": {
          "base_uri": "https://localhost:8080/",
          "height": 301
        },
        "outputId": "383157fd-e103-4a27-8fd3-7831daffe10b"
      },
      "source": [
        "plt.plot(history.history['accuracy'], label='accuracy')\n",
        "plt.plot(history.history['val_accuracy'], label = 'val_accuracy')\n",
        "plt.xlabel('Epoch')\n",
        "plt.ylabel('Accuracy')\n",
        "plt.ylim([0.5, 1])\n",
        "plt.legend(loc='lower right')"
      ],
      "execution_count": 11,
      "outputs": [
        {
          "output_type": "execute_result",
          "data": {
            "text/plain": [
              "<matplotlib.legend.Legend at 0x7fbb2016dac8>"
            ]
          },
          "metadata": {
            "tags": []
          },
          "execution_count": 11
        },
        {
          "output_type": "display_data",
          "data": {
            "image/png": "[encoded data removed]",
            "text/plain": [
              "<Figure size 432x288 with 1 Axes>"
            ]
          },
          "metadata": {
            "tags": [],
            "needs_background": "light"
          }
        }
      ]
    },
    {
      "cell_type": "code",
      "metadata": {
        "id": "ouzFGTyBrqew",
        "colab_type": "code",
        "colab": {
          "base_uri": "https://localhost:8080/",
          "height": 87
        },
        "outputId": "4298588e-b383-4aac-e5b9-9f5adad65d76"
      },
      "source": [
        "conf_matrix = confusion_matrix(test_y, test_y_pred_1, labels=[0, 1, 2])\n",
        "print(\"Confusion matrix:\")\n",
        "print(conf_matrix)"
      ],
      "execution_count": 13,
      "outputs": [
        {
          "output_type": "stream",
          "text": [
            "Confusion matrix:\n",
            "[[810  75   0]\n",
            " [ 65 529   0]\n",
            " [ 15  14   2]]\n"
          ],
          "name": "stdout"
        }
      ]
    }
  ]
}