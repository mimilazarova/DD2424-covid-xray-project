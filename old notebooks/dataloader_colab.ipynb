{
  "nbformat": 4,
  "nbformat_minor": 0,
  "metadata": {
    "kernelspec": {
      "display_name": "Python 3",
      "language": "python",
      "name": "python3"
    },
    "language_info": {
      "codemirror_mode": {
        "name": "ipython",
        "version": 3
      },
      "file_extension": ".py",
      "mimetype": "text/x-python",
      "name": "python",
      "nbconvert_exporter": "python",
      "pygments_lexer": "ipython3",
      "version": "3.7.5"
    },
    "colab": {
      "name": "dataloader_colab.ipynb",
      "provenance": [],
      "machine_shape": "hm",
      "include_colab_link": true
    }
  },
  "cells": [
    {
      "cell_type": "markdown",
      "metadata": {
        "id": "view-in-github",
        "colab_type": "text"
      },
      "source": [
        "<a href=\"https://colab.research.google.com/github/mimilazarova/DD2424-covid-xray-project/blob/master/dataloader_colab.ipynb\" target=\"_parent\"><img src=\"https://colab.research.google.com/assets/colab-badge.svg\" alt=\"Open In Colab\"/></a>"
      ]
    },
    {
      "cell_type": "code",
      "metadata": {
        "id": "lzc7un0tv6uD",
        "colab_type": "code",
        "colab": {}
      },
      "source": [
        "import warnings\n",
        "warnings.filterwarnings(\"ignore\", category=FutureWarning)\n",
        "\n",
        "import tensorflow as tf\n",
        "from tensorflow import keras\n",
        "from tensorflow.keras import layers\n",
        "import numpy as np\n",
        "import matplotlib.pyplot as plt\n",
        "import cv2\n",
        "import pickle\n"
      ],
      "execution_count": 0,
      "outputs": []
    },
    {
      "cell_type": "code",
      "metadata": {
        "id": "UDks1pN460vn",
        "colab_type": "code",
        "colab": {
          "base_uri": "https://localhost:8080/",
          "height": 34
        },
        "outputId": "1f4f7211-0fd6-4047-a59c-8d6a58c8fc74"
      },
      "source": [
        "from google.colab import drive\n",
        "drive.mount('/content/drive')"
      ],
      "execution_count": 2,
      "outputs": [
        {
          "output_type": "stream",
          "text": [
            "Drive already mounted at /content/drive; to attempt to forcibly remount, call drive.mount(\"/content/drive\", force_remount=True).\n"
          ],
          "name": "stdout"
        }
      ]
    },
    {
      "cell_type": "code",
      "metadata": {
        "id": "3djAbcsGv6uO",
        "colab_type": "code",
        "colab": {}
      },
      "source": [
        "\n",
        "with open('/content/drive/My Drive/Colab Notebooks/data/trainX1.pickle', 'rb') as f:\n",
        "  X1 = pickle.load(f)\n",
        "with open('/content/drive/My Drive/Colab Notebooks/data/trainX2.pickle', 'rb') as f:\n",
        "  X2 = pickle.load(f)\n",
        "\n",
        "trainX = np.concatenate((X1, X2))\n",
        "\n",
        "with open('/content/drive/My Drive/Colab Notebooks/data/testX.pickle', 'rb') as f:\n",
        "  testX = pickle.load(f)\n",
        "with open('/content/drive/My Drive/Colab Notebooks/data/train_y.pickle', 'rb') as f:\n",
        "  train_y = pickle.load(f)\n",
        "with open('/content/drive/My Drive/Colab Notebooks/data/test_y.pickle', 'rb') as f:\n",
        "  test_y = pickle.load(f)\n",
        "\n"
      ],
      "execution_count": 0,
      "outputs": []
    },
    {
      "cell_type": "code",
      "metadata": {
        "id": "N5XmWIUXZnnf",
        "colab_type": "code",
        "colab": {
          "base_uri": "https://localhost:8080/",
          "height": 68
        },
        "outputId": "6c7a8b6d-7a4e-432e-e09a-6b9e0a00c841"
      },
      "source": [
        "class_weights = {}\n",
        "for c in range(3):\n",
        "  class_weights[c] = 1000/np.sum(train_y==c)\n",
        "  print(class_weights[c])\n"
      ],
      "execution_count": 4,
      "outputs": [
        {
          "output_type": "stream",
          "text": [
            "0.12553351744915892\n",
            "0.183452577508714\n",
            "4.484304932735426\n"
          ],
          "name": "stdout"
        }
      ]
    },
    {
      "cell_type": "code",
      "metadata": {
        "id": "rm6nVp_Ov6uV",
        "colab_type": "code",
        "colab": {
          "base_uri": "https://localhost:8080/",
          "height": 34
        },
        "outputId": "84a0b709-7c39-4e70-aabc-0f836d40c059"
      },
      "source": [
        "tf.__version__\n"
      ],
      "execution_count": 10,
      "outputs": [
        {
          "output_type": "execute_result",
          "data": {
            "text/plain": [
              "'2.2.0-rc3'"
            ]
          },
          "metadata": {
            "tags": []
          },
          "execution_count": 10
        }
      ]
    },
    {
      "cell_type": "code",
      "metadata": {
        "id": "Mr78uvnDv6uZ",
        "colab_type": "code",
        "colab": {}
      },
      "source": [
        "N = trainX.shape[0]\n",
        "testN = testX.shape[0]\n",
        "\n",
        "trainX = trainX.reshape((N, 224, 224, 1))\n",
        "testX = testX.reshape((testN, 224, 224, 1))"
      ],
      "execution_count": 0,
      "outputs": []
    },
    {
      "cell_type": "code",
      "metadata": {
        "id": "llUv2U8fcik6",
        "colab_type": "code",
        "colab": {
          "base_uri": "https://localhost:8080/",
          "height": 34
        },
        "outputId": "3bc4658e-c796-421b-8a3c-cc76c4e79518"
      },
      "source": [
        "test_y.shape\n"
      ],
      "execution_count": 6,
      "outputs": [
        {
          "output_type": "execute_result",
          "data": {
            "text/plain": [
              "(1510,)"
            ]
          },
          "metadata": {
            "tags": []
          },
          "execution_count": 6
        }
      ]
    },
    {
      "cell_type": "code",
      "metadata": {
        "id": "QLszihz5v6ud",
        "colab_type": "code",
        "colab": {
          "base_uri": "https://localhost:8080/",
          "height": 459
        },
        "outputId": "75b7b605-3ef1-42c3-9f79-d6ad0ff72bfd"
      },
      "source": [
        "model = keras.models.Sequential()\n",
        "model.add(layers.Conv2D(64, (3, 3), padding = 'same', activation='relu', input_shape=(224, 224, 1)))\n",
        "model.add(layers.MaxPooling2D((4, 4)))\n",
        "model.add(layers.Conv2D(64, (3, 3), padding = 'same', activation='relu'))\n",
        "model.add(layers.MaxPooling2D((4, 4)))\n",
        "model.add(layers.Conv2D(64, (3, 3), activation='relu'))\n",
        "model.add(layers.Flatten())\n",
        "model.add(layers.Dense(64, activation='relu'))\n",
        "model.add(layers.Dense(32, activation='relu'))\n",
        "model.add(layers.Dense(3))\n",
        "\n",
        "model.summary()"
      ],
      "execution_count": 7,
      "outputs": [
        {
          "output_type": "stream",
          "text": [
            "Model: \"sequential\"\n",
            "_________________________________________________________________\n",
            "Layer (type)                 Output Shape              Param #   \n",
            "=================================================================\n",
            "conv2d (Conv2D)              (None, 224, 224, 64)      640       \n",
            "_________________________________________________________________\n",
            "max_pooling2d (MaxPooling2D) (None, 56, 56, 64)        0         \n",
            "_________________________________________________________________\n",
            "conv2d_1 (Conv2D)            (None, 56, 56, 64)        36928     \n",
            "_________________________________________________________________\n",
            "max_pooling2d_1 (MaxPooling2 (None, 14, 14, 64)        0         \n",
            "_________________________________________________________________\n",
            "conv2d_2 (Conv2D)            (None, 12, 12, 64)        36928     \n",
            "_________________________________________________________________\n",
            "flatten (Flatten)            (None, 9216)              0         \n",
            "_________________________________________________________________\n",
            "dense (Dense)                (None, 64)                589888    \n",
            "_________________________________________________________________\n",
            "dense_1 (Dense)              (None, 32)                2080      \n",
            "_________________________________________________________________\n",
            "dense_2 (Dense)              (None, 3)                 99        \n",
            "=================================================================\n",
            "Total params: 666,563\n",
            "Trainable params: 666,563\n",
            "Non-trainable params: 0\n",
            "_________________________________________________________________\n"
          ],
          "name": "stdout"
        }
      ]
    },
    {
      "cell_type": "code",
      "metadata": {
        "id": "tiLPBL79v6uh",
        "colab_type": "code",
        "colab": {
          "base_uri": "https://localhost:8080/",
          "height": 357
        },
        "outputId": "f3ec366b-a2df-49bf-f467-f8a1a835c553"
      },
      "source": [
        "model.compile(optimizer='adam',\n",
        "              loss=tf.keras.losses.SparseCategoricalCrossentropy(from_logits=True),\n",
        "              metrics=[\"accuracy\"])\n",
        "\n",
        "history = model.fit(trainX, train_y, epochs=10, \n",
        "                    validation_data=(testX, test_y))"
      ],
      "execution_count": 7,
      "outputs": [
        {
          "output_type": "stream",
          "text": [
            "Epoch 1/10\n",
            "427/427 [==============================] - 355s 830ms/step - loss: 0.5071 - accuracy: 0.7947 - val_loss: 0.4001 - val_accuracy: 0.8490\n",
            "Epoch 2/10\n",
            "427/427 [==============================] - 354s 830ms/step - loss: 0.4094 - accuracy: 0.8470 - val_loss: 0.3750 - val_accuracy: 0.8483\n",
            "Epoch 3/10\n",
            "427/427 [==============================] - 346s 809ms/step - loss: 0.3835 - accuracy: 0.8567 - val_loss: 0.3591 - val_accuracy: 0.8728\n",
            "Epoch 4/10\n",
            "427/427 [==============================] - 345s 809ms/step - loss: 0.3459 - accuracy: 0.8726 - val_loss: 0.3650 - val_accuracy: 0.8642\n",
            "Epoch 5/10\n",
            "427/427 [==============================] - 339s 794ms/step - loss: 0.3177 - accuracy: 0.8806 - val_loss: 0.2931 - val_accuracy: 0.8927\n",
            "Epoch 6/10\n",
            "427/427 [==============================] - 346s 809ms/step - loss: 0.2987 - accuracy: 0.8886 - val_loss: 0.2950 - val_accuracy: 0.8914\n",
            "Epoch 7/10\n",
            "427/427 [==============================] - 355s 832ms/step - loss: 0.2752 - accuracy: 0.8977 - val_loss: 0.2866 - val_accuracy: 0.8967\n",
            "Epoch 8/10\n",
            "427/427 [==============================] - 357s 835ms/step - loss: 0.2548 - accuracy: 0.9088 - val_loss: 0.2818 - val_accuracy: 0.9000\n",
            "Epoch 9/10\n",
            "427/427 [==============================] - 356s 835ms/step - loss: 0.2393 - accuracy: 0.9125 - val_loss: 0.2807 - val_accuracy: 0.9013\n",
            "Epoch 10/10\n",
            "427/427 [==============================] - 358s 839ms/step - loss: 0.2174 - accuracy: 0.9205 - val_loss: 0.2905 - val_accuracy: 0.9013\n"
          ],
          "name": "stdout"
        }
      ]
    },
    {
      "cell_type": "code",
      "metadata": {
        "id": "V0DPp_IJ6jaE",
        "colab_type": "code",
        "colab": {
          "base_uri": "https://localhost:8080/",
          "height": 300
        },
        "outputId": "00eb67fa-4656-4e25-d3ba-4e16440af688"
      },
      "source": [
        "plt.plot(history.history['accuracy'], label='accuracy')\n",
        "plt.plot(history.history['val_accuracy'], label = 'val_accuracy')\n",
        "plt.xlabel('Epoch')\n",
        "plt.ylabel('Accuracy')\n",
        "plt.ylim([0.5, 1])\n",
        "plt.legend(loc='lower right')\n",
        "\n",
        "test_loss, test_acc = model.evaluate(testX,  test_y, verbose=2)"
      ],
      "execution_count": 9,
      "outputs": [
        {
          "output_type": "stream",
          "text": [
            "48/48 - 10s - loss: 0.2905 - accuracy: 0.9013\n"
          ],
          "name": "stdout"
        },
        {
          "output_type": "display_data",
          "data": {
            "image/png": "[encoded data removed]",
            "text/plain": [
              "<Figure size 432x288 with 1 Axes>"
            ]
          },
          "metadata": {
            "tags": [],
            "needs_background": "light"
          }
        }
      ]
    },
    {
      "cell_type": "code",
      "metadata": {
        "id": "TfPriXlxh4OM",
        "colab_type": "code",
        "colab": {}
      },
      "source": [
        "trainY = np.zeros((N, 3))\n",
        "testY = np.zeros((testN, 3))\n",
        "\n",
        "trainY[np.arange(N), train_y] = 1\n",
        "testY[np.arange(testN), test_y] = 1\n"
      ],
      "execution_count": 0,
      "outputs": []
    },
    {
      "cell_type": "code",
      "metadata": {
        "id": "OygIiJ212zjm",
        "colab_type": "code",
        "colab": {
          "base_uri": "https://localhost:8080/",
          "height": 34
        },
        "outputId": "4f994787-e1ab-4f64-f1fd-3d689e837a01"
      },
      "source": [
        "testY.shape"
      ],
      "execution_count": 9,
      "outputs": [
        {
          "output_type": "execute_result",
          "data": {
            "text/plain": [
              "(1510, 3)"
            ]
          },
          "metadata": {
            "tags": []
          },
          "execution_count": 9
        }
      ]
    },
    {
      "cell_type": "code",
      "metadata": {
        "id": "iA1EtR2qhtxd",
        "colab_type": "code",
        "colab": {
          "base_uri": "https://localhost:8080/",
          "height": 357
        },
        "outputId": "8dce1965-5c4b-43c4-81c4-eed89f219fd1"
      },
      "source": [
        "metrics = [\n",
        "           keras.metrics.Accuracy(),\n",
        "           keras.metrics.Precision(),\n",
        "           keras.metrics.Recall()\n",
        "           ]\n",
        "\n",
        "model.compile(optimizer='adam',\n",
        "              loss=tf.keras.losses.SparseCategoricalCrossentropy(from_logits=True),\n",
        "              metrics=['accuracy'])\n",
        "\n",
        "early_stopping = tf.keras.callbacks.EarlyStopping(\n",
        "    monitor='val_accuracy', \n",
        "    verbose=1,\n",
        "    patience=10,\n",
        "    mode='max',\n",
        "    restore_best_weights=True)\n",
        "\n",
        "\n",
        "history = model.fit(trainX, train_y, epochs=10, callbacks=[early_stopping],\n",
        "                    class_weight=class_weights, validation_data=(testX, test_y))"
      ],
      "execution_count": 8,
      "outputs": [
        {
          "output_type": "stream",
          "text": [
            "Epoch 1/10\n",
            "427/427 [==============================] - 360s 844ms/step - loss: 0.1917 - accuracy: 0.6545 - val_loss: 0.6316 - val_accuracy: 0.7530\n",
            "Epoch 2/10\n",
            "427/427 [==============================] - 359s 841ms/step - loss: 0.1500 - accuracy: 0.7599 - val_loss: 0.7745 - val_accuracy: 0.6841\n",
            "Epoch 3/10\n",
            "427/427 [==============================] - 362s 849ms/step - loss: 0.1251 - accuracy: 0.7826 - val_loss: 0.5208 - val_accuracy: 0.8060\n",
            "Epoch 4/10\n",
            "427/427 [==============================] - 359s 841ms/step - loss: 0.1148 - accuracy: 0.7957 - val_loss: 0.5859 - val_accuracy: 0.7821\n",
            "Epoch 5/10\n",
            "427/427 [==============================] - 358s 839ms/step - loss: 0.1004 - accuracy: 0.8110 - val_loss: 0.5291 - val_accuracy: 0.8020\n",
            "Epoch 6/10\n",
            "427/427 [==============================] - 356s 834ms/step - loss: 0.0964 - accuracy: 0.8169 - val_loss: 0.4635 - val_accuracy: 0.8146\n",
            "Epoch 7/10\n",
            "427/427 [==============================] - 356s 834ms/step - loss: 0.0803 - accuracy: 0.8389 - val_loss: 0.3506 - val_accuracy: 0.8755\n",
            "Epoch 8/10\n",
            "427/427 [==============================] - 356s 835ms/step - loss: 0.0751 - accuracy: 0.8436 - val_loss: 0.5027 - val_accuracy: 0.8060\n",
            "Epoch 9/10\n",
            "427/427 [==============================] - 354s 829ms/step - loss: 0.0697 - accuracy: 0.8538 - val_loss: 0.4508 - val_accuracy: 0.8278\n",
            "Epoch 10/10\n",
            "427/427 [==============================] - 359s 841ms/step - loss: 0.0718 - accuracy: 0.8581 - val_loss: 0.3238 - val_accuracy: 0.8868\n"
          ],
          "name": "stdout"
        }
      ]
    },
    {
      "cell_type": "code",
      "metadata": {
        "id": "gQr2IOnr282b",
        "colab_type": "code",
        "colab": {
          "base_uri": "https://localhost:8080/",
          "height": 300
        },
        "outputId": "b1c7a1e7-2d24-4145-85e9-9ee49592201a"
      },
      "source": [
        "plt.plot(history.history['accuracy'], label='accuracy')\n",
        "plt.plot(history.history['val_accuracy'], label = 'val_accuracy')\n",
        "plt.xlabel('Epoch')\n",
        "plt.ylabel('Accuracy')\n",
        "plt.ylim([0.5, 1])\n",
        "plt.legend(loc='lower right')\n"
      ],
      "execution_count": 9,
      "outputs": [
        {
          "output_type": "execute_result",
          "data": {
            "text/plain": [
              "<matplotlib.legend.Legend at 0x7f3223d14b00>"
            ]
          },
          "metadata": {
            "tags": []
          },
          "execution_count": 9
        },
        {
          "output_type": "display_data",
          "data": {
            "image/png": "[encoded data removed]",
            "text/plain": [
              "<Figure size 432x288 with 1 Axes>"
            ]
          },
          "metadata": {
            "tags": [],
            "needs_background": "light"
          }
        }
      ]
    },
    {
      "cell_type": "code",
      "metadata": {
        "id": "hjtYQiMGJhcG",
        "colab_type": "code",
        "colab": {
          "base_uri": "https://localhost:8080/",
          "height": 640
        },
        "outputId": "04bf6ec3-9ba9-4819-84b7-fc1aacac7c42"
      },
      "source": [
        "class_weights = {}\n",
        "class_weights[0] = 1\n",
        "class_weights[1] = 1\n",
        "class_weights[2] = 4\n",
        "\n",
        "model.compile(optimizer='adam',\n",
        "              loss=tf.keras.losses.SparseCategoricalCrossentropy(from_logits=True),\n",
        "              metrics=['accuracy'])\n",
        "\n",
        "\n",
        "history = model.fit(trainX, train_y, epochs=10, callbacks=[early_stopping],\n",
        "                    class_weight=class_weights, validation_data=(testX, test_y))  \n",
        "\n",
        "plt.plot(history.history['accuracy'], label='accuracy')\n",
        "plt.plot(history.history['val_accuracy'], label = 'val_accuracy')\n",
        "plt.xlabel('Epoch')\n",
        "plt.ylabel('Accuracy')\n",
        "plt.ylim([0.5, 1])\n",
        "plt.legend(loc='lower right')\n"
      ],
      "execution_count": 10,
      "outputs": [
        {
          "output_type": "stream",
          "text": [
            "Epoch 1/10\n",
            "427/427 [==============================] - 359s 842ms/step - loss: 0.2997 - accuracy: 0.8897 - val_loss: 0.2971 - val_accuracy: 0.8881\n",
            "Epoch 2/10\n",
            "427/427 [==============================] - 360s 843ms/step - loss: 0.2551 - accuracy: 0.9045 - val_loss: 0.2911 - val_accuracy: 0.8993\n",
            "Epoch 3/10\n",
            "427/427 [==============================] - 358s 839ms/step - loss: 0.2338 - accuracy: 0.9138 - val_loss: 0.3136 - val_accuracy: 0.8980\n",
            "Epoch 4/10\n",
            "427/427 [==============================] - 364s 852ms/step - loss: 0.2207 - accuracy: 0.9216 - val_loss: 0.3816 - val_accuracy: 0.8709\n",
            "Epoch 5/10\n",
            "427/427 [==============================] - 360s 843ms/step - loss: 0.1870 - accuracy: 0.9323 - val_loss: 0.3806 - val_accuracy: 0.8901\n",
            "Epoch 6/10\n",
            "427/427 [==============================] - 361s 846ms/step - loss: 0.1745 - accuracy: 0.9370 - val_loss: 0.4025 - val_accuracy: 0.8775\n",
            "Epoch 7/10\n",
            "427/427 [==============================] - 360s 844ms/step - loss: 0.1568 - accuracy: 0.9433 - val_loss: 0.3534 - val_accuracy: 0.8907\n",
            "Epoch 8/10\n",
            "427/427 [==============================] - 362s 847ms/step - loss: 0.1392 - accuracy: 0.9526 - val_loss: 0.4117 - val_accuracy: 0.8901\n",
            "Epoch 9/10\n",
            "427/427 [==============================] - 363s 851ms/step - loss: 0.1235 - accuracy: 0.9560 - val_loss: 0.5062 - val_accuracy: 0.8735\n",
            "Epoch 10/10\n",
            "427/427 [==============================] - 359s 841ms/step - loss: 0.1052 - accuracy: 0.9622 - val_loss: 0.4904 - val_accuracy: 0.8954\n"
          ],
          "name": "stdout"
        },
        {
          "output_type": "execute_result",
          "data": {
            "text/plain": [
              "<matplotlib.legend.Legend at 0x7f3223eb7e10>"
            ]
          },
          "metadata": {
            "tags": []
          },
          "execution_count": 10
        },
        {
          "output_type": "display_data",
          "data": {
            "image/png": "[encoded data removed]",
            "text/plain": [
              "<Figure size 432x288 with 1 Axes>"
            ]
          },
          "metadata": {
            "tags": [],
            "needs_background": "light"
          }
        }
      ]
    }
  ]
}