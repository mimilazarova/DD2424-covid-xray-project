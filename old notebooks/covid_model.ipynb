{
  "nbformat": 4,
  "nbformat_minor": 0,
  "metadata": {
    "colab": {
      "name": "covid_model",
      "provenance": [],
      "machine_shape": "hm",
      "authorship_tag": "ABX9TyOHHkf0nFPFC0ecdKVnNXZc",
      "include_colab_link": true
    },
    "kernelspec": {
      "name": "python3",
      "display_name": "Python 3"
    },
    "accelerator": "GPU"
  },
  "cells": [
    {
      "cell_type": "markdown",
      "metadata": {
        "id": "view-in-github",
        "colab_type": "text"
      },
      "source": [
        "<a href=\"https://colab.research.google.com/github/mimilazarova/DD2424-covid-xray-project/blob/master/covid_model.ipynb\" target=\"_parent\"><img src=\"https://colab.research.google.com/assets/colab-badge.svg\" alt=\"Open In Colab\"/></a>"
      ]
    },
    {
      "cell_type": "code",
      "metadata": {
        "id": "0y3fW31l6FHu",
        "colab_type": "code",
        "colab": {}
      },
      "source": [
        "import warnings\n",
        "warnings.filterwarnings(\"ignore\", category=FutureWarning)\n",
        "\n",
        "import tensorflow as tf\n",
        "from tensorflow import keras\n",
        "from tensorflow.keras import layers\n",
        "import numpy as np\n",
        "import matplotlib.pyplot as plt\n",
        "import cv2\n",
        "import pickle\n",
        "from sklearn.metrics import confusion_matrix, classification_report\n",
        "from sklearn.model_selection import train_test_split\n",
        "import os"
      ],
      "execution_count": 0,
      "outputs": []
    },
    {
      "cell_type": "code",
      "metadata": {
        "id": "hmPtqE-n7Pnw",
        "colab_type": "code",
        "outputId": "e862d723-f33f-4709-d52e-dc059ff36f33",
        "colab": {
          "base_uri": "https://localhost:8080/",
          "height": 34
        }
      },
      "source": [
        "from google.colab import drive\n",
        "drive.mount('/content/drive')"
      ],
      "execution_count": 0,
      "outputs": [
        {
          "output_type": "stream",
          "text": [
            "Drive already mounted at /content/drive; to attempt to forcibly remount, call drive.mount(\"/content/drive\", force_remount=True).\n"
          ],
          "name": "stdout"
        }
      ]
    },
    {
      "cell_type": "code",
      "metadata": {
        "id": "X50fvOQs7ePw",
        "colab_type": "code",
        "outputId": "4caacdd8-ace2-45d8-a491-d41a273c6607",
        "colab": {
          "base_uri": "https://localhost:8080/",
          "height": 34
        }
      },
      "source": [
        "with open('/content/drive/My Drive/DD2424_Project/data/testX.pickle', 'rb') as f:\n",
        "  testX = pickle.load(f)\n",
        "with open('/content/drive/My Drive/DD2424_Project/data/test_y.pickle', 'rb') as f:\n",
        "  test_y = pickle.load(f)\n",
        "\n",
        "testN = testX.shape[0]\n",
        "testX = testX.reshape((testN, 224, 224, 1))\n",
        "testX.shape"
      ],
      "execution_count": 0,
      "outputs": [
        {
          "output_type": "execute_result",
          "data": {
            "text/plain": [
              "(231, 224, 224, 1)"
            ]
          },
          "metadata": {
            "tags": []
          },
          "execution_count": 3
        }
      ]
    },
    {
      "cell_type": "code",
      "metadata": {
        "id": "eRDOA4A0BLzO",
        "colab_type": "code",
        "outputId": "45be3295-50e3-4ed7-9265-12460b467ec4",
        "colab": {
          "base_uri": "https://localhost:8080/",
          "height": 255
        }
      },
      "source": [
        "dirname = \"/content/drive/My Drive/DD2424_Project/split-80-20-bs16-with-augmentation-weights-1-1-8\"\n",
        "filename = \"model8-3-augmentation-16-0.90-best-network.hdf5\"\n",
        "m = keras.models.load_model(os.path.join(dirname, filename))\n",
        "\n",
        "test_y_pred_m = m.predict(testX)\n",
        "test_y_pred8 = np.argmax(test_y_pred_m, axis=1)\n",
        "\n",
        "conf_matrix = confusion_matrix(test_y, test_y_pred8, labels=[0, 1, 2])\n",
        "print(\"Test set\")\n",
        "print(conf_matrix)\n",
        "print(classification_report(test_y, test_y_pred8, digits=3))"
      ],
      "execution_count": 0,
      "outputs": [
        {
          "output_type": "stream",
          "text": [
            "Test set\n",
            "[[96  2  2]\n",
            " [ 8 88  4]\n",
            " [ 4  1 26]]\n",
            "              precision    recall  f1-score   support\n",
            "\n",
            "           0      0.889     0.960     0.923       100\n",
            "           1      0.967     0.880     0.921       100\n",
            "           2      0.812     0.839     0.825        31\n",
            "\n",
            "    accuracy                          0.909       231\n",
            "   macro avg      0.889     0.893     0.890       231\n",
            "weighted avg      0.912     0.909     0.909       231\n",
            "\n"
          ],
          "name": "stdout"
        }
      ]
    }
  ]
}