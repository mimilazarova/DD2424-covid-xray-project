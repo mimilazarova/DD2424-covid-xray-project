{
  "nbformat": 4,
  "nbformat_minor": 0,
  "metadata": {
    "colab": {
      "name": "Grad-CAM",
      "provenance": [],
      "toc_visible": true,
      "machine_shape": "hm",
      "include_colab_link": true
    },
    "kernelspec": {
      "name": "python3",
      "display_name": "Python 3"
    },
    "accelerator": "GPU"
  },
  "cells": [
    {
      "cell_type": "markdown",
      "metadata": {
        "id": "view-in-github",
        "colab_type": "text"
      },
      "source": [
        "<a href=\"https://colab.research.google.com/github/mimilazarova/DD2424-covid-xray-project/blob/master/Grad_CAM.ipynb\" target=\"_parent\"><img src=\"https://colab.research.google.com/assets/colab-badge.svg\" alt=\"Open In Colab\"/></a>"
      ]
    },
    {
      "cell_type": "code",
      "metadata": {
        "id": "0y3fW31l6FHu",
        "colab_type": "code",
        "colab": {}
      },
      "source": [
        "import warnings\n",
        "warnings.filterwarnings(\"ignore\", category=FutureWarning)\n",
        "\n",
        "import tensorflow as tf\n",
        "from tensorflow import keras\n",
        "from tensorflow.keras import layers\n",
        "import numpy as np\n",
        "import matplotlib.pyplot as plt\n",
        "import cv2\n",
        "import pickle\n",
        "from sklearn.metrics import confusion_matrix, classification_report\n",
        "from sklearn.model_selection import train_test_split\n",
        "import os"
      ],
      "execution_count": 0,
      "outputs": []
    },
    {
      "cell_type": "code",
      "metadata": {
        "id": "hmPtqE-n7Pnw",
        "colab_type": "code",
        "outputId": "77159739-0438-4586-9296-0c8389775655",
        "colab": {
          "base_uri": "https://localhost:8080/",
          "height": 54
        }
      },
      "source": [
        "from google.colab import drive\n",
        "drive.mount('/content/drive')"
      ],
      "execution_count": 0,
      "outputs": [
        {
          "output_type": "stream",
          "text": [
            "Drive already mounted at /content/drive; to attempt to forcibly remount, call drive.mount(\"/content/drive\", force_remount=True).\n"
          ],
          "name": "stdout"
        }
      ]
    },
    {
      "cell_type": "code",
      "metadata": {
        "id": "X50fvOQs7ePw",
        "colab_type": "code",
        "outputId": "e7041c13-05f9-4f85-947a-be7ec3ee5190",
        "colab": {
          "base_uri": "https://localhost:8080/",
          "height": 34
        }
      },
      "source": [
        "with open('/content/drive/My Drive/DD2424_Project/data/testX.pickle', 'rb') as f:\n",
        "  testX = pickle.load(f)\n",
        "with open('/content/drive/My Drive/DD2424_Project/data/test_y.pickle', 'rb') as f:\n",
        "  test_y = pickle.load(f)\n",
        "\n",
        "testN = testX.shape[0]\n",
        "testX = testX.reshape((testN, 224, 224, 1))\n",
        "testX.shape"
      ],
      "execution_count": 0,
      "outputs": [
        {
          "output_type": "execute_result",
          "data": {
            "text/plain": [
              "(231, 224, 224, 1)"
            ]
          },
          "metadata": {
            "tags": []
          },
          "execution_count": 3
        }
      ]
    },
    {
      "cell_type": "code",
      "metadata": {
        "id": "eRDOA4A0BLzO",
        "colab_type": "code",
        "outputId": "2f3f5190-7962-462d-b7c6-41f95001ebce",
        "colab": {
          "base_uri": "https://localhost:8080/",
          "height": 360
        }
      },
      "source": [
        "dirname = \"/content/drive/My Drive/DD2424_Project/split-80-20-bs16-with-augmentation-weights-1-1-8\"\n",
        "filename = \"model8-3-augmentation-16-0.90-best-network.hdf5\"\n",
        "print(os.path.join(dirname, filename))\n",
        "model = keras.models.load_model(os.path.join(dirname, filename))\n",
        "\n",
        "test_y_pred_m = model.predict(testX)\n",
        "test_y_pred8 = np.argmax(test_y_pred_m, axis=1)\n",
        "\n",
        "print(testX.shape)\n",
        "print(test_y.shape)\n",
        "print(test_y_pred_m.shape)\n",
        "print(test_y_pred8.shape)\n",
        "\n",
        "conf_matrix = confusion_matrix(test_y, test_y_pred8, labels=[0, 1, 2])\n",
        "print(\"Test set\")\n",
        "print(conf_matrix)\n",
        "print(classification_report(test_y, test_y_pred8, digits=3))"
      ],
      "execution_count": 0,
      "outputs": [
        {
          "output_type": "stream",
          "text": [
            "/content/drive/My Drive/DD2424_Project/split-80-20-bs16-with-augmentation-weights-1-1-8/model8-3-augmentation-16-0.90-best-network.hdf5\n",
            "(231, 224, 224, 1)\n",
            "(231,)\n",
            "(231, 3)\n",
            "(231,)\n",
            "Test set\n",
            "[[96  2  2]\n",
            " [ 8 88  4]\n",
            " [ 4  1 26]]\n",
            "              precision    recall  f1-score   support\n",
            "\n",
            "           0      0.889     0.960     0.923       100\n",
            "           1      0.967     0.880     0.921       100\n",
            "           2      0.812     0.839     0.825        31\n",
            "\n",
            "    accuracy                          0.909       231\n",
            "   macro avg      0.889     0.893     0.890       231\n",
            "weighted avg      0.912     0.909     0.909       231\n",
            "\n"
          ],
          "name": "stdout"
        }
      ]
    },
    {
      "cell_type": "code",
      "metadata": {
        "id": "TQ8FJ7XR6cgO",
        "colab_type": "code",
        "outputId": "c0109563-42c7-4cb9-ff76-71304f5880a0",
        "colab": {
          "base_uri": "https://localhost:8080/",
          "height": 255
        }
      },
      "source": [
        "filename = \"/content/drive/My Drive/DD2424_Project/model8-16-0.91.hdf5\"\n",
        "model = keras.models.load_model(filename)\n",
        "test_y_pred_m = model.predict(testX)\n",
        "test_y_pred8 = np.argmax(test_y_pred_m, axis=1)\n",
        "\n",
        "conf_matrix = confusion_matrix(test_y, test_y_pred8, labels=[0, 1, 2])\n",
        "print(\"Confusion matrix:\")\n",
        "print(conf_matrix)\n",
        "print(classification_report(test_y, test_y_pred8, digits=3))"
      ],
      "execution_count": 0,
      "outputs": [
        {
          "output_type": "stream",
          "text": [
            "Confusion matrix:\n",
            "[[95  5  0]\n",
            " [11 89  0]\n",
            " [10 13  8]]\n",
            "              precision    recall  f1-score   support\n",
            "\n",
            "           0      0.819     0.950     0.880       100\n",
            "           1      0.832     0.890     0.860       100\n",
            "           2      1.000     0.258     0.410        31\n",
            "\n",
            "    accuracy                          0.831       231\n",
            "   macro avg      0.884     0.699     0.717       231\n",
            "weighted avg      0.849     0.831     0.808       231\n",
            "\n"
          ],
          "name": "stdout"
        }
      ]
    },
    {
      "cell_type": "markdown",
      "metadata": {
        "id": "8j81OVdBARqG",
        "colab_type": "text"
      },
      "source": [
        "# Grad-CAM visualization"
      ]
    },
    {
      "cell_type": "code",
      "metadata": {
        "id": "lrxPW3-TAJH6",
        "colab_type": "code",
        "outputId": "02a51216-137e-4df3-e289-5c2b9ded3c69",
        "colab": {
          "base_uri": "https://localhost:8080/",
          "height": 1000
        }
      },
      "source": [
        "import vis\n",
        "from vis.utils import utils\n",
        "\n",
        "# last layer\n",
        "layer_idx = len(model.layers)-1\n",
        "print(layer_idx)\n",
        "#layer_idx = utils.find_layer_idx(model, 'predictions')\n",
        "model.layers[layer_idx].activation = keras.activations.linear\n",
        "#model = utils.apply_modifications(model)\n",
        "\n",
        "model.summary()"
      ],
      "execution_count": 0,
      "outputs": [
        {
          "output_type": "stream",
          "text": [
            "71\n",
            "Model: \"model_8\"\n",
            "__________________________________________________________________________________________________\n",
            "Layer (type)                    Output Shape         Param #     Connected to                     \n",
            "==================================================================================================\n",
            "input_3 (InputLayer)            [(None, 224, 224, 1) 0                                            \n",
            "__________________________________________________________________________________________________\n",
            "conv2d_40 (Conv2D)              (None, 112, 112, 64) 3200        input_3[0][0]                    \n",
            "__________________________________________________________________________________________________\n",
            "batch_normalization_44 (BatchNo (None, 112, 112, 64) 256         conv2d_40[0][0]                  \n",
            "__________________________________________________________________________________________________\n",
            "activation_32 (Activation)      (None, 112, 112, 64) 0           batch_normalization_44[0][0]     \n",
            "__________________________________________________________________________________________________\n",
            "max_pooling2d_8 (MaxPooling2D)  (None, 56, 56, 64)   0           activation_32[0][0]              \n",
            "__________________________________________________________________________________________________\n",
            "conv2d_42 (Conv2D)              (None, 56, 56, 16)   1040        max_pooling2d_8[0][0]            \n",
            "__________________________________________________________________________________________________\n",
            "batch_normalization_46 (BatchNo (None, 56, 56, 16)   64          conv2d_42[0][0]                  \n",
            "__________________________________________________________________________________________________\n",
            "activation_33 (Activation)      (None, 56, 56, 16)   0           batch_normalization_46[0][0]     \n",
            "__________________________________________________________________________________________________\n",
            "conv2d_43 (Conv2D)              (None, 56, 56, 256)  4352        activation_33[0][0]              \n",
            "__________________________________________________________________________________________________\n",
            "conv2d_41 (Conv2D)              (None, 56, 56, 256)  147712      activation_32[0][0]              \n",
            "__________________________________________________________________________________________________\n",
            "batch_normalization_47 (BatchNo (None, 56, 56, 256)  1024        conv2d_43[0][0]                  \n",
            "__________________________________________________________________________________________________\n",
            "batch_normalization_45 (BatchNo (None, 56, 56, 256)  1024        conv2d_41[0][0]                  \n",
            "__________________________________________________________________________________________________\n",
            "conv2d_45 (Conv2D)              (None, 56, 56, 16)   4112        batch_normalization_47[0][0]     \n",
            "__________________________________________________________________________________________________\n",
            "add_12 (Add)                    (None, 56, 56, 256)  0           batch_normalization_45[0][0]     \n",
            "                                                                 batch_normalization_47[0][0]     \n",
            "__________________________________________________________________________________________________\n",
            "batch_normalization_49 (BatchNo (None, 56, 56, 16)   64          conv2d_45[0][0]                  \n",
            "__________________________________________________________________________________________________\n",
            "activation_34 (Activation)      (None, 56, 56, 256)  0           add_12[0][0]                     \n",
            "__________________________________________________________________________________________________\n",
            "activation_35 (Activation)      (None, 56, 56, 16)   0           batch_normalization_49[0][0]     \n",
            "__________________________________________________________________________________________________\n",
            "conv2d_44 (Conv2D)              (None, 56, 56, 256)  590080      activation_34[0][0]              \n",
            "__________________________________________________________________________________________________\n",
            "conv2d_46 (Conv2D)              (None, 56, 56, 256)  4352        activation_35[0][0]              \n",
            "__________________________________________________________________________________________________\n",
            "batch_normalization_48 (BatchNo (None, 56, 56, 256)  1024        conv2d_44[0][0]                  \n",
            "__________________________________________________________________________________________________\n",
            "batch_normalization_50 (BatchNo (None, 56, 56, 256)  1024        conv2d_46[0][0]                  \n",
            "__________________________________________________________________________________________________\n",
            "add_13 (Add)                    (None, 56, 56, 256)  0           batch_normalization_48[0][0]     \n",
            "                                                                 batch_normalization_50[0][0]     \n",
            "__________________________________________________________________________________________________\n",
            "activation_36 (Activation)      (None, 56, 56, 256)  0           add_13[0][0]                     \n",
            "__________________________________________________________________________________________________\n",
            "max_pooling2d_9 (MaxPooling2D)  (None, 28, 28, 256)  0           activation_36[0][0]              \n",
            "__________________________________________________________________________________________________\n",
            "conv2d_48 (Conv2D)              (None, 28, 28, 32)   8224        max_pooling2d_9[0][0]            \n",
            "__________________________________________________________________________________________________\n",
            "batch_normalization_52 (BatchNo (None, 28, 28, 32)   128         conv2d_48[0][0]                  \n",
            "__________________________________________________________________________________________________\n",
            "activation_37 (Activation)      (None, 28, 28, 32)   0           batch_normalization_52[0][0]     \n",
            "__________________________________________________________________________________________________\n",
            "conv2d_49 (Conv2D)              (None, 28, 28, 512)  16896       activation_37[0][0]              \n",
            "__________________________________________________________________________________________________\n",
            "conv2d_47 (Conv2D)              (None, 28, 28, 512)  1180160     activation_36[0][0]              \n",
            "__________________________________________________________________________________________________\n",
            "batch_normalization_53 (BatchNo (None, 28, 28, 512)  2048        conv2d_49[0][0]                  \n",
            "__________________________________________________________________________________________________\n",
            "batch_normalization_51 (BatchNo (None, 28, 28, 512)  2048        conv2d_47[0][0]                  \n",
            "__________________________________________________________________________________________________\n",
            "conv2d_51 (Conv2D)              (None, 28, 28, 32)   16416       batch_normalization_53[0][0]     \n",
            "__________________________________________________________________________________________________\n",
            "add_14 (Add)                    (None, 28, 28, 512)  0           batch_normalization_51[0][0]     \n",
            "                                                                 batch_normalization_53[0][0]     \n",
            "__________________________________________________________________________________________________\n",
            "batch_normalization_55 (BatchNo (None, 28, 28, 32)   128         conv2d_51[0][0]                  \n",
            "__________________________________________________________________________________________________\n",
            "activation_38 (Activation)      (None, 28, 28, 512)  0           add_14[0][0]                     \n",
            "__________________________________________________________________________________________________\n",
            "activation_39 (Activation)      (None, 28, 28, 32)   0           batch_normalization_55[0][0]     \n",
            "__________________________________________________________________________________________________\n",
            "conv2d_50 (Conv2D)              (None, 28, 28, 512)  2359808     activation_38[0][0]              \n",
            "__________________________________________________________________________________________________\n",
            "conv2d_52 (Conv2D)              (None, 28, 28, 512)  16896       activation_39[0][0]              \n",
            "__________________________________________________________________________________________________\n",
            "batch_normalization_54 (BatchNo (None, 28, 28, 512)  2048        conv2d_50[0][0]                  \n",
            "__________________________________________________________________________________________________\n",
            "batch_normalization_56 (BatchNo (None, 28, 28, 512)  2048        conv2d_52[0][0]                  \n",
            "__________________________________________________________________________________________________\n",
            "add_15 (Add)                    (None, 28, 28, 512)  0           batch_normalization_54[0][0]     \n",
            "                                                                 batch_normalization_56[0][0]     \n",
            "__________________________________________________________________________________________________\n",
            "activation_40 (Activation)      (None, 28, 28, 512)  0           add_15[0][0]                     \n",
            "__________________________________________________________________________________________________\n",
            "max_pooling2d_10 (MaxPooling2D) (None, 14, 14, 512)  0           activation_40[0][0]              \n",
            "__________________________________________________________________________________________________\n",
            "conv2d_54 (Conv2D)              (None, 14, 14, 64)   32832       max_pooling2d_10[0][0]           \n",
            "__________________________________________________________________________________________________\n",
            "batch_normalization_58 (BatchNo (None, 14, 14, 64)   256         conv2d_54[0][0]                  \n",
            "__________________________________________________________________________________________________\n",
            "activation_41 (Activation)      (None, 14, 14, 64)   0           batch_normalization_58[0][0]     \n",
            "__________________________________________________________________________________________________\n",
            "conv2d_55 (Conv2D)              (None, 14, 14, 1024) 66560       activation_41[0][0]              \n",
            "__________________________________________________________________________________________________\n",
            "conv2d_53 (Conv2D)              (None, 14, 14, 1024) 4719616     activation_40[0][0]              \n",
            "__________________________________________________________________________________________________\n",
            "batch_normalization_59 (BatchNo (None, 14, 14, 1024) 4096        conv2d_55[0][0]                  \n",
            "__________________________________________________________________________________________________\n",
            "batch_normalization_57 (BatchNo (None, 14, 14, 1024) 4096        conv2d_53[0][0]                  \n",
            "__________________________________________________________________________________________________\n",
            "conv2d_57 (Conv2D)              (None, 14, 14, 64)   65600       batch_normalization_59[0][0]     \n",
            "__________________________________________________________________________________________________\n",
            "add_16 (Add)                    (None, 14, 14, 1024) 0           batch_normalization_57[0][0]     \n",
            "                                                                 batch_normalization_59[0][0]     \n",
            "__________________________________________________________________________________________________\n",
            "batch_normalization_61 (BatchNo (None, 14, 14, 64)   256         conv2d_57[0][0]                  \n",
            "__________________________________________________________________________________________________\n",
            "activation_42 (Activation)      (None, 14, 14, 1024) 0           add_16[0][0]                     \n",
            "__________________________________________________________________________________________________\n",
            "activation_43 (Activation)      (None, 14, 14, 64)   0           batch_normalization_61[0][0]     \n",
            "__________________________________________________________________________________________________\n",
            "conv2d_56 (Conv2D)              (None, 14, 14, 1024) 9438208     activation_42[0][0]              \n",
            "__________________________________________________________________________________________________\n",
            "conv2d_58 (Conv2D)              (None, 14, 14, 1024) 66560       activation_43[0][0]              \n",
            "__________________________________________________________________________________________________\n",
            "batch_normalization_60 (BatchNo (None, 14, 14, 1024) 4096        conv2d_56[0][0]                  \n",
            "__________________________________________________________________________________________________\n",
            "batch_normalization_62 (BatchNo (None, 14, 14, 1024) 4096        conv2d_58[0][0]                  \n",
            "__________________________________________________________________________________________________\n",
            "add_17 (Add)                    (None, 14, 14, 1024) 0           batch_normalization_60[0][0]     \n",
            "                                                                 batch_normalization_62[0][0]     \n",
            "__________________________________________________________________________________________________\n",
            "activation_44 (Activation)      (None, 14, 14, 1024) 0           add_17[0][0]                     \n",
            "__________________________________________________________________________________________________\n",
            "conv2d_59 (Conv2D)              (None, 14, 14, 512)  4719104     activation_44[0][0]              \n",
            "__________________________________________________________________________________________________\n",
            "batch_normalization_63 (BatchNo (None, 14, 14, 512)  2048        conv2d_59[0][0]                  \n",
            "__________________________________________________________________________________________________\n",
            "activation_45 (Activation)      (None, 14, 14, 512)  0           batch_normalization_63[0][0]     \n",
            "__________________________________________________________________________________________________\n",
            "max_pooling2d_11 (MaxPooling2D) (None, 7, 7, 512)    0           activation_45[0][0]              \n",
            "__________________________________________________________________________________________________\n",
            "flatten_2 (Flatten)             (None, 25088)        0           max_pooling2d_11[0][0]           \n",
            "__________________________________________________________________________________________________\n",
            "dense_4 (Dense)                 (None, 128)          3211392     flatten_2[0][0]                  \n",
            "__________________________________________________________________________________________________\n",
            "batch_normalization_64 (BatchNo (None, 128)          512         dense_4[0][0]                    \n",
            "__________________________________________________________________________________________________\n",
            "activation_46 (Activation)      (None, 128)          0           batch_normalization_64[0][0]     \n",
            "__________________________________________________________________________________________________\n",
            "dense_5 (Dense)                 (None, 3)            387         activation_46[0][0]              \n",
            "__________________________________________________________________________________________________\n",
            "batch_normalization_65 (BatchNo (None, 3)            12          dense_5[0][0]                    \n",
            "__________________________________________________________________________________________________\n",
            "activation_47 (Activation)      (None, 3)            0           batch_normalization_65[0][0]     \n",
            "==================================================================================================\n",
            "Total params: 26,705,903\n",
            "Trainable params: 26,689,705\n",
            "Non-trainable params: 16,198\n",
            "__________________________________________________________________________________________________\n"
          ],
          "name": "stdout"
        },
        {
          "output_type": "stream",
          "text": [
            "Using TensorFlow backend.\n"
          ],
          "name": "stderr"
        }
      ]
    },
    {
      "cell_type": "code",
      "metadata": {
        "id": "y6kaskTYZCU6",
        "colab_type": "code",
        "outputId": "341b5e55-91e9-48de-b181-17597b009d55",
        "colab": {
          "base_uri": "https://localhost:8080/",
          "height": 327
        }
      },
      "source": [
        "!pip install scipy==1.2.0"
      ],
      "execution_count": 0,
      "outputs": [
        {
          "output_type": "stream",
          "text": [
            "Collecting scipy==1.2.0\n",
            "\u001b[?25l  Downloading https://files.pythonhosted.org/packages/67/e6/6d4edaceee6a110ecf6f318482f5229792f143e468b34a631f5a0899f56d/scipy-1.2.0-cp36-cp36m-manylinux1_x86_64.whl (26.6MB)\n",
            "\u001b[K     |████████████████████████████████| 26.6MB 113kB/s \n",
            "\u001b[?25hRequirement already satisfied: numpy>=1.8.2 in /usr/local/lib/python3.6/dist-packages (from scipy==1.2.0) (1.18.4)\n",
            "\u001b[31mERROR: umap-learn 0.4.2 has requirement scipy>=1.3.1, but you'll have scipy 1.2.0 which is incompatible.\u001b[0m\n",
            "\u001b[31mERROR: tensorflow 2.2.0 has requirement scipy==1.4.1; python_version >= \"3\", but you'll have scipy 1.2.0 which is incompatible.\u001b[0m\n",
            "\u001b[31mERROR: albumentations 0.1.12 has requirement imgaug<0.2.7,>=0.2.5, but you'll have imgaug 0.2.9 which is incompatible.\u001b[0m\n",
            "Installing collected packages: scipy\n",
            "  Found existing installation: scipy 1.4.1\n",
            "    Uninstalling scipy-1.4.1:\n",
            "      Successfully uninstalled scipy-1.4.1\n",
            "Successfully installed scipy-1.2.0\n"
          ],
          "name": "stdout"
        },
        {
          "output_type": "display_data",
          "data": {
            "application/vnd.colab-display-data+json": {
              "pip_warning": {
                "packages": [
                  "scipy"
                ]
              }
            }
          },
          "metadata": {
            "tags": []
          }
        }
      ]
    },
    {
      "cell_type": "code",
      "metadata": {
        "id": "gZTyMbr1AWwf",
        "colab_type": "code",
        "outputId": "0443b93a-b5eb-4497-89b7-475cec91a55d",
        "colab": {
          "base_uri": "https://localhost:8080/",
          "height": 34
        }
      },
      "source": [
        "from vis.visualization import visualize_cam\n",
        "penultimate_layer_idx = len(model.layers) - 11 # last conv layer\n",
        "\n",
        "#preds = model.predict(testX)\n",
        "preds = test_y_pred8\n",
        "\n",
        "img_idx = 10\n",
        "grad_top1 = visualize_cam(model, layer_idx, preds[img_idx], testX[img_idx],\n",
        "                         penultimate_layer_idx  = penultimate_layer_idx,\n",
        "                         backprop_modifier      = None,\n",
        "                         grad_modifier          = None)\n",
        "\n",
        "print(grad_top1.shape)"
      ],
      "execution_count": 0,
      "outputs": [
        {
          "output_type": "stream",
          "text": [
            "(224, 224, 3)\n"
          ],
          "name": "stdout"
        }
      ]
    },
    {
      "cell_type": "code",
      "metadata": {
        "id": "mmoEBt4dYIEO",
        "colab_type": "code",
        "outputId": "37ec434b-a22a-4264-8936-ac7f9394638f",
        "colab": {
          "base_uri": "https://localhost:8080/",
          "height": 303
        }
      },
      "source": [
        "import cv2 as cv2\n",
        "\n",
        "def plot_map(grad_top, image, alpha=0.5):\n",
        "  # change image to match grad_top\n",
        "  image = 255*image\n",
        "  image = image.astype('uint8')\n",
        "  image = np.repeat(image, 3, 2)\n",
        "\n",
        "  # superimpose the gard_top over image and plot\n",
        "  final = cv2.addWeighted(grad_top, 0.5, image, 0.5, 0)\n",
        "  plt.imshow(final)\n",
        "  plt.show()\n",
        "\n",
        "plot_map(grad_top1, testX[img_idx], 1)\n",
        "\n",
        "print(test_y[img_idx])\n",
        "print(preds[img_idx])\n",
        "\n",
        "def plot_grad_cam():\n",
        "  plot_map"
      ],
      "execution_count": 0,
      "outputs": [
        {
          "output_type": "display_data",
          "data": {
            "image/png": "[encoded data removed]",
            "text/plain": [
              "<Figure size 432x288 with 1 Axes>"
            ]
          },
          "metadata": {
            "tags": [],
            "needs_background": "light"
          }
        },
        {
          "output_type": "stream",
          "text": [
            "0\n",
            "0\n"
          ],
          "name": "stdout"
        }
      ]
    },
    {
      "cell_type": "code",
      "metadata": {
        "id": "j_EqZmKudyhc",
        "colab_type": "code",
        "colab": {}
      },
      "source": [
        ""
      ],
      "execution_count": 0,
      "outputs": []
    }
  ]
}