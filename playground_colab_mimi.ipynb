{
  "nbformat": 4,
  "nbformat_minor": 0,
  "metadata": {
    "kernelspec": {
      "display_name": "Python 3",
      "language": "python",
      "name": "python3"
    },
    "language_info": {
      "codemirror_mode": {
        "name": "ipython",
        "version": 3
      },
      "file_extension": ".py",
      "mimetype": "text/x-python",
      "name": "python",
      "nbconvert_exporter": "python",
      "pygments_lexer": "ipython3",
      "version": "3.7.5"
    },
    "colab": {
      "name": "playground_colab_mimi.ipynb",
      "provenance": [],
      "machine_shape": "hm",
      "include_colab_link": true
    },
    "accelerator": "GPU"
  },
  "cells": [
    {
      "cell_type": "markdown",
      "metadata": {
        "id": "view-in-github",
        "colab_type": "text"
      },
      "source": [
        "<a href=\"https://colab.research.google.com/github/mimilazarova/DD2424-covid-xray-project/blob/master/playground_colab_mimi.ipynb\" target=\"_parent\"><img src=\"https://colab.research.google.com/assets/colab-badge.svg\" alt=\"Open In Colab\"/></a>"
      ]
    },
    {
      "cell_type": "code",
      "metadata": {
        "id": "lzc7un0tv6uD",
        "colab_type": "code",
        "colab": {}
      },
      "source": [
        "import warnings\n",
        "warnings.filterwarnings(\"ignore\", category=FutureWarning)\n",
        "\n",
        "import tensorflow as tf\n",
        "from tensorflow import keras\n",
        "from tensorflow.keras import layers\n",
        "import numpy as np\n",
        "import matplotlib.pyplot as plt\n",
        "import cv2\n",
        "import pickle\n",
        "from sklearn.metrics import confusion_matrix\n"
      ],
      "execution_count": 0,
      "outputs": []
    },
    {
      "cell_type": "code",
      "metadata": {
        "id": "UDks1pN460vn",
        "colab_type": "code",
        "outputId": "efdf3573-2027-475e-8077-1beaaa448dcf",
        "colab": {
          "base_uri": "https://localhost:8080/",
          "height": 122
        }
      },
      "source": [
        "from google.colab import drive\n",
        "drive.mount('/content/drive')"
      ],
      "execution_count": 3,
      "outputs": [
        {
          "output_type": "stream",
          "text": [
            "Go to this URL in a browser: https://accounts.google.com/o/oauth2/auth?client_id=947318989803-6bn6qk8qdgf4n4g3pfee6491hc0brc4i.apps.googleusercontent.com&redirect_uri=urn%3aietf%3awg%3aoauth%3a2.0%3aoob&response_type=code&scope=email%20https%3a%2f%2fwww.googleapis.com%2fauth%2fdocs.test%20https%3a%2f%2fwww.googleapis.com%2fauth%2fdrive%20https%3a%2f%2fwww.googleapis.com%2fauth%2fdrive.photos.readonly%20https%3a%2f%2fwww.googleapis.com%2fauth%2fpeopleapi.readonly\n",
            "\n",
            "Enter your authorization code:\n",
            "··········\n",
            "Mounted at /content/drive\n"
          ],
          "name": "stdout"
        }
      ]
    },
    {
      "cell_type": "code",
      "metadata": {
        "id": "3djAbcsGv6uO",
        "colab_type": "code",
        "colab": {}
      },
      "source": [
        "\n",
        "with open('/content/drive/My Drive/KTH/Year 1/DD2424 Deep Learning/DD2424_Project/data/trainX1.pickle', 'rb') as f:\n",
        "  X1 = pickle.load(f)\n",
        "with open('/content/drive/My Drive/KTH/Year 1/DD2424 Deep Learning/DD2424_Project/data/trainX2.pickle', 'rb') as f:\n",
        "  X2 = pickle.load(f)\n",
        "\n",
        "trainX = np.concatenate((X1, X2))\n",
        "\n",
        "with open('/content/drive/My Drive/KTH/Year 1/DD2424 Deep Learning/DD2424_Project/data/testX.pickle', 'rb') as f:\n",
        "  testX = pickle.load(f)\n",
        "with open('/content/drive/My Drive/KTH/Year 1/DD2424 Deep Learning/DD2424_Project/data/train_y.pickle', 'rb') as f:\n",
        "  train_y = pickle.load(f)\n",
        "with open('/content/drive/My Drive/KTH/Year 1/DD2424 Deep Learning/DD2424_Project/data/test_y.pickle', 'rb') as f:\n",
        "  test_y = pickle.load(f)\n",
        "\n"
      ],
      "execution_count": 0,
      "outputs": []
    },
    {
      "cell_type": "code",
      "metadata": {
        "id": "Mr78uvnDv6uZ",
        "colab_type": "code",
        "colab": {}
      },
      "source": [
        "N = trainX.shape[0]\n",
        "testN = testX.shape[0]\n",
        "\n",
        "trainX = trainX.reshape((N, 224, 224, 1))\n",
        "testX = testX.reshape((testN, 224, 224, 1))"
      ],
      "execution_count": 0,
      "outputs": []
    },
    {
      "cell_type": "code",
      "metadata": {
        "id": "TfPriXlxh4OM",
        "colab_type": "code",
        "colab": {}
      },
      "source": [
        "# one-hot-encoded vectors, not sure it we need them, the fitting the models with them did not work for me\n",
        "\n",
        "trainY = np.zeros((N, 3))\n",
        "testY = np.zeros((testN, 3))\n",
        "\n",
        "trainY[np.arange(N), train_y] = 1\n",
        "testY[np.arange(testN), test_y] = 1\n"
      ],
      "execution_count": 0,
      "outputs": []
    },
    {
      "cell_type": "code",
      "metadata": {
        "id": "iA1EtR2qhtxd",
        "colab_type": "code",
        "outputId": "988ca8ad-806b-45df-baff-d91e3e479680",
        "colab": {
          "base_uri": "https://localhost:8080/",
          "height": 799
        }
      },
      "source": [
        "model2 = keras.models.Sequential()\n",
        "model2.add(layers.Conv2D(64, (3, 3), padding = 'same', activation='relu', input_shape=(224, 224, 1)))\n",
        "model2.add(layers.MaxPooling2D((4, 4)))\n",
        "model2.add(layers.Conv2D(64, (3, 3), padding = 'same', activation='relu'))\n",
        "model2.add(layers.MaxPooling2D((4, 4)))\n",
        "model2.add(layers.Conv2D(64, (3, 3), activation='relu'))\n",
        "model2.add(layers.Flatten())\n",
        "model2.add(layers.Dense(64, activation='relu'))\n",
        "model2.add(layers.Dense(32, activation='relu'))\n",
        "model2.add(layers.Dense(3))\n",
        "\n",
        "class_weights = {}\n",
        "for c in range(3):\n",
        "  class_weights[c] = 1000/np.sum(train_y==c)\n",
        "  print(class_weights[c])\n",
        "\n",
        "model2.compile(optimizer='adam',\n",
        "              loss=tf.keras.losses.SparseCategoricalCrossentropy(from_logits=True),\n",
        "              metrics=['accuracy'])\n",
        "\n",
        "early_stopping = tf.keras.callbacks.EarlyStopping(\n",
        "    monitor='val_accuracy', \n",
        "    verbose=1,\n",
        "    patience=10,\n",
        "    mode='max',\n",
        "    restore_best_weights=True)\n",
        "\n",
        "\n",
        "history2 = model2.fit(trainX, train_y, epochs=25, callbacks=[early_stopping],\n",
        "                    class_weight=class_weights, validation_data=(testX, test_y))"
      ],
      "execution_count": 0,
      "outputs": [
        {
          "output_type": "stream",
          "text": [
            "Epoch 1/25\n",
            "427/427 [==============================] - 32s 76ms/step - loss: 0.1975 - accuracy: 0.6450 - val_loss: 0.5721 - val_accuracy: 0.8152\n",
            "Epoch 2/25\n",
            "427/427 [==============================] - 32s 75ms/step - loss: 0.1638 - accuracy: 0.7303 - val_loss: 0.5990 - val_accuracy: 0.7974\n",
            "Epoch 3/25\n",
            "427/427 [==============================] - 32s 75ms/step - loss: 0.1561 - accuracy: 0.7463 - val_loss: 0.5656 - val_accuracy: 0.7907\n",
            "Epoch 4/25\n",
            "427/427 [==============================] - 32s 74ms/step - loss: 0.1342 - accuracy: 0.7775 - val_loss: 0.5541 - val_accuracy: 0.8000\n",
            "Epoch 5/25\n",
            "427/427 [==============================] - 32s 74ms/step - loss: 0.1221 - accuracy: 0.7911 - val_loss: 0.4897 - val_accuracy: 0.8212\n",
            "Epoch 6/25\n",
            "427/427 [==============================] - 32s 75ms/step - loss: 0.1077 - accuracy: 0.8057 - val_loss: 0.4883 - val_accuracy: 0.8139\n",
            "Epoch 7/25\n",
            "427/427 [==============================] - 32s 75ms/step - loss: 0.0986 - accuracy: 0.8172 - val_loss: 0.4138 - val_accuracy: 0.8424\n",
            "Epoch 8/25\n",
            "427/427 [==============================] - 32s 74ms/step - loss: 0.1021 - accuracy: 0.8084 - val_loss: 0.7452 - val_accuracy: 0.7007\n",
            "Epoch 9/25\n",
            "427/427 [==============================] - 32s 75ms/step - loss: 0.0810 - accuracy: 0.8386 - val_loss: 0.3993 - val_accuracy: 0.8523\n",
            "Epoch 10/25\n",
            "427/427 [==============================] - 32s 75ms/step - loss: 0.0750 - accuracy: 0.8493 - val_loss: 0.6042 - val_accuracy: 0.7967\n",
            "Epoch 11/25\n",
            "427/427 [==============================] - 32s 75ms/step - loss: 0.0689 - accuracy: 0.8590 - val_loss: 0.4149 - val_accuracy: 0.8536\n",
            "Epoch 12/25\n",
            "427/427 [==============================] - 32s 75ms/step - loss: 0.0613 - accuracy: 0.8708 - val_loss: 0.3507 - val_accuracy: 0.8868\n",
            "Epoch 13/25\n",
            "427/427 [==============================] - 32s 75ms/step - loss: 0.0594 - accuracy: 0.8746 - val_loss: 0.3971 - val_accuracy: 0.8589\n",
            "Epoch 14/25\n",
            "427/427 [==============================] - 32s 75ms/step - loss: 0.0526 - accuracy: 0.8843 - val_loss: 0.4424 - val_accuracy: 0.8689\n",
            "Epoch 15/25\n",
            "427/427 [==============================] - 32s 75ms/step - loss: 0.0491 - accuracy: 0.8914 - val_loss: 0.4174 - val_accuracy: 0.8596\n",
            "Epoch 16/25\n",
            "427/427 [==============================] - 32s 74ms/step - loss: 0.0538 - accuracy: 0.8929 - val_loss: 0.4850 - val_accuracy: 0.8119\n",
            "Epoch 17/25\n",
            "427/427 [==============================] - 32s 75ms/step - loss: 0.0490 - accuracy: 0.8949 - val_loss: 0.3571 - val_accuracy: 0.8821\n",
            "Epoch 18/25\n",
            "427/427 [==============================] - 32s 75ms/step - loss: 0.0376 - accuracy: 0.9177 - val_loss: 0.3974 - val_accuracy: 0.8795\n",
            "Epoch 19/25\n",
            "427/427 [==============================] - 32s 75ms/step - loss: 0.0435 - accuracy: 0.9056 - val_loss: 0.4006 - val_accuracy: 0.8781\n",
            "Epoch 20/25\n",
            "427/427 [==============================] - 32s 75ms/step - loss: 0.0417 - accuracy: 0.9103 - val_loss: 0.4569 - val_accuracy: 0.8609\n",
            "Epoch 21/25\n",
            "427/427 [==============================] - 32s 75ms/step - loss: 0.0316 - accuracy: 0.9268 - val_loss: 0.4590 - val_accuracy: 0.8656\n",
            "Epoch 22/25\n",
            "426/427 [============================>.] - ETA: 0s - loss: 0.0266 - accuracy: 0.9394Restoring model weights from the end of the best epoch.\n",
            "427/427 [==============================] - 32s 75ms/step - loss: 0.0266 - accuracy: 0.9394 - val_loss: 0.4720 - val_accuracy: 0.8728\n",
            "Epoch 00022: early stopping\n"
          ],
          "name": "stdout"
        }
      ]
    },
    {
      "cell_type": "code",
      "metadata": {
        "id": "gQr2IOnr282b",
        "colab_type": "code",
        "outputId": "dbc4d09a-909d-44c5-bc38-14d9cab2f332",
        "colab": {
          "base_uri": "https://localhost:8080/",
          "height": 351
        }
      },
      "source": [
        "plt.plot(history2.history['accuracy'], label='accuracy')\n",
        "plt.plot(history2.history['val_accuracy'], label = 'val_accuracy')\n",
        "plt.xlabel('Epoch')\n",
        "plt.ylabel('Accuracy')\n",
        "plt.ylim([0.5, 1])\n",
        "plt.legend(loc='lower right')\n",
        "\n",
        "test_y_pred_m = model2.predict(testX)\n",
        "test_y_pred2 = np.argmax(test_y_pred_m, axis=1)\n",
        "\n",
        "conf_matrix = confusion_matrix(test_y, test_y_pred2, labels=[0, 1, 2])\n",
        "print(\"Confusion matrix:\")\n",
        "print(conf_matrix)\n"
      ],
      "execution_count": 0,
      "outputs": [
        {
          "output_type": "stream",
          "text": [
            "Confusion matrix:\n",
            "[[814  61  10]\n",
            " [ 77 503  14]\n",
            " [  6   3  22]]\n"
          ],
          "name": "stdout"
        },
        {
          "output_type": "display_data",
          "data": {
            "image/png": "[encoded data removed]",
            "text/plain": [
              "<Figure size 432x288 with 1 Axes>"
            ]
          },
          "metadata": {
            "tags": [],
            "needs_background": "light"
          }
        }
      ]
    },
    {
      "cell_type": "code",
      "metadata": {
        "id": "hjtYQiMGJhcG",
        "colab_type": "code",
        "outputId": "cfc0530f-6caa-48cc-fcbc-1a90f4db3b48",
        "colab": {
          "base_uri": "https://localhost:8080/",
          "height": 1000
        }
      },
      "source": [
        "model3 = keras.models.Sequential()\n",
        "model3.add(layers.Conv2D(64, (3, 3), padding = 'same', activation='relu', input_shape=(224, 224, 1)))\n",
        "model3.add(layers.MaxPooling2D((4, 4)))\n",
        "model3.add(layers.Conv2D(64, (3, 3), padding = 'same', activation='relu'))\n",
        "model3.add(layers.MaxPooling2D((4, 4)))\n",
        "model3.add(layers.Conv2D(64, (3, 3), activation='relu'))\n",
        "model3.add(layers.Flatten())\n",
        "model3.add(layers.Dense(64, activation='relu'))\n",
        "model3.add(layers.Dense(32, activation='relu'))\n",
        "model3.add(layers.Dense(3))\n",
        "\n",
        "class_weights = {}\n",
        "class_weights[0] = 1\n",
        "class_weights[1] = 1\n",
        "class_weights[2] = 4\n",
        "\n",
        "model3.compile(optimizer='adam',\n",
        "              loss=tf.keras.losses.SparseCategoricalCrossentropy(from_logits=True),\n",
        "              metrics=['accuracy'])\n",
        "\n",
        "\n",
        "history3 = model3.fit(trainX, train_y, epochs=25, callbacks=[early_stopping],\n",
        "                    class_weight=class_weights, validation_data=(testX, test_y))  \n",
        "\n",
        "plt.plot(history3.history['accuracy'], label='accuracy')\n",
        "plt.plot(history3.history['val_accuracy'], label = 'val_accuracy')\n",
        "plt.xlabel('Epoch')\n",
        "plt.ylabel('Accuracy')\n",
        "plt.ylim([0.5, 1])\n",
        "plt.legend(loc='lower right')\n",
        "\n",
        "test_y_pred_m = model3.predict(testX)\n",
        "test_y_pred3 = np.argmax(test_y_pred_m, axis=1)\n",
        "\n",
        "conf_matrix = confusion_matrix(test_y, test_y_pred3, labels=[0, 1, 2])\n",
        "print(\"Confusion matrix:\")\n",
        "print(conf_matrix)\n"
      ],
      "execution_count": 0,
      "outputs": [
        {
          "output_type": "stream",
          "text": [
            "Epoch 1/25\n",
            "427/427 [==============================] - 33s 76ms/step - loss: 0.6783 - accuracy: 0.7821 - val_loss: 0.4229 - val_accuracy: 0.8377\n",
            "Epoch 2/25\n",
            "427/427 [==============================] - 33s 76ms/step - loss: 0.5182 - accuracy: 0.8412 - val_loss: 0.3678 - val_accuracy: 0.8583\n",
            "Epoch 3/25\n",
            "427/427 [==============================] - 33s 76ms/step - loss: 0.4461 - accuracy: 0.8565 - val_loss: 0.3802 - val_accuracy: 0.8470\n",
            "Epoch 4/25\n",
            "427/427 [==============================] - 33s 76ms/step - loss: 0.3855 - accuracy: 0.8750 - val_loss: 0.3009 - val_accuracy: 0.8967\n",
            "Epoch 5/25\n",
            "427/427 [==============================] - 32s 76ms/step - loss: 0.3561 - accuracy: 0.8838 - val_loss: 0.3479 - val_accuracy: 0.8762\n",
            "Epoch 6/25\n",
            "427/427 [==============================] - 32s 76ms/step - loss: 0.3237 - accuracy: 0.8935 - val_loss: 0.3293 - val_accuracy: 0.8801\n",
            "Epoch 7/25\n",
            "427/427 [==============================] - 33s 77ms/step - loss: 0.2910 - accuracy: 0.9051 - val_loss: 0.4041 - val_accuracy: 0.8589\n",
            "Epoch 8/25\n",
            "427/427 [==============================] - 32s 76ms/step - loss: 0.2789 - accuracy: 0.9020 - val_loss: 0.2970 - val_accuracy: 0.8927\n",
            "Epoch 9/25\n",
            "427/427 [==============================] - 33s 76ms/step - loss: 0.2368 - accuracy: 0.9191 - val_loss: 0.3333 - val_accuracy: 0.8821\n",
            "Epoch 10/25\n",
            "427/427 [==============================] - 32s 76ms/step - loss: 0.2056 - accuracy: 0.9302 - val_loss: 0.3466 - val_accuracy: 0.8987\n",
            "Epoch 11/25\n",
            "427/427 [==============================] - 32s 76ms/step - loss: 0.1933 - accuracy: 0.9328 - val_loss: 0.3576 - val_accuracy: 0.8921\n",
            "Epoch 12/25\n",
            "427/427 [==============================] - 33s 76ms/step - loss: 0.1700 - accuracy: 0.9424 - val_loss: 0.3754 - val_accuracy: 0.8881\n",
            "Epoch 13/25\n",
            "427/427 [==============================] - 32s 76ms/step - loss: 0.1555 - accuracy: 0.9456 - val_loss: 0.3805 - val_accuracy: 0.8914\n",
            "Epoch 14/25\n",
            "427/427 [==============================] - 32s 76ms/step - loss: 0.1347 - accuracy: 0.9537 - val_loss: 0.4271 - val_accuracy: 0.8881\n",
            "Epoch 15/25\n",
            "427/427 [==============================] - 32s 76ms/step - loss: 0.1225 - accuracy: 0.9577 - val_loss: 0.4946 - val_accuracy: 0.8868\n",
            "Epoch 16/25\n",
            "427/427 [==============================] - 33s 76ms/step - loss: 0.1150 - accuracy: 0.9600 - val_loss: 0.4969 - val_accuracy: 0.8742\n",
            "Epoch 17/25\n",
            "427/427 [==============================] - 32s 76ms/step - loss: 0.1082 - accuracy: 0.9637 - val_loss: 0.4900 - val_accuracy: 0.8795\n",
            "Epoch 18/25\n",
            "427/427 [==============================] - 32s 75ms/step - loss: 0.0841 - accuracy: 0.9711 - val_loss: 0.5776 - val_accuracy: 0.8907\n",
            "Epoch 19/25\n",
            "427/427 [==============================] - 32s 76ms/step - loss: 0.1035 - accuracy: 0.9645 - val_loss: 0.6223 - val_accuracy: 0.8735\n",
            "Epoch 20/25\n",
            "426/427 [============================>.] - ETA: 0s - loss: 0.0786 - accuracy: 0.9737Restoring model weights from the end of the best epoch.\n",
            "427/427 [==============================] - 32s 76ms/step - loss: 0.0787 - accuracy: 0.9736 - val_loss: 0.6696 - val_accuracy: 0.8781\n",
            "Epoch 00020: early stopping\n",
            "Confusion matrix:\n",
            "[[811  70   4]\n",
            " [ 61 529   4]\n",
            " [  8   6  17]]\n"
          ],
          "name": "stdout"
        },
        {
          "output_type": "display_data",
          "data": {
            "image/png": "[encoded data removed]",
            "text/plain": [
              "<Figure size 432x288 with 1 Axes>"
            ]
          },
          "metadata": {
            "tags": [],
            "needs_background": "light"
          }
        }
      ]
    },
    {
      "cell_type": "code",
      "metadata": {
        "id": "tPv0E9ANDX3g",
        "colab_type": "code",
        "colab": {
          "base_uri": "https://localhost:8080/",
          "height": 1000
        },
        "outputId": "c6887c0a-036d-433a-96e4-87975da1ce8a"
      },
      "source": [
        "X_input = layers.Input((224, 224, 1))\n",
        "\n",
        "X = layers.Conv2D(64, (7, 7), strides=(2, 2), padding = 'same', activation='elu', kernel_initializer='he_normal')(X_input)\n",
        "\n",
        "X1 = layers.Conv2D(256, (3, 3), strides=(2, 2), padding='same', activation='elu', kernel_initializer='he_normal')(X)\n",
        "\n",
        "pepx1 = layers.Conv2D(16, (1, 1), padding='same', activation='elu', kernel_initializer='he_normal')(X1)\n",
        "pepx1 = layers.Conv2D(256, (1, 1), padding='same', activation='elu', kernel_initializer='he_normal')(pepx1)\n",
        "pepx1 = layers.DepthwiseConv2D(16, (1, 1), padding='same', activation='elu', kernel_initializer='he_normal')(pepx1)\n",
        "pepx1 = layers.Conv2D(16, (1, 1), padding='same', activation='elu', kernel_initializer='he_normal')(pepx1)\n",
        "pepx1 = layers.Conv2D(256, (1, 1), padding='same', activation='elu', kernel_initializer='he_normal')(pepx1)\n",
        "\n",
        "X = layers.Add()([pepx1, X1])\n",
        "\n",
        "X2 = layers.Conv2D(256, (3, 3), strides=(2, 2), padding='same', activation='elu', kernel_initializer='he_normal')(X)\n",
        "\n",
        "pepx2 = layers.Conv2D(16, (1, 1), padding='same', activation='elu', kernel_initializer='he_normal')(X2)\n",
        "pepx2 = layers.Conv2D(256, (1, 1), padding='same', activation='elu', kernel_initializer='he_normal')(pepx2)\n",
        "pepx2 = layers.DepthwiseConv2D(16, (1, 1), padding='same', activation='elu', kernel_initializer='he_normal')(pepx2)\n",
        "pepx2 = layers.Conv2D(16, (1, 1), padding='same', activation='elu', kernel_initializer='he_normal')(pepx2)\n",
        "pepx2 = layers.Conv2D(256, (1, 1), padding='same', activation='elu', kernel_initializer='he_normal')(pepx2)\n",
        "\n",
        "\n",
        "X = layers.Add()([pepx2, X2])\n",
        "X3 = layers.Conv2D(256, (3, 3), strides=(2, 2), padding='same', activation='elu', kernel_initializer='he_normal')(X)\n",
        "\n",
        "pepx3 = layers.Conv2D(16, (1, 1), padding='same', activation='elu', kernel_initializer='he_normal')(X3)\n",
        "pepx3 = layers.Conv2D(256, (1, 1), padding='same', activation='elu', kernel_initializer='he_normal')(pepx3)\n",
        "pepx3 = layers.DepthwiseConv2D(16, (1, 1), padding='same', activation='elu', kernel_initializer='he_normal')(pepx3)\n",
        "pepx3 = layers.Conv2D(16, (1, 1), padding='same', activation='elu', kernel_initializer='he_normal')(pepx3)\n",
        "pepx3 = layers.Conv2D(256, (1, 1), padding='same', activation='elu', kernel_initializer='he_normal')(pepx3)\n",
        "\n",
        "X = layers.Flatten()(pepx3)\n",
        "X = layers.Dense(128, activation='elu', kernel_initializer='he_normal')(X)\n",
        "X = layers.Dense(32, activation='elu', kernel_initializer='he_normal')(X)\n",
        "X = layers.Dense(3, activation='softmax', kernel_initializer='he_normal')(X)\n",
        "\n",
        "model5 = keras.models.Model(inputs=X_input, outputs=X)\n",
        "model5.summary()"
      ],
      "execution_count": 21,
      "outputs": [
        {
          "output_type": "stream",
          "text": [
            "Model: \"model_5\"\n",
            "__________________________________________________________________________________________________\n",
            "Layer (type)                    Output Shape         Param #     Connected to                     \n",
            "==================================================================================================\n",
            "input_6 (InputLayer)            [(None, 224, 224, 1) 0                                            \n",
            "__________________________________________________________________________________________________\n",
            "conv2d_80 (Conv2D)              (None, 112, 112, 64) 3200        input_6[0][0]                    \n",
            "__________________________________________________________________________________________________\n",
            "conv2d_81 (Conv2D)              (None, 56, 56, 256)  147712      conv2d_80[0][0]                  \n",
            "__________________________________________________________________________________________________\n",
            "conv2d_82 (Conv2D)              (None, 56, 56, 16)   4112        conv2d_81[0][0]                  \n",
            "__________________________________________________________________________________________________\n",
            "conv2d_83 (Conv2D)              (None, 56, 56, 256)  4352        conv2d_82[0][0]                  \n",
            "__________________________________________________________________________________________________\n",
            "depthwise_conv2d_15 (DepthwiseC (None, 56, 56, 256)  65792       conv2d_83[0][0]                  \n",
            "__________________________________________________________________________________________________\n",
            "conv2d_84 (Conv2D)              (None, 56, 56, 16)   4112        depthwise_conv2d_15[0][0]        \n",
            "__________________________________________________________________________________________________\n",
            "conv2d_85 (Conv2D)              (None, 56, 56, 256)  4352        conv2d_84[0][0]                  \n",
            "__________________________________________________________________________________________________\n",
            "add_10 (Add)                    (None, 56, 56, 256)  0           conv2d_85[0][0]                  \n",
            "                                                                 conv2d_81[0][0]                  \n",
            "__________________________________________________________________________________________________\n",
            "conv2d_86 (Conv2D)              (None, 28, 28, 256)  590080      add_10[0][0]                     \n",
            "__________________________________________________________________________________________________\n",
            "conv2d_87 (Conv2D)              (None, 28, 28, 16)   4112        conv2d_86[0][0]                  \n",
            "__________________________________________________________________________________________________\n",
            "conv2d_88 (Conv2D)              (None, 28, 28, 256)  4352        conv2d_87[0][0]                  \n",
            "__________________________________________________________________________________________________\n",
            "depthwise_conv2d_16 (DepthwiseC (None, 28, 28, 256)  65792       conv2d_88[0][0]                  \n",
            "__________________________________________________________________________________________________\n",
            "conv2d_89 (Conv2D)              (None, 28, 28, 16)   4112        depthwise_conv2d_16[0][0]        \n",
            "__________________________________________________________________________________________________\n",
            "conv2d_90 (Conv2D)              (None, 28, 28, 256)  4352        conv2d_89[0][0]                  \n",
            "__________________________________________________________________________________________________\n",
            "add_11 (Add)                    (None, 28, 28, 256)  0           conv2d_90[0][0]                  \n",
            "                                                                 conv2d_86[0][0]                  \n",
            "__________________________________________________________________________________________________\n",
            "conv2d_91 (Conv2D)              (None, 14, 14, 256)  590080      add_11[0][0]                     \n",
            "__________________________________________________________________________________________________\n",
            "conv2d_92 (Conv2D)              (None, 14, 14, 16)   4112        conv2d_91[0][0]                  \n",
            "__________________________________________________________________________________________________\n",
            "conv2d_93 (Conv2D)              (None, 14, 14, 256)  4352        conv2d_92[0][0]                  \n",
            "__________________________________________________________________________________________________\n",
            "depthwise_conv2d_17 (DepthwiseC (None, 14, 14, 256)  65792       conv2d_93[0][0]                  \n",
            "__________________________________________________________________________________________________\n",
            "conv2d_94 (Conv2D)              (None, 14, 14, 16)   4112        depthwise_conv2d_17[0][0]        \n",
            "__________________________________________________________________________________________________\n",
            "conv2d_95 (Conv2D)              (None, 14, 14, 256)  4352        conv2d_94[0][0]                  \n",
            "__________________________________________________________________________________________________\n",
            "flatten_5 (Flatten)             (None, 50176)        0           conv2d_95[0][0]                  \n",
            "__________________________________________________________________________________________________\n",
            "dense_15 (Dense)                (None, 128)          6422656     flatten_5[0][0]                  \n",
            "__________________________________________________________________________________________________\n",
            "dense_16 (Dense)                (None, 32)           4128        dense_15[0][0]                   \n",
            "__________________________________________________________________________________________________\n",
            "dense_17 (Dense)                (None, 3)            99          dense_16[0][0]                   \n",
            "==================================================================================================\n",
            "Total params: 8,006,115\n",
            "Trainable params: 8,006,115\n",
            "Non-trainable params: 0\n",
            "__________________________________________________________________________________________________\n"
          ],
          "name": "stdout"
        }
      ]
    },
    {
      "cell_type": "code",
      "metadata": {
        "id": "9o08qhcoHhjG",
        "colab_type": "code",
        "colab": {}
      },
      "source": [
        "class_weights = {}\n",
        "for c in range(3):\n",
        "  class_weights[c] = np.sum(train_y==(2-c))/N\n",
        "  print(class_weights[c])\n",
        "\n",
        "early_stopping = tf.keras.callbacks.EarlyStopping(\n",
        "    monitor='val_accuracy', \n",
        "    verbose=1,\n",
        "    patience=10,\n",
        "    mode='max',\n",
        "    restore_best_weights=True)\n",
        "\n",
        "\n",
        "model5.compile(optimizer='adam',\n",
        "              loss=tf.keras.losses.SparseCategoricalCrossentropy(from_logits=True),\n",
        "              metrics=['accuracy'])\n",
        "\n",
        "\n",
        "history5 = model5.fit(trainX, train_y, epochs=5, callbacks=[early_stopping],\n",
        "                    class_weight=class_weights, validation_data=(testX, test_y))  \n",
        "\n",
        "plt.plot(history5.history['accuracy'], label='accuracy')\n",
        "plt.plot(history5.history['val_accuracy'], label = 'val_accuracy')\n",
        "plt.xlabel('Epoch')\n",
        "plt.ylabel('Accuracy')\n",
        "plt.ylim([0.5, 1])\n",
        "plt.legend(loc='lower right')\n",
        "\n",
        "test_y_pred_m = model5.predict(testX)\n",
        "test_y_pred5 = np.argmax(test_y_pred_m, axis=1)\n",
        "\n",
        "conf_matrix = confusion_matrix(test_y, test_y_pred5, labels=[0, 1, 2])\n",
        "print(\"Confusion matrix:\")\n",
        "print(conf_matrix)\n",
        "\n"
      ],
      "execution_count": 0,
      "outputs": []
    },
    {
      "cell_type": "code",
      "metadata": {
        "id": "7OEXi-HqFRzE",
        "colab_type": "code",
        "colab": {
          "base_uri": "https://localhost:8080/",
          "height": 153
        },
        "outputId": "6bce8f4b-f275-4538-f711-fbfeccc8de97"
      },
      "source": [
        "N = train_y.shape[0]\n",
        "testN = test_y.shape[0]\n",
        "for c in range(3):\n",
        "  print(np.sum(test_y==c)/testN)\n",
        "print(\"\\n\")\n",
        "for c in range(3):\n",
        "  print(np.sum(train_y==c)/N)"
      ],
      "execution_count": 7,
      "outputs": [
        {
          "output_type": "stream",
          "text": [
            "0.5860927152317881\n",
            "0.3933774834437086\n",
            "0.02052980132450331\n",
            "\n",
            "\n",
            "0.5840175953079179\n",
            "0.399633431085044\n",
            "0.016348973607038124\n"
          ],
          "name": "stdout"
        }
      ]
    },
    {
      "cell_type": "code",
      "metadata": {
        "colab_type": "code",
        "outputId": "64a943b2-dc27-4c8b-cd10-e126397458fc",
        "id": "PaHuu7oY4ZLN",
        "colab": {
          "base_uri": "https://localhost:8080/",
          "height": 1000
        }
      },
      "source": [
        "X_input = layers.Input((224, 224, 1))\n",
        "\n",
        "X = layers.Conv2D(64, (7, 7), strides=(2, 2), padding = 'same', kernel_initializer='he_uniform')(X_input)\n",
        "X = layers.BatchNormalization()(X)\n",
        "X = layers.Activation('relu')(X)\n",
        "\n",
        "X1 = layers.Conv2D(256, (3, 3), strides=(2, 2), padding='same', kernel_initializer='he_uniform')(X)\n",
        "X1 = layers.BatchNormalization()(X1)\n",
        "\n",
        "b1 = layers.MaxPool2D((2,2))(X) \n",
        "b1 = layers.Conv2D(16, (1, 1), padding='same', kernel_initializer='he_uniform')(b1)\n",
        "b1 = layers.BatchNormalization()(b1)\n",
        "b1 = layers.Activation('relu')(b1)\n",
        "b1 = layers.Conv2D(256, (1, 1), padding='same', kernel_initializer='he_uniform')(b1)\n",
        "b1 = layers.BatchNormalization()(b1)\n",
        "\n",
        "\n",
        "X = layers.Add()([X1, b1])\n",
        "X = layers.Activation('relu')(X)\n",
        "\n",
        "X2 = layers.Conv2D(512, (3, 3), strides=(2, 2), padding='same', kernel_initializer='he_normal')(X)\n",
        "X2 = layers.BatchNormalization()(X2)\n",
        "\n",
        "b2 = layers.MaxPool2D((2,2))(X) \n",
        "b2 = layers.Conv2D(32, (1, 1), padding='same', kernel_initializer='he_uniform')(b2)\n",
        "b2 = layers.BatchNormalization()(b2)\n",
        "b2 = layers.Activation('relu')(b2)\n",
        "b2 = layers.Conv2D(512, (1, 1), padding='same',  kernel_initializer='he_uniform')(b2)\n",
        "b2 = layers.BatchNormalization()(b2)\n",
        "\n",
        "\n",
        "X = layers.Add()([X2, b2])\n",
        "X = layers.Activation('relu')(X)\n",
        "X = layers.Conv2D(512, (3, 3), padding='same', kernel_initializer='he_uniform')(X)\n",
        "X = layers.BatchNormalization()(X)\n",
        "X = layers.Activation('relu')(X)\n",
        "X = layers.MaxPool2D(2, 2)(X)\n",
        "\n",
        "X = layers.Flatten()(X)\n",
        "X = layers.Dense(128, kernel_initializer='he_uniform')(X)\n",
        "X = layers.BatchNormalization()(X)\n",
        "X = layers.Activation('relu')(X)\n",
        "X = layers.Dense(3,kernel_initializer='he_uniform')(X)\n",
        "X = layers.BatchNormalization()(X)\n",
        "X = layers.Activation('softmax')(X)\n",
        "\n",
        "model6 = keras.models.Model(inputs=X_input, outputs=X, name='model_6')\n",
        "model6.summary()"
      ],
      "execution_count": 8,
      "outputs": [
        {
          "output_type": "stream",
          "text": [
            "Model: \"model_6\"\n",
            "__________________________________________________________________________________________________\n",
            "Layer (type)                    Output Shape         Param #     Connected to                     \n",
            "==================================================================================================\n",
            "input_1 (InputLayer)            [(None, 224, 224, 1) 0                                            \n",
            "__________________________________________________________________________________________________\n",
            "conv2d (Conv2D)                 (None, 112, 112, 64) 3200        input_1[0][0]                    \n",
            "__________________________________________________________________________________________________\n",
            "batch_normalization (BatchNorma (None, 112, 112, 64) 256         conv2d[0][0]                     \n",
            "__________________________________________________________________________________________________\n",
            "activation (Activation)         (None, 112, 112, 64) 0           batch_normalization[0][0]        \n",
            "__________________________________________________________________________________________________\n",
            "max_pooling2d (MaxPooling2D)    (None, 56, 56, 64)   0           activation[0][0]                 \n",
            "__________________________________________________________________________________________________\n",
            "conv2d_2 (Conv2D)               (None, 56, 56, 16)   1040        max_pooling2d[0][0]              \n",
            "__________________________________________________________________________________________________\n",
            "batch_normalization_2 (BatchNor (None, 56, 56, 16)   64          conv2d_2[0][0]                   \n",
            "__________________________________________________________________________________________________\n",
            "activation_1 (Activation)       (None, 56, 56, 16)   0           batch_normalization_2[0][0]      \n",
            "__________________________________________________________________________________________________\n",
            "conv2d_1 (Conv2D)               (None, 56, 56, 256)  147712      activation[0][0]                 \n",
            "__________________________________________________________________________________________________\n",
            "conv2d_3 (Conv2D)               (None, 56, 56, 256)  4352        activation_1[0][0]               \n",
            "__________________________________________________________________________________________________\n",
            "batch_normalization_1 (BatchNor (None, 56, 56, 256)  1024        conv2d_1[0][0]                   \n",
            "__________________________________________________________________________________________________\n",
            "batch_normalization_3 (BatchNor (None, 56, 56, 256)  1024        conv2d_3[0][0]                   \n",
            "__________________________________________________________________________________________________\n",
            "add (Add)                       (None, 56, 56, 256)  0           batch_normalization_1[0][0]      \n",
            "                                                                 batch_normalization_3[0][0]      \n",
            "__________________________________________________________________________________________________\n",
            "activation_2 (Activation)       (None, 56, 56, 256)  0           add[0][0]                        \n",
            "__________________________________________________________________________________________________\n",
            "max_pooling2d_1 (MaxPooling2D)  (None, 28, 28, 256)  0           activation_2[0][0]               \n",
            "__________________________________________________________________________________________________\n",
            "conv2d_5 (Conv2D)               (None, 28, 28, 32)   8224        max_pooling2d_1[0][0]            \n",
            "__________________________________________________________________________________________________\n",
            "batch_normalization_5 (BatchNor (None, 28, 28, 32)   128         conv2d_5[0][0]                   \n",
            "__________________________________________________________________________________________________\n",
            "activation_3 (Activation)       (None, 28, 28, 32)   0           batch_normalization_5[0][0]      \n",
            "__________________________________________________________________________________________________\n",
            "conv2d_4 (Conv2D)               (None, 28, 28, 512)  1180160     activation_2[0][0]               \n",
            "__________________________________________________________________________________________________\n",
            "conv2d_6 (Conv2D)               (None, 28, 28, 512)  16896       activation_3[0][0]               \n",
            "__________________________________________________________________________________________________\n",
            "batch_normalization_4 (BatchNor (None, 28, 28, 512)  2048        conv2d_4[0][0]                   \n",
            "__________________________________________________________________________________________________\n",
            "batch_normalization_6 (BatchNor (None, 28, 28, 512)  2048        conv2d_6[0][0]                   \n",
            "__________________________________________________________________________________________________\n",
            "add_1 (Add)                     (None, 28, 28, 512)  0           batch_normalization_4[0][0]      \n",
            "                                                                 batch_normalization_6[0][0]      \n",
            "__________________________________________________________________________________________________\n",
            "activation_4 (Activation)       (None, 28, 28, 512)  0           add_1[0][0]                      \n",
            "__________________________________________________________________________________________________\n",
            "conv2d_7 (Conv2D)               (None, 28, 28, 512)  2359808     activation_4[0][0]               \n",
            "__________________________________________________________________________________________________\n",
            "batch_normalization_7 (BatchNor (None, 28, 28, 512)  2048        conv2d_7[0][0]                   \n",
            "__________________________________________________________________________________________________\n",
            "activation_5 (Activation)       (None, 28, 28, 512)  0           batch_normalization_7[0][0]      \n",
            "__________________________________________________________________________________________________\n",
            "max_pooling2d_2 (MaxPooling2D)  (None, 14, 14, 512)  0           activation_5[0][0]               \n",
            "__________________________________________________________________________________________________\n",
            "flatten (Flatten)               (None, 100352)       0           max_pooling2d_2[0][0]            \n",
            "__________________________________________________________________________________________________\n",
            "dense (Dense)                   (None, 128)          12845184    flatten[0][0]                    \n",
            "__________________________________________________________________________________________________\n",
            "batch_normalization_8 (BatchNor (None, 128)          512         dense[0][0]                      \n",
            "__________________________________________________________________________________________________\n",
            "activation_6 (Activation)       (None, 128)          0           batch_normalization_8[0][0]      \n",
            "__________________________________________________________________________________________________\n",
            "dense_1 (Dense)                 (None, 3)            387         activation_6[0][0]               \n",
            "__________________________________________________________________________________________________\n",
            "batch_normalization_9 (BatchNor (None, 3)            12          dense_1[0][0]                    \n",
            "__________________________________________________________________________________________________\n",
            "activation_7 (Activation)       (None, 3)            0           batch_normalization_9[0][0]      \n",
            "==================================================================================================\n",
            "Total params: 16,576,127\n",
            "Trainable params: 16,571,545\n",
            "Non-trainable params: 4,582\n",
            "__________________________________________________________________________________________________\n"
          ],
          "name": "stdout"
        }
      ]
    },
    {
      "cell_type": "code",
      "metadata": {
        "colab_type": "code",
        "outputId": "1c05b4d3-a930-4bd5-baf4-7872ee6fcaa5",
        "id": "JVAuzkyV7hV7",
        "colab": {
          "base_uri": "https://localhost:8080/",
          "height": 697
        }
      },
      "source": [
        "class_weights = {}\n",
        "# for c in range(3):\n",
        "#   class_weights[c] = 1000/np.sum(train_y==c)\n",
        "#   print(class_weights[c])\n",
        "class_weights[0] = 1\n",
        "class_weights[1] = 2\n",
        "class_weights[2] = 8\n",
        "\n",
        "early_stopping = keras.callbacks.EarlyStopping(\n",
        "    monitor='val_accuracy', \n",
        "    verbose=1,\n",
        "    patience=10,\n",
        "    mode='max',\n",
        "    restore_best_weights=True)\n",
        "\n",
        "\n",
        "model6.compile(optimizer='adam',\n",
        "              loss=tf.keras.losses.SparseCategoricalCrossentropy(from_logits=True),\n",
        "              metrics=['accuracy'])\n",
        "\n",
        "\n",
        "history6 = model6.fit(trainX, train_y, batch_size=8, epochs=25, callbacks=[early_stopping],\n",
        "                    class_weight=class_weights, validation_data=(testX, test_y))  \n",
        "\n"
      ],
      "execution_count": 9,
      "outputs": [
        {
          "output_type": "stream",
          "text": [
            "Epoch 1/25\n",
            "1705/1705 [==============================] - 56s 33ms/step - loss: 1.2713 - accuracy: 0.7567 - val_loss: 0.7875 - val_accuracy: 0.7841\n",
            "Epoch 2/25\n",
            "1705/1705 [==============================] - 55s 32ms/step - loss: 1.1539 - accuracy: 0.8185 - val_loss: 0.9528 - val_accuracy: 0.6238\n",
            "Epoch 3/25\n",
            "1705/1705 [==============================] - 55s 32ms/step - loss: 1.1089 - accuracy: 0.8375 - val_loss: 0.8717 - val_accuracy: 0.6649\n",
            "Epoch 4/25\n",
            "1705/1705 [==============================] - 55s 32ms/step - loss: 1.0777 - accuracy: 0.8526 - val_loss: 0.6714 - val_accuracy: 0.8815\n",
            "Epoch 5/25\n",
            "1705/1705 [==============================] - 55s 32ms/step - loss: 1.0618 - accuracy: 0.8576 - val_loss: 0.7314 - val_accuracy: 0.8291\n",
            "Epoch 6/25\n",
            "1705/1705 [==============================] - 55s 32ms/step - loss: 1.0443 - accuracy: 0.8658 - val_loss: 0.6608 - val_accuracy: 0.8921\n",
            "Epoch 7/25\n",
            "1705/1705 [==============================] - 55s 32ms/step - loss: 1.0252 - accuracy: 0.8746 - val_loss: 0.8358 - val_accuracy: 0.6974\n",
            "Epoch 8/25\n",
            "1705/1705 [==============================] - 55s 32ms/step - loss: 1.0102 - accuracy: 0.8809 - val_loss: 0.6679 - val_accuracy: 0.8881\n",
            "Epoch 9/25\n",
            "1705/1705 [==============================] - 55s 32ms/step - loss: 0.9933 - accuracy: 0.8960 - val_loss: 0.6472 - val_accuracy: 0.9020\n",
            "Epoch 10/25\n",
            "1705/1705 [==============================] - 55s 32ms/step - loss: 0.9876 - accuracy: 0.8960 - val_loss: 0.6602 - val_accuracy: 0.8914\n",
            "Epoch 11/25\n",
            "1705/1705 [==============================] - 55s 32ms/step - loss: 0.9725 - accuracy: 0.9083 - val_loss: 0.6552 - val_accuracy: 0.8967\n",
            "Epoch 12/25\n",
            "1705/1705 [==============================] - 55s 32ms/step - loss: 0.9615 - accuracy: 0.9126 - val_loss: 0.6617 - val_accuracy: 0.8927\n",
            "Epoch 13/25\n",
            "1705/1705 [==============================] - 55s 32ms/step - loss: 0.9497 - accuracy: 0.9196 - val_loss: 0.6870 - val_accuracy: 0.8669\n",
            "Epoch 14/25\n",
            "1705/1705 [==============================] - 55s 32ms/step - loss: 0.9368 - accuracy: 0.9295 - val_loss: 0.6980 - val_accuracy: 0.8497\n",
            "Epoch 15/25\n",
            "1705/1705 [==============================] - 55s 32ms/step - loss: 0.9312 - accuracy: 0.9322 - val_loss: 0.7178 - val_accuracy: 0.8344\n",
            "Epoch 16/25\n",
            "1705/1705 [==============================] - 55s 32ms/step - loss: 0.9290 - accuracy: 0.9358 - val_loss: 0.6745 - val_accuracy: 0.8702\n",
            "Epoch 17/25\n",
            "1705/1705 [==============================] - 55s 32ms/step - loss: 0.9231 - accuracy: 0.9380 - val_loss: 0.6509 - val_accuracy: 0.8993\n",
            "Epoch 18/25\n",
            "1705/1705 [==============================] - 55s 32ms/step - loss: 0.9123 - accuracy: 0.9467 - val_loss: 0.7082 - val_accuracy: 0.8364\n",
            "Epoch 19/25\n",
            "1705/1705 [==============================] - ETA: 0s - loss: 0.9077 - accuracy: 0.9490Restoring model weights from the end of the best epoch.\n",
            "1705/1705 [==============================] - 55s 32ms/step - loss: 0.9077 - accuracy: 0.9490 - val_loss: 0.6515 - val_accuracy: 0.8987\n",
            "Epoch 00019: early stopping\n"
          ],
          "name": "stdout"
        }
      ]
    },
    {
      "cell_type": "code",
      "metadata": {
        "id": "aoHuYijsC9lN",
        "colab_type": "code",
        "colab": {
          "base_uri": "https://localhost:8080/",
          "height": 351
        },
        "outputId": "9a001b55-981f-4d55-ecdd-b0edef010970"
      },
      "source": [
        "plt.plot(history6.history['accuracy'], label='accuracy')\n",
        "plt.plot(history6.history['val_accuracy'], label = 'val_accuracy')\n",
        "plt.xlabel('Epoch')\n",
        "plt.ylabel('Accuracy')\n",
        "plt.ylim([0.5, 1])\n",
        "plt.legend(loc='lower right')\n",
        "\n",
        "test_y_pred_m = model6.predict(testX)\n",
        "test_y_pred6 = np.argmax(test_y_pred_m, axis=1)\n",
        "\n",
        "conf_matrix = confusion_matrix(test_y, test_y_pred6, labels=[0, 1, 2])\n",
        "print(\"Confusion matrix:\")\n",
        "print(conf_matrix)"
      ],
      "execution_count": 10,
      "outputs": [
        {
          "output_type": "stream",
          "text": [
            "Confusion matrix:\n",
            "[[801  82   2]\n",
            " [ 47 544   3]\n",
            " [  3  11  17]]\n"
          ],
          "name": "stdout"
        },
        {
          "output_type": "display_data",
          "data": {
            "image/png": "[encoded data removed]",
            "text/plain": [
              "<Figure size 432x288 with 1 Axes>"
            ]
          },
          "metadata": {
            "tags": [],
            "needs_background": "light"
          }
        }
      ]
    },
    {
      "cell_type": "code",
      "metadata": {
        "id": "LolI8pGRDVI3",
        "colab_type": "code",
        "colab": {}
      },
      "source": [
        ""
      ],
      "execution_count": 0,
      "outputs": []
    }
  ]
}