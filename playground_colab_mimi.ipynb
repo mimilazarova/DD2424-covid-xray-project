{
  "nbformat": 4,
  "nbformat_minor": 0,
  "metadata": {
    "kernelspec": {
      "display_name": "Python 3",
      "language": "python",
      "name": "python3"
    },
    "language_info": {
      "codemirror_mode": {
        "name": "ipython",
        "version": 3
      },
      "file_extension": ".py",
      "mimetype": "text/x-python",
      "name": "python",
      "nbconvert_exporter": "python",
      "pygments_lexer": "ipython3",
      "version": "3.7.5"
    },
    "colab": {
      "name": "playground_colab_mimi.ipynb",
      "provenance": [],
      "machine_shape": "hm",
      "include_colab_link": true
    },
    "accelerator": "TPU"
  },
  "cells": [
    {
      "cell_type": "markdown",
      "metadata": {
        "id": "view-in-github",
        "colab_type": "text"
      },
      "source": [
        "<a href=\"https://colab.research.google.com/github/mimilazarova/DD2424-covid-xray-project/blob/master/playground_colab_mimi.ipynb\" target=\"_parent\"><img src=\"https://colab.research.google.com/assets/colab-badge.svg\" alt=\"Open In Colab\"/></a>"
      ]
    },
    {
      "cell_type": "code",
      "metadata": {
        "id": "lzc7un0tv6uD",
        "colab_type": "code",
        "colab": {}
      },
      "source": [
        "import warnings\n",
        "warnings.filterwarnings(\"ignore\", category=FutureWarning)\n",
        "\n",
        "import tensorflow as tf\n",
        "from tensorflow import keras\n",
        "from tensorflow.keras import layers\n",
        "import numpy as np\n",
        "import matplotlib.pyplot as plt\n",
        "import cv2\n",
        "import pickle\n",
        "from sklearn.metrics import confusion_matrix, classification_report\n",
        "from sklearn.model_selection import train_test_split\n",
        "import os\n"
      ],
      "execution_count": 0,
      "outputs": []
    },
    {
      "cell_type": "code",
      "metadata": {
        "id": "UDks1pN460vn",
        "colab_type": "code",
        "outputId": "e8e7746a-f143-47ee-d418-cccbfdf8345a",
        "colab": {
          "base_uri": "https://localhost:8080/",
          "height": 122
        }
      },
      "source": [
        "from google.colab import drive\n",
        "drive.mount('/content/drive')"
      ],
      "execution_count": 2,
      "outputs": [
        {
          "output_type": "stream",
          "text": [
            "Go to this URL in a browser: https://accounts.google.com/o/oauth2/auth?client_id=947318989803-6bn6qk8qdgf4n4g3pfee6491hc0brc4i.apps.googleusercontent.com&redirect_uri=urn%3aietf%3awg%3aoauth%3a2.0%3aoob&response_type=code&scope=email%20https%3a%2f%2fwww.googleapis.com%2fauth%2fdocs.test%20https%3a%2f%2fwww.googleapis.com%2fauth%2fdrive%20https%3a%2f%2fwww.googleapis.com%2fauth%2fdrive.photos.readonly%20https%3a%2f%2fwww.googleapis.com%2fauth%2fpeopleapi.readonly\n",
            "\n",
            "Enter your authorization code:\n",
            "··········\n",
            "Mounted at /content/drive\n"
          ],
          "name": "stdout"
        }
      ]
    },
    {
      "cell_type": "code",
      "metadata": {
        "id": "3djAbcsGv6uO",
        "colab_type": "code",
        "colab": {}
      },
      "source": [
        "\n",
        "with open('/content/drive/My Drive/KTH/Year 1/DD2424 Deep Learning/DD2424_Project/data/trainX1.pickle', 'rb') as f:\n",
        "  X1 = pickle.load(f)\n",
        "with open('/content/drive/My Drive/KTH/Year 1/DD2424 Deep Learning/DD2424_Project/data/trainX2.pickle', 'rb') as f:\n",
        "  X2 = pickle.load(f)\n",
        "\n",
        "trainX = np.concatenate((X1, X2))\n",
        "\n",
        "with open('/content/drive/My Drive/KTH/Year 1/DD2424 Deep Learning/DD2424_Project/data/testX.pickle', 'rb') as f:\n",
        "  testX = pickle.load(f)\n",
        "with open('/content/drive/My Drive/KTH/Year 1/DD2424 Deep Learning/DD2424_Project/data/train_y.pickle', 'rb') as f:\n",
        "  train_y = pickle.load(f)\n",
        "with open('/content/drive/My Drive/KTH/Year 1/DD2424 Deep Learning/DD2424_Project/data/test_y.pickle', 'rb') as f:\n",
        "  test_y = pickle.load(f)\n",
        "\n",
        "\n",
        "N = trainX.shape[0]\n",
        "testN = testX.shape[0]\n",
        "\n",
        "trainX = trainX.reshape((N, 224, 224, 1))\n",
        "testX = testX.reshape((testN, 224, 224, 1))\n"
      ],
      "execution_count": 0,
      "outputs": []
    },
    {
      "cell_type": "code",
      "metadata": {
        "id": "JaCfBKsqbmLX",
        "colab_type": "code",
        "outputId": "c9da45c5-cd18-41e9-9d90-411ad792b2c4",
        "colab": {
          "base_uri": "https://localhost:8080/",
          "height": 34
        }
      },
      "source": [
        "trainX.shape"
      ],
      "execution_count": 4,
      "outputs": [
        {
          "output_type": "execute_result",
          "data": {
            "text/plain": [
              "(13569, 224, 224, 1)"
            ]
          },
          "metadata": {
            "tags": []
          },
          "execution_count": 4
        }
      ]
    },
    {
      "cell_type": "code",
      "metadata": {
        "id": "Mr78uvnDv6uZ",
        "colab_type": "code",
        "colab": {}
      },
      "source": [
        "args = [train_y==0]\n",
        "X0, vX0, y0, vy0 = train_test_split(trainX[args], train_y[args],  test_size=0.1, random_state=42) \n",
        "\n",
        "args = [train_y==1]\n",
        "X1, vX1, y1, vy1 = train_test_split(trainX[args], train_y[args],  test_size=0.1, random_state=42) \n",
        "\n",
        "args = [train_y==2]\n",
        "X2, vX2, y2, vy2 = train_test_split(trainX[args], train_y[args],  test_size=0.1, random_state=42) \n",
        "\n",
        "trainX = np.concatenate((X0, X1, X2))\n",
        "train_y = np.concatenate((y0, y1, y2))\n",
        "\n",
        "valX = np.concatenate((vX0, vX1, vX2))\n",
        "val_y = np.concatenate((vy0, vy1, vy2))"
      ],
      "execution_count": 0,
      "outputs": []
    },
    {
      "cell_type": "code",
      "metadata": {
        "id": "A617uWYCfInn",
        "colab_type": "code",
        "colab": {
          "base_uri": "https://localhost:8080/",
          "height": 34
        },
        "outputId": "318642ee-17f5-4922-93f0-e332ad4191d1"
      },
      "source": [
        "trainX.shape"
      ],
      "execution_count": 6,
      "outputs": [
        {
          "output_type": "execute_result",
          "data": {
            "text/plain": [
              "(12210, 224, 224, 1)"
            ]
          },
          "metadata": {
            "tags": []
          },
          "execution_count": 6
        }
      ]
    },
    {
      "cell_type": "code",
      "metadata": {
        "id": "TfPriXlxh4OM",
        "colab_type": "code",
        "colab": {}
      },
      "source": [
        "# one-hot-encoded vectors, not sure it we need them, the fitting the models with them did not work for me\n",
        "\n",
        "# trainY = np.zeros((N, 3))\n",
        "# testY = np.zeros((testN, 3))\n",
        "\n",
        "# trainY[np.arange(N), train_y] = 1\n",
        "# testY[np.arange(testN), test_y] = 1\n"
      ],
      "execution_count": 0,
      "outputs": []
    },
    {
      "cell_type": "code",
      "metadata": {
        "id": "iA1EtR2qhtxd",
        "colab_type": "code",
        "colab": {}
      },
      "source": [
        "model2 = keras.models.Sequential()\n",
        "model2.add(layers.Conv2D(64, (3, 3), padding = 'same', activation='relu', input_shape=(224, 224, 1)))\n",
        "model2.add(layers.MaxPooling2D((4, 4)))\n",
        "model2.add(layers.Conv2D(64, (3, 3), padding = 'same', activation='relu'))\n",
        "model2.add(layers.MaxPooling2D((4, 4)))\n",
        "model2.add(layers.Conv2D(64, (3, 3), activation='relu'))\n",
        "model2.add(layers.Flatten())\n",
        "model2.add(layers.Dense(64, activation='relu'))\n",
        "model2.add(layers.Dense(32, activation='relu'))\n",
        "model2.add(layers.Dense(3))\n",
        "\n",
        "class_weights = {}\n",
        "for c in range(3):\n",
        "  class_weights[c] = 1000/np.sum(train_y==c)\n",
        "  print(class_weights[c])\n",
        "\n",
        "model2.compile(optimizer='adam',\n",
        "              loss=tf.keras.losses.SparseCategoricalCrossentropy(from_logits=True),\n",
        "              metrics=['accuracy'])\n",
        "\n",
        "early_stopping = tf.keras.callbacks.EarlyStopping(\n",
        "    monitor='val_accuracy', \n",
        "    verbose=1,\n",
        "    patience=10,\n",
        "    mode='max',\n",
        "    restore_best_weights=True)\n",
        "\n",
        "\n",
        "history2 = model2.fit(trainX, train_y, epochs=25, callbacks=[early_stopping],\n",
        "                    class_weight=class_weights, validation_data=(valX, val_y))"
      ],
      "execution_count": 0,
      "outputs": []
    },
    {
      "cell_type": "code",
      "metadata": {
        "id": "gQr2IOnr282b",
        "colab_type": "code",
        "outputId": "42c3b5ae-6e65-4da5-8819-9fc821deaf52",
        "colab": {
          "base_uri": "https://localhost:8080/",
          "height": 521
        }
      },
      "source": [
        "plt.plot(history2.history['accuracy'], label='accuracy')\n",
        "plt.plot(history2.history['val_accuracy'], label = 'val_accuracy')\n",
        "plt.xlabel('Epoch')\n",
        "plt.ylabel('Accuracy')\n",
        "plt.ylim([0.5, 1])\n",
        "plt.legend(loc='lower right')\n",
        "\n",
        "test_y_pred_m = model2.predict(testX)\n",
        "test_y_pred2 = np.argmax(test_y_pred_m, axis=1)\n",
        "\n",
        "conf_matrix = confusion_matrix(test_y, test_y_pred2, labels=[0, 1, 2])\n",
        "print(\"Confusion matrix:\")\n",
        "print(conf_matrix)\n",
        "print(classification_report(test_y, test_y_pred2, digits=3))"
      ],
      "execution_count": 0,
      "outputs": [
        {
          "output_type": "stream",
          "text": [
            "Confusion matrix:\n",
            "[[91  9  0]\n",
            " [ 8 89  3]\n",
            " [ 7  7 17]]\n",
            "              precision    recall  f1-score   support\n",
            "\n",
            "           0      0.858     0.910     0.883       100\n",
            "           1      0.848     0.890     0.868       100\n",
            "           2      0.850     0.548     0.667        31\n",
            "\n",
            "    accuracy                          0.853       231\n",
            "   macro avg      0.852     0.783     0.806       231\n",
            "weighted avg      0.853     0.853     0.848       231\n",
            "\n"
          ],
          "name": "stdout"
        },
        {
          "output_type": "display_data",
          "data": {
            "image/png": "[encoded data removed]",
            "text/plain": [
              "<Figure size 432x288 with 1 Axes>"
            ]
          },
          "metadata": {
            "tags": [],
            "needs_background": "light"
          }
        }
      ]
    },
    {
      "cell_type": "code",
      "metadata": {
        "id": "hjtYQiMGJhcG",
        "colab_type": "code",
        "outputId": "6328a706-9c39-4042-a988-f955de3d415f",
        "colab": {
          "base_uri": "https://localhost:8080/",
          "height": 1000
        }
      },
      "source": [
        "model3 = keras.models.Sequential()\n",
        "model3.add(layers.Conv2D(64, (3, 3), padding = 'same', activation='relu', input_shape=(224, 224, 1)))\n",
        "model3.add(layers.MaxPooling2D((4, 4)))\n",
        "model3.add(layers.Conv2D(64, (3, 3), padding = 'same', activation='relu'))\n",
        "model3.add(layers.MaxPooling2D((4, 4)))\n",
        "model3.add(layers.Conv2D(64, (3, 3), activation='relu'))\n",
        "model3.add(layers.Flatten())\n",
        "model3.add(layers.Dense(64, activation='relu'))\n",
        "model3.add(layers.Dense(32, activation='relu'))\n",
        "model3.add(layers.Dense(3))\n",
        "\n",
        "class_weights = {}\n",
        "class_weights[0] = 1\n",
        "class_weights[1] = 1\n",
        "class_weights[2] = 4\n",
        "\n",
        "early_stopping = tf.keras.callbacks.EarlyStopping(\n",
        "    monitor='val_accuracy', \n",
        "    verbose=1,\n",
        "    patience=10,\n",
        "    mode='max',\n",
        "    restore_best_weights=True)\n",
        "\n",
        "model3.compile(optimizer='adam',\n",
        "              loss=tf.keras.losses.SparseCategoricalCrossentropy(from_logits=True),\n",
        "              metrics=['accuracy'])\n",
        "\n",
        "\n",
        "history3 = model3.fit(trainX, train_y, epochs=25, callbacks=[early_stopping],\n",
        "                    class_weight=class_weights, validation_data=(valX, val_y))  \n",
        "\n",
        "plt.plot(history3.history['accuracy'], label='accuracy')\n",
        "plt.plot(history3.history['val_accuracy'], label = 'val_accuracy')\n",
        "plt.xlabel('Epoch')\n",
        "plt.ylabel('Accuracy')\n",
        "plt.ylim([0.5, 1])\n",
        "plt.legend(loc='lower right')\n",
        "\n",
        "test_y_pred_m = model3.predict(testX)\n",
        "test_y_pred3 = np.argmax(test_y_pred_m, axis=1)\n",
        "\n",
        "conf_matrix = confusion_matrix(test_y, test_y_pred3, labels=[0, 1, 2])\n",
        "print(\"Confusion matrix:\")\n",
        "print(conf_matrix)\n",
        "print(classification_report(test_y, test_y_pred3, digits=3))"
      ],
      "execution_count": 0,
      "outputs": [
        {
          "output_type": "stream",
          "text": [
            "Epoch 1/25\n",
            "382/382 [==============================] - 10s 25ms/step - loss: 0.6170 - accuracy: 0.7883 - val_loss: 0.4670 - val_accuracy: 0.8256\n",
            "Epoch 2/25\n",
            "382/382 [==============================] - 9s 24ms/step - loss: 0.4936 - accuracy: 0.8421 - val_loss: 0.4358 - val_accuracy: 0.8344\n",
            "Epoch 3/25\n",
            "382/382 [==============================] - 9s 24ms/step - loss: 0.4483 - accuracy: 0.8542 - val_loss: 0.3990 - val_accuracy: 0.8477\n",
            "Epoch 4/25\n",
            "382/382 [==============================] - 9s 24ms/step - loss: 0.3982 - accuracy: 0.8675 - val_loss: 0.3934 - val_accuracy: 0.8344\n",
            "Epoch 5/25\n",
            "382/382 [==============================] - 9s 24ms/step - loss: 0.3590 - accuracy: 0.8781 - val_loss: 0.3450 - val_accuracy: 0.8668\n",
            "Epoch 6/25\n",
            "382/382 [==============================] - 9s 24ms/step - loss: 0.3209 - accuracy: 0.8907 - val_loss: 0.3442 - val_accuracy: 0.8661\n",
            "Epoch 7/25\n",
            "382/382 [==============================] - 9s 25ms/step - loss: 0.2886 - accuracy: 0.8948 - val_loss: 0.3207 - val_accuracy: 0.8793\n",
            "Epoch 8/25\n",
            "382/382 [==============================] - 9s 24ms/step - loss: 0.2602 - accuracy: 0.9088 - val_loss: 0.3356 - val_accuracy: 0.8756\n",
            "Epoch 9/25\n",
            "382/382 [==============================] - 10s 25ms/step - loss: 0.2425 - accuracy: 0.9147 - val_loss: 0.3325 - val_accuracy: 0.8808\n",
            "Epoch 10/25\n",
            "382/382 [==============================] - 9s 24ms/step - loss: 0.2173 - accuracy: 0.9241 - val_loss: 0.3246 - val_accuracy: 0.8823\n",
            "Epoch 11/25\n",
            "382/382 [==============================] - 9s 24ms/step - loss: 0.1967 - accuracy: 0.9286 - val_loss: 0.3624 - val_accuracy: 0.8756\n",
            "Epoch 12/25\n",
            "382/382 [==============================] - 9s 24ms/step - loss: 0.1775 - accuracy: 0.9378 - val_loss: 0.3570 - val_accuracy: 0.8815\n",
            "Epoch 13/25\n",
            "382/382 [==============================] - 9s 24ms/step - loss: 0.1702 - accuracy: 0.9372 - val_loss: 0.3680 - val_accuracy: 0.8764\n",
            "Epoch 14/25\n",
            "382/382 [==============================] - 9s 24ms/step - loss: 0.1482 - accuracy: 0.9472 - val_loss: 0.4018 - val_accuracy: 0.8742\n",
            "Epoch 15/25\n",
            "382/382 [==============================] - 9s 24ms/step - loss: 0.1304 - accuracy: 0.9553 - val_loss: 0.4627 - val_accuracy: 0.8653\n",
            "Epoch 16/25\n",
            "382/382 [==============================] - 9s 25ms/step - loss: 0.1181 - accuracy: 0.9581 - val_loss: 0.4675 - val_accuracy: 0.8742\n",
            "Epoch 17/25\n",
            "382/382 [==============================] - 9s 24ms/step - loss: 0.1101 - accuracy: 0.9613 - val_loss: 0.4720 - val_accuracy: 0.8727\n",
            "Epoch 18/25\n",
            "382/382 [==============================] - 9s 24ms/step - loss: 0.0926 - accuracy: 0.9656 - val_loss: 0.5868 - val_accuracy: 0.8631\n",
            "Epoch 19/25\n",
            "382/382 [==============================] - 9s 24ms/step - loss: 0.0871 - accuracy: 0.9673 - val_loss: 0.5364 - val_accuracy: 0.8793\n",
            "Epoch 20/25\n",
            "382/382 [==============================] - ETA: 0s - loss: 0.0843 - accuracy: 0.9708Restoring model weights from the end of the best epoch.\n",
            "382/382 [==============================] - 9s 24ms/step - loss: 0.0843 - accuracy: 0.9708 - val_loss: 0.6526 - val_accuracy: 0.8653\n",
            "Epoch 00020: early stopping\n",
            "Confusion matrix:\n",
            "[[96  4  0]\n",
            " [11 88  1]\n",
            " [10  8 13]]\n",
            "              precision    recall  f1-score   support\n",
            "\n",
            "           0      0.821     0.960     0.885       100\n",
            "           1      0.880     0.880     0.880       100\n",
            "           2      0.929     0.419     0.578        31\n",
            "\n",
            "    accuracy                          0.853       231\n",
            "   macro avg      0.876     0.753     0.781       231\n",
            "weighted avg      0.861     0.853     0.842       231\n",
            "\n"
          ],
          "name": "stdout"
        },
        {
          "output_type": "display_data",
          "data": {
            "image/png": "[encoded data removed]",
            "text/plain": [
              "<Figure size 432x288 with 1 Axes>"
            ]
          },
          "metadata": {
            "tags": [],
            "needs_background": "light"
          }
        }
      ]
    },
    {
      "cell_type": "code",
      "metadata": {
        "id": "tPv0E9ANDX3g",
        "colab_type": "code",
        "colab": {}
      },
      "source": [
        "X_input = layers.Input((224, 224, 1))\n",
        "\n",
        "X = layers.Conv2D(64, (7, 7), strides=(2, 2), padding = 'same', activation='elu', kernel_initializer='he_normal')(X_input)\n",
        "\n",
        "X1 = layers.Conv2D(256, (3, 3), strides=(2, 2), padding='same', activation='elu', kernel_initializer='he_normal')(X)\n",
        "\n",
        "pepx1 = layers.Conv2D(16, (1, 1), padding='same', activation='elu', kernel_initializer='he_normal')(X1)\n",
        "pepx1 = layers.Conv2D(256, (1, 1), padding='same', activation='elu', kernel_initializer='he_normal')(pepx1)\n",
        "pepx1 = layers.DepthwiseConv2D(16, (1, 1), padding='same', activation='elu', kernel_initializer='he_normal')(pepx1)\n",
        "pepx1 = layers.Conv2D(16, (1, 1), padding='same', activation='elu', kernel_initializer='he_normal')(pepx1)\n",
        "pepx1 = layers.Conv2D(256, (1, 1), padding='same', activation='elu', kernel_initializer='he_normal')(pepx1)\n",
        "\n",
        "X = layers.Add()([pepx1, X1])\n",
        "\n",
        "X2 = layers.Conv2D(256, (3, 3), strides=(2, 2), padding='same', activation='elu', kernel_initializer='he_normal')(X)\n",
        "\n",
        "pepx2 = layers.Conv2D(16, (1, 1), padding='same', activation='elu', kernel_initializer='he_normal')(X2)\n",
        "pepx2 = layers.Conv2D(256, (1, 1), padding='same', activation='elu', kernel_initializer='he_normal')(pepx2)\n",
        "pepx2 = layers.DepthwiseConv2D(16, (1, 1), padding='same', activation='elu', kernel_initializer='he_normal')(pepx2)\n",
        "pepx2 = layers.Conv2D(16, (1, 1), padding='same', activation='elu', kernel_initializer='he_normal')(pepx2)\n",
        "pepx2 = layers.Conv2D(256, (1, 1), padding='same', activation='elu', kernel_initializer='he_normal')(pepx2)\n",
        "\n",
        "\n",
        "X = layers.Add()([pepx2, X2])\n",
        "X3 = layers.Conv2D(256, (3, 3), strides=(2, 2), padding='same', activation='elu', kernel_initializer='he_normal')(X)\n",
        "\n",
        "pepx3 = layers.Conv2D(16, (1, 1), padding='same', activation='elu', kernel_initializer='he_normal')(X3)\n",
        "pepx3 = layers.Conv2D(256, (1, 1), padding='same', activation='elu', kernel_initializer='he_normal')(pepx3)\n",
        "pepx3 = layers.DepthwiseConv2D(16, (1, 1), padding='same', activation='elu', kernel_initializer='he_normal')(pepx3)\n",
        "pepx3 = layers.Conv2D(16, (1, 1), padding='same', activation='elu', kernel_initializer='he_normal')(pepx3)\n",
        "pepx3 = layers.Conv2D(256, (1, 1), padding='same', activation='elu', kernel_initializer='he_normal')(pepx3)\n",
        "\n",
        "X = layers.Flatten()(pepx3)\n",
        "X = layers.Dense(128, activation='elu', kernel_initializer='he_normal')(X)\n",
        "X = layers.Dense(32, activation='elu', kernel_initializer='he_normal')(X)\n",
        "X = layers.Dense(3, activation='softmax', kernel_initializer='he_normal')(X)\n",
        "\n",
        "model5 = keras.models.Model(inputs=X_input, outputs=X)\n",
        "model5.summary()"
      ],
      "execution_count": 0,
      "outputs": []
    },
    {
      "cell_type": "code",
      "metadata": {
        "id": "9o08qhcoHhjG",
        "colab_type": "code",
        "outputId": "15b89694-47c5-49f7-84ca-5fc5b6ac376d",
        "colab": {
          "base_uri": "https://localhost:8080/",
          "height": 796
        }
      },
      "source": [
        "class_weights = {}\n",
        "for c in range(3):\n",
        "  class_weights[c] = np.sum(train_y==(2-c))/N\n",
        "  print(class_weights[c])\n",
        "\n",
        "early_stopping = tf.keras.callbacks.EarlyStopping(\n",
        "    monitor='val_accuracy', \n",
        "    verbose=1,\n",
        "    patience=10,\n",
        "    mode='max',\n",
        "    restore_best_weights=True)\n",
        "\n",
        "\n",
        "model5.compile(optimizer='adam',\n",
        "              loss=tf.keras.losses.SparseCategoricalCrossentropy(from_logits=True),\n",
        "              metrics=['accuracy'])\n",
        "\n",
        "\n",
        "history5 = model5.fit(trainX, train_y, epochs=5, callbacks=[early_stopping],\n",
        "                    class_weight=class_weights, validation_data=(valX, val_y))  \n",
        "\n",
        "plt.plot(history5.history['accuracy'], label='accuracy')\n",
        "plt.plot(history5.history['val_accuracy'], label = 'val_accuracy')\n",
        "plt.xlabel('Epoch')\n",
        "plt.ylabel('Accuracy')\n",
        "plt.ylim([0.5, 1])\n",
        "plt.legend(loc='lower right')\n",
        "\n",
        "test_y_pred_m = model5.predict(testX)\n",
        "test_y_pred5 = np.argmax(test_y_pred_m, axis=1)\n",
        "\n",
        "conf_matrix = confusion_matrix(test_y, test_y_pred5, labels=[0, 1, 2])\n",
        "print(\"Confusion matrix:\")\n",
        "print(conf_matrix)\n",
        "print(classification_report(test_y, test_y_pred5, digits=3))\n"
      ],
      "execution_count": 0,
      "outputs": [
        {
          "output_type": "stream",
          "text": [
            "0.010022846193529368\n",
            "0.36148573955339375\n",
            "0.528336649716265\n",
            "Epoch 1/5\n",
            "382/382 [==============================] - 172s 451ms/step - loss: 0.0983 - accuracy: 0.4017 - val_loss: 1.1497 - val_accuracy: 0.4018\n",
            "Epoch 2/5\n",
            "382/382 [==============================] - 171s 448ms/step - loss: 0.0983 - accuracy: 0.4017 - val_loss: 1.1497 - val_accuracy: 0.4018\n",
            "Epoch 3/5\n",
            "382/382 [==============================] - 171s 448ms/step - loss: 0.0983 - accuracy: 0.4017 - val_loss: 1.1497 - val_accuracy: 0.4018\n",
            "Epoch 4/5\n",
            "382/382 [==============================] - 171s 449ms/step - loss: 0.0983 - accuracy: 0.4017 - val_loss: 1.1497 - val_accuracy: 0.4018\n",
            "Epoch 5/5\n",
            "382/382 [==============================] - 171s 448ms/step - loss: 0.0983 - accuracy: 0.4017 - val_loss: 1.1497 - val_accuracy: 0.4018\n",
            "Confusion matrix:\n",
            "[[  0 100   0]\n",
            " [  0 100   0]\n",
            " [  0  31   0]]\n",
            "              precision    recall  f1-score   support\n",
            "\n",
            "           0      0.000     0.000     0.000       100\n",
            "           1      0.433     1.000     0.604       100\n",
            "           2      0.000     0.000     0.000        31\n",
            "\n",
            "    accuracy                          0.433       231\n",
            "   macro avg      0.144     0.333     0.201       231\n",
            "weighted avg      0.187     0.433     0.262       231\n",
            "\n"
          ],
          "name": "stdout"
        },
        {
          "output_type": "stream",
          "text": [
            "/usr/local/lib/python3.6/dist-packages/sklearn/metrics/_classification.py:1272: UndefinedMetricWarning: Precision and F-score are ill-defined and being set to 0.0 in labels with no predicted samples. Use `zero_division` parameter to control this behavior.\n",
            "  _warn_prf(average, modifier, msg_start, len(result))\n"
          ],
          "name": "stderr"
        },
        {
          "output_type": "display_data",
          "data": {
            "image/png": "[encoded data removed]",
            "text/plain": [
              "<Figure size 432x288 with 1 Axes>"
            ]
          },
          "metadata": {
            "tags": [],
            "needs_background": "light"
          }
        }
      ]
    },
    {
      "cell_type": "code",
      "metadata": {
        "id": "7OEXi-HqFRzE",
        "colab_type": "code",
        "outputId": "b3d9a439-49ea-4fe5-d3c0-03b607488e3d",
        "colab": {
          "base_uri": "https://localhost:8080/",
          "height": 153
        }
      },
      "source": [
        "N = train_y.shape[0]\n",
        "testN = test_y.shape[0]\n",
        "for c in range(3):\n",
        "  print(np.sum(test_y==c)/testN)\n",
        "print(\"\\n\")\n",
        "for c in range(3):\n",
        "  print(np.sum(train_y==c)/N)"
      ],
      "execution_count": 0,
      "outputs": [
        {
          "output_type": "stream",
          "text": [
            "0.4329004329004329\n",
            "0.4329004329004329\n",
            "0.1341991341991342\n",
            "\n",
            "\n",
            "0.5871416871416871\n",
            "0.40171990171990174\n",
            "0.011138411138411138\n"
          ],
          "name": "stdout"
        }
      ]
    },
    {
      "cell_type": "code",
      "metadata": {
        "colab_type": "code",
        "outputId": "8bc7135a-c7f1-4187-87d4-588c4ad2f94c",
        "id": "PaHuu7oY4ZLN",
        "colab": {
          "base_uri": "https://localhost:8080/",
          "height": 1000
        }
      },
      "source": [
        "X_input = layers.Input((224, 224, 1))\n",
        "\n",
        "X = layers.Conv2D(64, (7, 7), strides=(2, 2), padding = 'same', kernel_initializer='he_uniform')(X_input)\n",
        "X = layers.BatchNormalization()(X)\n",
        "X = layers.Activation('relu')(X)\n",
        "\n",
        "X1 = layers.Conv2D(256, (3, 3), strides=(2, 2), padding='same', kernel_initializer='he_uniform')(X)\n",
        "X1 = layers.BatchNormalization()(X1)\n",
        "\n",
        "b1 = layers.MaxPool2D((2,2))(X) \n",
        "b1 = layers.Conv2D(16, (1, 1), padding='same', kernel_initializer='he_uniform')(b1)\n",
        "b1 = layers.BatchNormalization()(b1)\n",
        "b1 = layers.Activation('relu')(b1)\n",
        "b1 = layers.Conv2D(256, (1, 1), padding='same', kernel_initializer='he_uniform')(b1)\n",
        "b1 = layers.BatchNormalization()(b1)\n",
        "\n",
        "\n",
        "X = layers.Add()([X1, b1])\n",
        "X = layers.Activation('relu')(X)\n",
        "\n",
        "X2 = layers.Conv2D(512, (3, 3), strides=(2, 2), padding='same', kernel_initializer='he_normal')(X)\n",
        "X2 = layers.BatchNormalization()(X2)\n",
        "\n",
        "b2 = layers.MaxPool2D((2,2))(X) \n",
        "b2 = layers.Conv2D(32, (1, 1), padding='same', kernel_initializer='he_uniform')(b2)\n",
        "b2 = layers.BatchNormalization()(b2)\n",
        "b2 = layers.Activation('relu')(b2)\n",
        "b2 = layers.Conv2D(512, (1, 1), padding='same',  kernel_initializer='he_uniform')(b2)\n",
        "b2 = layers.BatchNormalization()(b2)\n",
        "\n",
        "\n",
        "X = layers.Add()([X2, b2])\n",
        "X = layers.Activation('relu')(X)\n",
        "\n",
        "\n",
        "X = layers.Conv2D(512, (3, 3), padding='same', kernel_initializer='he_uniform')(X)\n",
        "X = layers.BatchNormalization()(X)\n",
        "X = layers.Activation('relu')(X)\n",
        "X = layers.MaxPool2D(2, 2)(X)\n",
        "\n",
        "X = layers.Flatten()(X)\n",
        "X = layers.Dense(128, kernel_initializer='he_uniform')(X)\n",
        "X = layers.BatchNormalization()(X)\n",
        "X = layers.Activation('relu')(X)\n",
        "X = layers.Dense(3,kernel_initializer='he_uniform')(X)\n",
        "X = layers.BatchNormalization()(X)\n",
        "X = layers.Activation('softmax')(X)\n",
        "\n",
        "model6 = keras.models.Model(inputs=X_input, outputs=X, name='model_6')\n",
        "model6.summary()"
      ],
      "execution_count": 0,
      "outputs": [
        {
          "output_type": "stream",
          "text": [
            "Model: \"model_6\"\n",
            "__________________________________________________________________________________________________\n",
            "Layer (type)                    Output Shape         Param #     Connected to                     \n",
            "==================================================================================================\n",
            "input_2 (InputLayer)            [(None, 224, 224, 1) 0                                            \n",
            "__________________________________________________________________________________________________\n",
            "conv2d_22 (Conv2D)              (None, 112, 112, 64) 3200        input_2[0][0]                    \n",
            "__________________________________________________________________________________________________\n",
            "batch_normalization (BatchNorma (None, 112, 112, 64) 256         conv2d_22[0][0]                  \n",
            "__________________________________________________________________________________________________\n",
            "activation (Activation)         (None, 112, 112, 64) 0           batch_normalization[0][0]        \n",
            "__________________________________________________________________________________________________\n",
            "max_pooling2d_4 (MaxPooling2D)  (None, 56, 56, 64)   0           activation[0][0]                 \n",
            "__________________________________________________________________________________________________\n",
            "conv2d_24 (Conv2D)              (None, 56, 56, 16)   1040        max_pooling2d_4[0][0]            \n",
            "__________________________________________________________________________________________________\n",
            "batch_normalization_2 (BatchNor (None, 56, 56, 16)   64          conv2d_24[0][0]                  \n",
            "__________________________________________________________________________________________________\n",
            "activation_1 (Activation)       (None, 56, 56, 16)   0           batch_normalization_2[0][0]      \n",
            "__________________________________________________________________________________________________\n",
            "conv2d_23 (Conv2D)              (None, 56, 56, 256)  147712      activation[0][0]                 \n",
            "__________________________________________________________________________________________________\n",
            "conv2d_25 (Conv2D)              (None, 56, 56, 256)  4352        activation_1[0][0]               \n",
            "__________________________________________________________________________________________________\n",
            "batch_normalization_1 (BatchNor (None, 56, 56, 256)  1024        conv2d_23[0][0]                  \n",
            "__________________________________________________________________________________________________\n",
            "batch_normalization_3 (BatchNor (None, 56, 56, 256)  1024        conv2d_25[0][0]                  \n",
            "__________________________________________________________________________________________________\n",
            "add_2 (Add)                     (None, 56, 56, 256)  0           batch_normalization_1[0][0]      \n",
            "                                                                 batch_normalization_3[0][0]      \n",
            "__________________________________________________________________________________________________\n",
            "activation_2 (Activation)       (None, 56, 56, 256)  0           add_2[0][0]                      \n",
            "__________________________________________________________________________________________________\n",
            "max_pooling2d_5 (MaxPooling2D)  (None, 28, 28, 256)  0           activation_2[0][0]               \n",
            "__________________________________________________________________________________________________\n",
            "conv2d_27 (Conv2D)              (None, 28, 28, 32)   8224        max_pooling2d_5[0][0]            \n",
            "__________________________________________________________________________________________________\n",
            "batch_normalization_5 (BatchNor (None, 28, 28, 32)   128         conv2d_27[0][0]                  \n",
            "__________________________________________________________________________________________________\n",
            "activation_3 (Activation)       (None, 28, 28, 32)   0           batch_normalization_5[0][0]      \n",
            "__________________________________________________________________________________________________\n",
            "conv2d_26 (Conv2D)              (None, 28, 28, 512)  1180160     activation_2[0][0]               \n",
            "__________________________________________________________________________________________________\n",
            "conv2d_28 (Conv2D)              (None, 28, 28, 512)  16896       activation_3[0][0]               \n",
            "__________________________________________________________________________________________________\n",
            "batch_normalization_4 (BatchNor (None, 28, 28, 512)  2048        conv2d_26[0][0]                  \n",
            "__________________________________________________________________________________________________\n",
            "batch_normalization_6 (BatchNor (None, 28, 28, 512)  2048        conv2d_28[0][0]                  \n",
            "__________________________________________________________________________________________________\n",
            "add_3 (Add)                     (None, 28, 28, 512)  0           batch_normalization_4[0][0]      \n",
            "                                                                 batch_normalization_6[0][0]      \n",
            "__________________________________________________________________________________________________\n",
            "activation_4 (Activation)       (None, 28, 28, 512)  0           add_3[0][0]                      \n",
            "__________________________________________________________________________________________________\n",
            "conv2d_29 (Conv2D)              (None, 28, 28, 512)  2359808     activation_4[0][0]               \n",
            "__________________________________________________________________________________________________\n",
            "batch_normalization_7 (BatchNor (None, 28, 28, 512)  2048        conv2d_29[0][0]                  \n",
            "__________________________________________________________________________________________________\n",
            "activation_5 (Activation)       (None, 28, 28, 512)  0           batch_normalization_7[0][0]      \n",
            "__________________________________________________________________________________________________\n",
            "max_pooling2d_6 (MaxPooling2D)  (None, 14, 14, 512)  0           activation_5[0][0]               \n",
            "__________________________________________________________________________________________________\n",
            "flatten_3 (Flatten)             (None, 100352)       0           max_pooling2d_6[0][0]            \n",
            "__________________________________________________________________________________________________\n",
            "dense_9 (Dense)                 (None, 128)          12845184    flatten_3[0][0]                  \n",
            "__________________________________________________________________________________________________\n",
            "batch_normalization_8 (BatchNor (None, 128)          512         dense_9[0][0]                    \n",
            "__________________________________________________________________________________________________\n",
            "activation_6 (Activation)       (None, 128)          0           batch_normalization_8[0][0]      \n",
            "__________________________________________________________________________________________________\n",
            "dense_10 (Dense)                (None, 3)            387         activation_6[0][0]               \n",
            "__________________________________________________________________________________________________\n",
            "batch_normalization_9 (BatchNor (None, 3)            12          dense_10[0][0]                   \n",
            "__________________________________________________________________________________________________\n",
            "activation_7 (Activation)       (None, 3)            0           batch_normalization_9[0][0]      \n",
            "==================================================================================================\n",
            "Total params: 16,576,127\n",
            "Trainable params: 16,571,545\n",
            "Non-trainable params: 4,582\n",
            "__________________________________________________________________________________________________\n"
          ],
          "name": "stdout"
        }
      ]
    },
    {
      "cell_type": "code",
      "metadata": {
        "colab_type": "code",
        "outputId": "38b3a3dc-737a-4fea-bdb3-1a641593a1db",
        "id": "JVAuzkyV7hV7",
        "colab": {
          "base_uri": "https://localhost:8080/",
          "height": 561
        }
      },
      "source": [
        "class_weights = {}\n",
        "# for c in range(3):\n",
        "#   class_weights[c] = 1000/np.sum(train_y==c)\n",
        "#   print(class_weights[c])\n",
        "class_weights[0] = 1\n",
        "class_weights[1] = 1\n",
        "class_weights[2] = 4\n",
        "\n",
        "early_stopping = keras.callbacks.EarlyStopping(\n",
        "    monitor='val_accuracy', \n",
        "    verbose=1,\n",
        "    patience=10,\n",
        "    mode='max',\n",
        "    restore_best_weights=True)\n",
        "\n",
        "\n",
        "model6.compile(optimizer='adam',\n",
        "              loss=tf.keras.losses.SparseCategoricalCrossentropy(from_logits=True),\n",
        "              metrics=['accuracy'])\n",
        "\n",
        "\n",
        "history6 = model6.fit(trainX, train_y, batch_size=8, epochs=25, callbacks=[early_stopping],\n",
        "                    class_weight=class_weights, validation_data=(valX, val_y))  \n",
        "\n"
      ],
      "execution_count": 0,
      "outputs": [
        {
          "output_type": "stream",
          "text": [
            "Epoch 1/25\n",
            "1527/1527 [==============================] - 52s 34ms/step - loss: 0.8540 - accuracy: 0.8022 - val_loss: 0.7337 - val_accuracy: 0.8263\n",
            "Epoch 2/25\n",
            "1527/1527 [==============================] - 51s 33ms/step - loss: 0.7682 - accuracy: 0.8437 - val_loss: 0.7887 - val_accuracy: 0.7829\n",
            "Epoch 3/25\n",
            "1527/1527 [==============================] - 51s 33ms/step - loss: 0.7378 - accuracy: 0.8618 - val_loss: 0.6918 - val_accuracy: 0.8602\n",
            "Epoch 4/25\n",
            "1527/1527 [==============================] - 51s 33ms/step - loss: 0.7220 - accuracy: 0.8706 - val_loss: 0.6805 - val_accuracy: 0.8837\n",
            "Epoch 5/25\n",
            "1527/1527 [==============================] - 51s 33ms/step - loss: 0.7139 - accuracy: 0.8741 - val_loss: 0.6549 - val_accuracy: 0.8940\n",
            "Epoch 6/25\n",
            "1527/1527 [==============================] - 51s 33ms/step - loss: 0.6993 - accuracy: 0.8862 - val_loss: 0.6637 - val_accuracy: 0.8859\n",
            "Epoch 7/25\n",
            "1527/1527 [==============================] - 51s 33ms/step - loss: 0.6916 - accuracy: 0.8916 - val_loss: 0.7260 - val_accuracy: 0.8352\n",
            "Epoch 8/25\n",
            "1527/1527 [==============================] - 51s 33ms/step - loss: 0.6848 - accuracy: 0.8974 - val_loss: 0.6756 - val_accuracy: 0.8845\n",
            "Epoch 9/25\n",
            "1527/1527 [==============================] - 51s 33ms/step - loss: 0.6749 - accuracy: 0.9033 - val_loss: 0.7054 - val_accuracy: 0.8521\n",
            "Epoch 10/25\n",
            "1527/1527 [==============================] - 51s 33ms/step - loss: 0.6641 - accuracy: 0.9149 - val_loss: 0.7747 - val_accuracy: 0.7756\n",
            "Epoch 11/25\n",
            "1527/1527 [==============================] - 51s 33ms/step - loss: 0.6641 - accuracy: 0.9134 - val_loss: 0.6885 - val_accuracy: 0.8653\n",
            "Epoch 12/25\n",
            "1527/1527 [==============================] - 51s 33ms/step - loss: 0.6490 - accuracy: 0.9277 - val_loss: 0.7175 - val_accuracy: 0.8308\n",
            "Epoch 13/25\n",
            "1527/1527 [==============================] - 51s 33ms/step - loss: 0.6436 - accuracy: 0.9324 - val_loss: 0.6598 - val_accuracy: 0.8882\n",
            "Epoch 14/25\n",
            "1527/1527 [==============================] - 51s 33ms/step - loss: 0.6379 - accuracy: 0.9382 - val_loss: 0.6639 - val_accuracy: 0.8911\n",
            "Epoch 15/25\n",
            "1525/1527 [============================>.] - ETA: 0s - loss: 0.6365 - accuracy: 0.9396Restoring model weights from the end of the best epoch.\n",
            "1527/1527 [==============================] - 51s 33ms/step - loss: 0.6366 - accuracy: 0.9395 - val_loss: 0.6737 - val_accuracy: 0.8793\n",
            "Epoch 00015: early stopping\n"
          ],
          "name": "stdout"
        }
      ]
    },
    {
      "cell_type": "code",
      "metadata": {
        "id": "aoHuYijsC9lN",
        "colab_type": "code",
        "outputId": "f2304509-b8a4-4a80-d5ef-1e105c891c70",
        "colab": {
          "base_uri": "https://localhost:8080/",
          "height": 521
        }
      },
      "source": [
        "plt.plot(history6.history['accuracy'], label='accuracy')\n",
        "plt.plot(history6.history['val_accuracy'], label = 'val_accuracy')\n",
        "plt.xlabel('Epoch')\n",
        "plt.ylabel('Accuracy')\n",
        "plt.ylim([0.5, 1])\n",
        "plt.legend(loc='lower right')\n",
        "\n",
        "test_y_pred_m = model6.predict(testX)\n",
        "test_y_pred6 = np.argmax(test_y_pred_m, axis=1)\n",
        "\n",
        "conf_matrix = confusion_matrix(test_y, test_y_pred6, labels=[0, 1, 2])\n",
        "print(\"Confusion matrix:\")\n",
        "print(conf_matrix)\n",
        "print(classification_report(test_y, test_y_pred6, digits=3))"
      ],
      "execution_count": 0,
      "outputs": [
        {
          "output_type": "stream",
          "text": [
            "Confusion matrix:\n",
            "[[96  4  0]\n",
            " [13 87  0]\n",
            " [ 9 10 12]]\n",
            "              precision    recall  f1-score   support\n",
            "\n",
            "           0      0.814     0.960     0.881       100\n",
            "           1      0.861     0.870     0.866       100\n",
            "           2      1.000     0.387     0.558        31\n",
            "\n",
            "    accuracy                          0.844       231\n",
            "   macro avg      0.892     0.739     0.768       231\n",
            "weighted avg      0.859     0.844     0.831       231\n",
            "\n"
          ],
          "name": "stdout"
        },
        {
          "output_type": "display_data",
          "data": {
            "image/png": "[encoded data removed]",
            "text/plain": [
              "<Figure size 432x288 with 1 Axes>"
            ]
          },
          "metadata": {
            "tags": [],
            "needs_background": "light"
          }
        }
      ]
    },
    {
      "cell_type": "code",
      "metadata": {
        "colab_type": "code",
        "outputId": "de6ffebd-fa3f-491b-ac00-6395956a93b1",
        "id": "n1VAgxTPe7py",
        "colab": {
          "base_uri": "https://localhost:8080/",
          "height": 1000
        }
      },
      "source": [
        "X_input = layers.Input((224, 224, 1))\n",
        "\n",
        "X = layers.Conv2D(64, (7, 7), strides=(2, 2), padding = 'same', kernel_initializer='he_uniform')(X_input)\n",
        "X = layers.BatchNormalization()(X)\n",
        "X = layers.Activation('relu')(X)\n",
        "\n",
        "X1 = layers.Conv2D(256, (3, 3), strides=(2, 2), padding='same', kernel_initializer='he_uniform')(X)\n",
        "X1 = layers.BatchNormalization()(X1)\n",
        "\n",
        "b1 = layers.MaxPool2D((2,2))(X) \n",
        "b1 = layers.Conv2D(16, (1, 1), padding='same', kernel_initializer='he_uniform')(b1)\n",
        "b1 = layers.BatchNormalization()(b1)\n",
        "b1 = layers.Activation('relu')(b1)\n",
        "b1 = layers.Conv2D(256, (1, 1), padding='same', kernel_initializer='he_uniform')(b1)\n",
        "b1 = layers.BatchNormalization()(b1)\n",
        "\n",
        "\n",
        "X = layers.Add()([X1, b1])\n",
        "X = layers.Activation('relu')(X)\n",
        "\n",
        "X2 = layers.Conv2D(512, (3, 3), strides=(2, 2), padding='same', kernel_initializer='he_normal')(X)\n",
        "X2 = layers.BatchNormalization()(X2)\n",
        "\n",
        "b2 = layers.MaxPool2D((2,2))(X) \n",
        "b2 = layers.Conv2D(32, (1, 1), padding='same', kernel_initializer='he_uniform')(b2)\n",
        "b2 = layers.BatchNormalization()(b2)\n",
        "b2 = layers.Activation('relu')(b2)\n",
        "b2 = layers.Conv2D(512, (1, 1), padding='same',  kernel_initializer='he_uniform')(b2)\n",
        "b2 = layers.BatchNormalization()(b2)\n",
        "\n",
        "\n",
        "X = layers.Add()([X2, b2])\n",
        "X = layers.Activation('relu')(X)\n",
        "\n",
        "X3 = layers.Conv2D(1024, (3, 3), strides=(2, 2), padding='same', kernel_initializer='he_normal')(X)\n",
        "X3 = layers.BatchNormalization()(X3)\n",
        "\n",
        "b3 = layers.MaxPool2D((2,2))(X) \n",
        "b3 = layers.Conv2D(64, (1, 1), padding='same', kernel_initializer='he_uniform')(b3)\n",
        "b3 = layers.BatchNormalization()(b3)\n",
        "b3 = layers.Activation('relu')(b3)\n",
        "b3 = layers.Conv2D(1024, (1, 1), padding='same',  kernel_initializer='he_uniform')(b3)\n",
        "b3 = layers.BatchNormalization()(b3)\n",
        "\n",
        "\n",
        "X = layers.Add()([X3, b3])\n",
        "X = layers.Activation('relu')(X)\n",
        "\n",
        "X = layers.Conv2D(512, (3, 3), padding='same', kernel_initializer='he_uniform')(X)\n",
        "X = layers.BatchNormalization()(X)\n",
        "X = layers.Activation('relu')(X)\n",
        "X = layers.MaxPool2D(2, 2)(X)\n",
        "\n",
        "X = layers.Flatten()(X)\n",
        "X = layers.Dense(128, kernel_initializer='he_uniform')(X)\n",
        "X = layers.BatchNormalization()(X)\n",
        "X = layers.Activation('relu')(X)\n",
        "X = layers.Dense(3,kernel_initializer='he_uniform')(X)\n",
        "X = layers.BatchNormalization()(X)\n",
        "X = layers.Activation('softmax')(X)\n",
        "\n",
        "model7 = keras.models.Model(inputs=X_input, outputs=X, name='model_7')\n",
        "model7.summary()"
      ],
      "execution_count": 7,
      "outputs": [
        {
          "output_type": "stream",
          "text": [
            "Model: \"model_7\"\n",
            "__________________________________________________________________________________________________\n",
            "Layer (type)                    Output Shape         Param #     Connected to                     \n",
            "==================================================================================================\n",
            "input_1 (InputLayer)            [(None, 224, 224, 1) 0                                            \n",
            "__________________________________________________________________________________________________\n",
            "conv2d (Conv2D)                 (None, 112, 112, 64) 3200        input_1[0][0]                    \n",
            "__________________________________________________________________________________________________\n",
            "batch_normalization (BatchNorma (None, 112, 112, 64) 256         conv2d[0][0]                     \n",
            "__________________________________________________________________________________________________\n",
            "activation (Activation)         (None, 112, 112, 64) 0           batch_normalization[0][0]        \n",
            "__________________________________________________________________________________________________\n",
            "max_pooling2d (MaxPooling2D)    (None, 56, 56, 64)   0           activation[0][0]                 \n",
            "__________________________________________________________________________________________________\n",
            "conv2d_2 (Conv2D)               (None, 56, 56, 16)   1040        max_pooling2d[0][0]              \n",
            "__________________________________________________________________________________________________\n",
            "batch_normalization_2 (BatchNor (None, 56, 56, 16)   64          conv2d_2[0][0]                   \n",
            "__________________________________________________________________________________________________\n",
            "activation_1 (Activation)       (None, 56, 56, 16)   0           batch_normalization_2[0][0]      \n",
            "__________________________________________________________________________________________________\n",
            "conv2d_1 (Conv2D)               (None, 56, 56, 256)  147712      activation[0][0]                 \n",
            "__________________________________________________________________________________________________\n",
            "conv2d_3 (Conv2D)               (None, 56, 56, 256)  4352        activation_1[0][0]               \n",
            "__________________________________________________________________________________________________\n",
            "batch_normalization_1 (BatchNor (None, 56, 56, 256)  1024        conv2d_1[0][0]                   \n",
            "__________________________________________________________________________________________________\n",
            "batch_normalization_3 (BatchNor (None, 56, 56, 256)  1024        conv2d_3[0][0]                   \n",
            "__________________________________________________________________________________________________\n",
            "add (Add)                       (None, 56, 56, 256)  0           batch_normalization_1[0][0]      \n",
            "                                                                 batch_normalization_3[0][0]      \n",
            "__________________________________________________________________________________________________\n",
            "activation_2 (Activation)       (None, 56, 56, 256)  0           add[0][0]                        \n",
            "__________________________________________________________________________________________________\n",
            "max_pooling2d_1 (MaxPooling2D)  (None, 28, 28, 256)  0           activation_2[0][0]               \n",
            "__________________________________________________________________________________________________\n",
            "conv2d_5 (Conv2D)               (None, 28, 28, 32)   8224        max_pooling2d_1[0][0]            \n",
            "__________________________________________________________________________________________________\n",
            "batch_normalization_5 (BatchNor (None, 28, 28, 32)   128         conv2d_5[0][0]                   \n",
            "__________________________________________________________________________________________________\n",
            "activation_3 (Activation)       (None, 28, 28, 32)   0           batch_normalization_5[0][0]      \n",
            "__________________________________________________________________________________________________\n",
            "conv2d_4 (Conv2D)               (None, 28, 28, 512)  1180160     activation_2[0][0]               \n",
            "__________________________________________________________________________________________________\n",
            "conv2d_6 (Conv2D)               (None, 28, 28, 512)  16896       activation_3[0][0]               \n",
            "__________________________________________________________________________________________________\n",
            "batch_normalization_4 (BatchNor (None, 28, 28, 512)  2048        conv2d_4[0][0]                   \n",
            "__________________________________________________________________________________________________\n",
            "batch_normalization_6 (BatchNor (None, 28, 28, 512)  2048        conv2d_6[0][0]                   \n",
            "__________________________________________________________________________________________________\n",
            "add_1 (Add)                     (None, 28, 28, 512)  0           batch_normalization_4[0][0]      \n",
            "                                                                 batch_normalization_6[0][0]      \n",
            "__________________________________________________________________________________________________\n",
            "activation_4 (Activation)       (None, 28, 28, 512)  0           add_1[0][0]                      \n",
            "__________________________________________________________________________________________________\n",
            "max_pooling2d_2 (MaxPooling2D)  (None, 14, 14, 512)  0           activation_4[0][0]               \n",
            "__________________________________________________________________________________________________\n",
            "conv2d_8 (Conv2D)               (None, 14, 14, 64)   32832       max_pooling2d_2[0][0]            \n",
            "__________________________________________________________________________________________________\n",
            "batch_normalization_8 (BatchNor (None, 14, 14, 64)   256         conv2d_8[0][0]                   \n",
            "__________________________________________________________________________________________________\n",
            "activation_5 (Activation)       (None, 14, 14, 64)   0           batch_normalization_8[0][0]      \n",
            "__________________________________________________________________________________________________\n",
            "conv2d_7 (Conv2D)               (None, 14, 14, 1024) 4719616     activation_4[0][0]               \n",
            "__________________________________________________________________________________________________\n",
            "conv2d_9 (Conv2D)               (None, 14, 14, 1024) 66560       activation_5[0][0]               \n",
            "__________________________________________________________________________________________________\n",
            "batch_normalization_7 (BatchNor (None, 14, 14, 1024) 4096        conv2d_7[0][0]                   \n",
            "__________________________________________________________________________________________________\n",
            "batch_normalization_9 (BatchNor (None, 14, 14, 1024) 4096        conv2d_9[0][0]                   \n",
            "__________________________________________________________________________________________________\n",
            "add_2 (Add)                     (None, 14, 14, 1024) 0           batch_normalization_7[0][0]      \n",
            "                                                                 batch_normalization_9[0][0]      \n",
            "__________________________________________________________________________________________________\n",
            "activation_6 (Activation)       (None, 14, 14, 1024) 0           add_2[0][0]                      \n",
            "__________________________________________________________________________________________________\n",
            "conv2d_10 (Conv2D)              (None, 14, 14, 512)  4719104     activation_6[0][0]               \n",
            "__________________________________________________________________________________________________\n",
            "batch_normalization_10 (BatchNo (None, 14, 14, 512)  2048        conv2d_10[0][0]                  \n",
            "__________________________________________________________________________________________________\n",
            "activation_7 (Activation)       (None, 14, 14, 512)  0           batch_normalization_10[0][0]     \n",
            "__________________________________________________________________________________________________\n",
            "max_pooling2d_3 (MaxPooling2D)  (None, 7, 7, 512)    0           activation_7[0][0]               \n",
            "__________________________________________________________________________________________________\n",
            "flatten (Flatten)               (None, 25088)        0           max_pooling2d_3[0][0]            \n",
            "__________________________________________________________________________________________________\n",
            "dense (Dense)                   (None, 128)          3211392     flatten[0][0]                    \n",
            "__________________________________________________________________________________________________\n",
            "batch_normalization_11 (BatchNo (None, 128)          512         dense[0][0]                      \n",
            "__________________________________________________________________________________________________\n",
            "activation_8 (Activation)       (None, 128)          0           batch_normalization_11[0][0]     \n",
            "__________________________________________________________________________________________________\n",
            "dense_1 (Dense)                 (None, 3)            387         activation_8[0][0]               \n",
            "__________________________________________________________________________________________________\n",
            "batch_normalization_12 (BatchNo (None, 3)            12          dense_1[0][0]                    \n",
            "__________________________________________________________________________________________________\n",
            "activation_9 (Activation)       (None, 3)            0           batch_normalization_12[0][0]     \n",
            "==================================================================================================\n",
            "Total params: 14,129,087\n",
            "Trainable params: 14,120,281\n",
            "Non-trainable params: 8,806\n",
            "__________________________________________________________________________________________________\n"
          ],
          "name": "stdout"
        }
      ]
    },
    {
      "cell_type": "code",
      "metadata": {
        "colab_type": "code",
        "outputId": "51d33637-6971-419f-b75b-9936100932d8",
        "id": "HDdMTqgIf2jo",
        "colab": {
          "base_uri": "https://localhost:8080/",
          "height": 1000
        }
      },
      "source": [
        "class_weights = {}\n",
        "for c in range(3):\n",
        "  class_weights[c] = 1000/np.sum(train_y==c)\n",
        "  print(class_weights[c])\n",
        "# class_weights[0] = 1\n",
        "# class_weights[1] = 2\n",
        "# class_weights[2] = 8\n",
        "\n",
        "early_stopping = keras.callbacks.EarlyStopping(\n",
        "    monitor='val_accuracy', \n",
        "    verbose=1,\n",
        "    patience=10,\n",
        "    mode='max',\n",
        "    restore_best_weights=True)\n",
        "\n",
        "\n",
        "model7.compile(optimizer='adam',\n",
        "              loss=tf.keras.losses.SparseCategoricalCrossentropy(from_logits=True),\n",
        "              metrics=['accuracy'])\n",
        "\n",
        "\n",
        "history7 = model7.fit(trainX, train_y, batch_size=8, epochs=25, callbacks=[early_stopping],\n",
        "                    class_weight=class_weights, validation_data=(valX, val_y))  \n",
        "\n",
        "\n",
        "plt.plot(history7.history['accuracy'], label='accuracy')\n",
        "plt.plot(history7.history['val_accuracy'], label = 'val_accuracy')\n",
        "plt.xlabel('Epoch')\n",
        "plt.ylabel('Accuracy')\n",
        "plt.ylim([0.5, 1])\n",
        "plt.legend(loc='lower right')\n",
        "\n",
        "test_y_pred_m = model7.predict(testX)\n",
        "test_y_pred7 = np.argmax(test_y_pred_m, axis=1)\n",
        "\n",
        "conf_matrix = confusion_matrix(test_y, test_y_pred7, labels=[0, 1, 2])\n",
        "print(\"Confusion matrix:\")\n",
        "print(conf_matrix)\n",
        "print(classification_report(test_y, test_y_pred7, digits=3))"
      ],
      "execution_count": 8,
      "outputs": [
        {
          "output_type": "stream",
          "text": [
            "0.13948946854512484\n",
            "0.2038735983690112\n",
            "7.352941176470588\n",
            "Epoch 1/25\n",
            "1527/1527 [==============================] - 541s 354ms/step - loss: 0.2305 - accuracy: 0.5743 - val_loss: 1.2976 - val_accuracy: 0.1876\n",
            "Epoch 2/25\n",
            "1527/1527 [==============================] - 539s 353ms/step - loss: 0.2173 - accuracy: 0.6677 - val_loss: 0.9286 - val_accuracy: 0.5968\n",
            "Epoch 3/25\n",
            "1527/1527 [==============================] - 513s 336ms/step - loss: 0.2090 - accuracy: 0.6811 - val_loss: 0.8983 - val_accuracy: 0.6512\n",
            "Epoch 4/25\n",
            "1527/1527 [==============================] - 517s 338ms/step - loss: 0.1985 - accuracy: 0.7303 - val_loss: 0.9682 - val_accuracy: 0.5570\n",
            "Epoch 5/25\n",
            "1527/1527 [==============================] - 523s 343ms/step - loss: 0.1916 - accuracy: 0.7472 - val_loss: 1.0182 - val_accuracy: 0.5166\n",
            "Epoch 6/25\n",
            "1527/1527 [==============================] - 520s 341ms/step - loss: 0.1863 - accuracy: 0.7719 - val_loss: 0.8991 - val_accuracy: 0.6468\n",
            "Epoch 7/25\n",
            "1527/1527 [==============================] - 539s 353ms/step - loss: 0.1827 - accuracy: 0.7708 - val_loss: 0.8916 - val_accuracy: 0.6512\n",
            "Epoch 8/25\n",
            "1527/1527 [==============================] - 534s 349ms/step - loss: 0.1768 - accuracy: 0.8020 - val_loss: 0.7458 - val_accuracy: 0.8138\n",
            "Epoch 9/25\n",
            "1527/1527 [==============================] - 516s 338ms/step - loss: 0.1757 - accuracy: 0.8016 - val_loss: 0.7035 - val_accuracy: 0.8462\n",
            "Epoch 10/25\n",
            "1527/1527 [==============================] - 508s 333ms/step - loss: 0.1765 - accuracy: 0.7944 - val_loss: 1.1073 - val_accuracy: 0.4040\n",
            "Epoch 11/25\n",
            "1527/1527 [==============================] - 515s 337ms/step - loss: 0.1712 - accuracy: 0.8160 - val_loss: 0.6990 - val_accuracy: 0.8558\n",
            "Epoch 12/25\n",
            "1527/1527 [==============================] - 504s 330ms/step - loss: 0.1697 - accuracy: 0.8269 - val_loss: 0.7939 - val_accuracy: 0.7535\n",
            "Epoch 13/25\n",
            "1527/1527 [==============================] - 506s 331ms/step - loss: 0.1670 - accuracy: 0.8356 - val_loss: 0.6995 - val_accuracy: 0.8506\n",
            "Epoch 14/25\n",
            "1527/1527 [==============================] - 499s 327ms/step - loss: 0.1669 - accuracy: 0.8311 - val_loss: 0.7059 - val_accuracy: 0.8425\n",
            "Epoch 15/25\n",
            "1527/1527 [==============================] - 510s 334ms/step - loss: 0.1660 - accuracy: 0.8353 - val_loss: 0.8968 - val_accuracy: 0.6468\n",
            "Epoch 16/25\n",
            "1527/1527 [==============================] - 502s 329ms/step - loss: 0.1662 - accuracy: 0.8384 - val_loss: 0.8243 - val_accuracy: 0.7233\n",
            "Epoch 17/25\n",
            "1527/1527 [==============================] - 496s 325ms/step - loss: 0.1650 - accuracy: 0.8416 - val_loss: 0.8353 - val_accuracy: 0.7123\n",
            "Epoch 18/25\n",
            "1527/1527 [==============================] - 487s 319ms/step - loss: 0.1625 - accuracy: 0.8633 - val_loss: 0.7041 - val_accuracy: 0.8492\n",
            "Epoch 19/25\n",
            "1527/1527 [==============================] - 491s 322ms/step - loss: 0.1630 - accuracy: 0.8509 - val_loss: 0.6998 - val_accuracy: 0.8469\n",
            "Epoch 20/25\n",
            "1527/1527 [==============================] - 489s 320ms/step - loss: 0.1591 - accuracy: 0.8639 - val_loss: 0.6849 - val_accuracy: 0.8653\n",
            "Epoch 21/25\n",
            "1527/1527 [==============================] - 496s 325ms/step - loss: 0.1589 - accuracy: 0.8672 - val_loss: 0.7217 - val_accuracy: 0.8271\n",
            "Epoch 22/25\n",
            "1527/1527 [==============================] - 497s 325ms/step - loss: 0.1628 - accuracy: 0.8573 - val_loss: 0.8132 - val_accuracy: 0.7358\n",
            "Epoch 23/25\n",
            "1527/1527 [==============================] - 500s 328ms/step - loss: 0.1626 - accuracy: 0.8528 - val_loss: 0.7662 - val_accuracy: 0.7837\n",
            "Epoch 24/25\n",
            "1527/1527 [==============================] - 490s 321ms/step - loss: 0.1587 - accuracy: 0.8740 - val_loss: 0.6968 - val_accuracy: 0.8565\n",
            "Epoch 25/25\n",
            "1527/1527 [==============================] - 495s 324ms/step - loss: 0.1570 - accuracy: 0.8775 - val_loss: 0.6779 - val_accuracy: 0.8720\n",
            "Confusion matrix:\n",
            "[[94  6  0]\n",
            " [13 86  1]\n",
            " [ 9  5 17]]\n",
            "              precision    recall  f1-score   support\n",
            "\n",
            "           0      0.810     0.940     0.870       100\n",
            "           1      0.887     0.860     0.873       100\n",
            "           2      0.944     0.548     0.694        31\n",
            "\n",
            "    accuracy                          0.853       231\n",
            "   macro avg      0.880     0.783     0.812       231\n",
            "weighted avg      0.861     0.853     0.848       231\n",
            "\n"
          ],
          "name": "stdout"
        },
        {
          "output_type": "display_data",
          "data": {
            "image/png": "[encoded data removed]",
            "text/plain": [
              "<Figure size 432x288 with 1 Axes>"
            ]
          },
          "metadata": {
            "tags": [],
            "needs_background": "light"
          }
        }
      ]
    },
    {
      "cell_type": "code",
      "metadata": {
        "colab_type": "code",
        "id": "vdfV_Cqjuu36",
        "colab": {}
      },
      "source": [
        "X_input = layers.Input((224, 224, 1))\n",
        "\n",
        "X = layers.Conv2D(64, (7, 7), strides=(2, 2), padding = 'same', kernel_initializer='he_uniform')(X_input)\n",
        "X = layers.BatchNormalization()(X)\n",
        "X = layers.Activation('relu')(X)\n",
        "\n",
        "X1 = layers.Conv2D(256, (3, 3), strides=(2, 2), padding='same', kernel_initializer='he_uniform')(X)\n",
        "X1 = layers.BatchNormalization()(X1)\n",
        "\n",
        "b1 = layers.MaxPool2D((2,2))(X) \n",
        "b1 = layers.Conv2D(16, (1, 1), padding='same', kernel_initializer='he_uniform')(b1)\n",
        "b1 = layers.BatchNormalization()(b1)\n",
        "b1 = layers.Activation('relu')(b1)\n",
        "b1 = layers.Conv2D(256, (1, 1), padding='same', kernel_initializer='he_uniform')(b1)\n",
        "b1 = layers.BatchNormalization()(b1)\n",
        "\n",
        "X = layers.Add()([X1, b1])\n",
        "X = layers.Activation('relu')(X)\n",
        "\n",
        "X1 = layers.Conv2D(256, (3, 3), padding='same', kernel_initializer='he_uniform')(X)\n",
        "X1 = layers.BatchNormalization()(X1)\n",
        "\n",
        "b1 = layers.Conv2D(16, (1, 1), padding='same', kernel_initializer='he_uniform')(b1)\n",
        "b1 = layers.BatchNormalization()(b1)\n",
        "b1 = layers.Activation('relu')(b1)\n",
        "b1 = layers.Conv2D(256, (1, 1), padding='same', kernel_initializer='he_uniform')(b1)\n",
        "b1 = layers.BatchNormalization()(b1)\n",
        "\n",
        "\n",
        "X = layers.Add()([X1, b1])\n",
        "X = layers.Activation('relu')(X)\n",
        "\n",
        "X2 = layers.Conv2D(512, (3, 3), strides=(2, 2), padding='same', kernel_initializer='he_normal')(X)\n",
        "X2 = layers.BatchNormalization()(X2)\n",
        "\n",
        "b2 = layers.MaxPool2D((2,2))(X) \n",
        "b2 = layers.Conv2D(32, (1, 1), padding='same', kernel_initializer='he_uniform')(b2)\n",
        "b2 = layers.BatchNormalization()(b2)\n",
        "b2 = layers.Activation('relu')(b2)\n",
        "b2 = layers.Conv2D(512, (1, 1), padding='same',  kernel_initializer='he_uniform')(b2)\n",
        "b2 = layers.BatchNormalization()(b2)\n",
        "\n",
        "\n",
        "X = layers.Add()([X2, b2])\n",
        "X = layers.Activation('relu')(X)\n",
        "\n",
        "X2 = layers.Conv2D(512, (3, 3), padding='same', kernel_initializer='he_normal')(X)\n",
        "X2 = layers.BatchNormalization()(X2)\n",
        "\n",
        "b2 = layers.Conv2D(32, (1, 1), padding='same', kernel_initializer='he_uniform')(b2)\n",
        "b2 = layers.BatchNormalization()(b2)\n",
        "b2 = layers.Activation('relu')(b2)\n",
        "b2 = layers.Conv2D(512, (1, 1), padding='same',  kernel_initializer='he_uniform')(b2)\n",
        "b2 = layers.BatchNormalization()(b2)\n",
        "\n",
        "X = layers.Add()([X2, b2])\n",
        "X = layers.Activation('relu')(X)\n",
        "\n",
        "X3 = layers.Conv2D(1024, (3, 3), strides=(2, 2), padding='same', kernel_initializer='he_normal')(X)\n",
        "X3 = layers.BatchNormalization()(X3)\n",
        "\n",
        "b3 = layers.MaxPool2D((2,2))(X) \n",
        "b3 = layers.Conv2D(64, (1, 1), padding='same', kernel_initializer='he_uniform')(b3)\n",
        "b3 = layers.BatchNormalization()(b3)\n",
        "b3 = layers.Activation('relu')(b3)\n",
        "b3 = layers.Conv2D(1024, (1, 1), padding='same',  kernel_initializer='he_uniform')(b3)\n",
        "b3 = layers.BatchNormalization()(b3)\n",
        "\n",
        "\n",
        "X = layers.Add()([X3, b3])\n",
        "X = layers.Activation('relu')(X)\n",
        "\n",
        "X3 = layers.Conv2D(1024, (3, 3), padding='same', kernel_initializer='he_normal')(X)\n",
        "X3 = layers.BatchNormalization()(X3)\n",
        "\n",
        "b3 = layers.Conv2D(64, (1, 1), padding='same', kernel_initializer='he_uniform')(b3)\n",
        "b3 = layers.BatchNormalization()(b3)\n",
        "b3 = layers.Activation('relu')(b3)\n",
        "b3 = layers.Conv2D(1024, (1, 1), padding='same',  kernel_initializer='he_uniform')(b3)\n",
        "b3 = layers.BatchNormalization()(b3)\n",
        "\n",
        "X = layers.Add()([X3, b3])\n",
        "X = layers.Activation('relu')(X)\n",
        "\n",
        "X = layers.Conv2D(512, (3, 3), padding='same', kernel_initializer='he_uniform')(X)\n",
        "X = layers.BatchNormalization()(X)\n",
        "X = layers.Activation('relu')(X)\n",
        "X = layers.MaxPool2D(2, 2)(X)\n",
        "\n",
        "X = layers.Flatten()(X)\n",
        "X = layers.Dense(128, kernel_initializer='he_uniform')(X)\n",
        "X = layers.BatchNormalization()(X)\n",
        "X = layers.Activation('relu')(X)\n",
        "X = layers.Dense(3,kernel_initializer='he_uniform')(X)\n",
        "X = layers.BatchNormalization()(X)\n",
        "X = layers.Activation('softmax')(X)\n",
        "\n",
        "model8 = keras.models.Model(inputs=X_input, outputs=X, name='model_8')\n",
        "model8.summary()"
      ],
      "execution_count": 0,
      "outputs": []
    },
    {
      "cell_type": "code",
      "metadata": {
        "id": "gUX4boj3pFG9",
        "colab_type": "code",
        "colab": {}
      },
      "source": [
        ""
      ],
      "execution_count": 0,
      "outputs": []
    },
    {
      "cell_type": "code",
      "metadata": {
        "colab_type": "code",
        "outputId": "39b4b52e-76f5-4cd2-b717-315ba242ed2e",
        "id": "lJgVNsU3u0zI",
        "colab": {
          "base_uri": "https://localhost:8080/",
          "height": 408
        }
      },
      "source": [
        "class_weights = {}\n",
        "# for c in range(3):\n",
        "#   class_weights[c] = 1000/np.sum(train_y==c)\n",
        "#   print(class_weights[c])\n",
        "class_weights[0] = 1\n",
        "class_weights[1] = 2\n",
        "class_weights[2] = 12\n",
        "\n",
        "early_stopping = keras.callbacks.EarlyStopping(\n",
        "    monitor='val_accuracy', \n",
        "    verbose=1,\n",
        "    patience=10,\n",
        "    mode='max',\n",
        "    restore_best_weights=True)\n",
        "\n",
        "aug = keras.preprocessing.image.ImageDataGenerator(rotation_range=20, width_shift_range=0.1,\n",
        "                         height_shift_range=0.1, shear_range=0.2, \n",
        "                         zoom_range=0.01, horizontal_flip=True,\n",
        "                         vertical_flip=False, fill_mode=\"nearest\")\n",
        "\n",
        "dirname = \"/content/drive/My Drive/KTH/Year 1/DD2424 Deep Learning/DD2424_Project/\"\n",
        "\n",
        "filename = \"model8-{epoch:02d}-{val_accuracy:.2f}.hdf5\"\n",
        "\n",
        "checkpoint = tf.keras.callbacks.ModelCheckpoint(filepath=os.path.join(dirname, filename),  \n",
        "                                        monitor=\"val_accuracy\",\n",
        "                                        safe_best_only = True,\n",
        "                                        verbose=1)\n",
        "\n",
        "optimizer = keras.optimizers.Adam(0.00002)\n",
        "\n",
        "model8.compile(optimizer=optimizer,\n",
        "              loss=tf.keras.losses.SparseCategoricalCrossentropy(from_logits=True),\n",
        "              metrics=['accuracy'])\n",
        "\n",
        "\n",
        "history8 = model8.fit(aug.flow(trainX, train_y), batch_size=8,\n",
        "                      epochs=25, callbacks=[early_stopping, checkpoint],\n",
        "                      class_weight=class_weights, validation_data=(valX, val_y))  \n",
        "\n",
        "\n",
        "plt.plot(history8.history['accuracy'], label='accuracy')\n",
        "plt.plot(history8.history['val_accuracy'], label = 'val_accuracy')\n",
        "plt.xlabel('Epoch')\n",
        "plt.ylabel('Accuracy')\n",
        "plt.ylim([0.5, 1])\n",
        "plt.legend(loc='lower right')\n",
        "\n",
        "test_y_pred_m = model8.predict(testX)\n",
        "test_y_pred8 = np.argmax(test_y_pred_m, axis=1)\n",
        "\n",
        "conf_matrix = confusion_matrix(test_y, test_y_pred8, labels=[0, 1, 2])\n",
        "print(\"Confusion matrix:\")\n",
        "print(conf_matrix)\n",
        "print(classification_report(test_y, test_y_pred8, digits=3))"
      ],
      "execution_count": 19,
      "outputs": [
        {
          "output_type": "stream",
          "text": [
            "Epoch 1/25\n",
            "    127/Unknown - 332s 3s/step - loss: 1.4472 - accuracy: 0.5802"
          ],
          "name": "stdout"
        },
        {
          "output_type": "error",
          "ename": "KeyboardInterrupt",
          "evalue": "ignored",
          "traceback": [
            "\u001b[0;31m---------------------------------------------------------------------------\u001b[0m",
            "\u001b[0;31mKeyboardInterrupt\u001b[0m                         Traceback (most recent call last)",
            "\u001b[0;32m<ipython-input-19-ddf067cfe59f>\u001b[0m in \u001b[0;36m<module>\u001b[0;34m()\u001b[0m\n\u001b[1;32m     37\u001b[0m history8 = model8.fit(aug.flow(trainX, train_y), batch_size=8,\n\u001b[1;32m     38\u001b[0m                       \u001b[0mepochs\u001b[0m\u001b[0;34m=\u001b[0m\u001b[0;36m25\u001b[0m\u001b[0;34m,\u001b[0m \u001b[0mcallbacks\u001b[0m\u001b[0;34m=\u001b[0m\u001b[0;34m[\u001b[0m\u001b[0mearly_stopping\u001b[0m\u001b[0;34m,\u001b[0m \u001b[0mcheckpoint\u001b[0m\u001b[0;34m]\u001b[0m\u001b[0;34m,\u001b[0m\u001b[0;34m\u001b[0m\u001b[0;34m\u001b[0m\u001b[0m\n\u001b[0;32m---> 39\u001b[0;31m                       class_weight=class_weights, validation_data=(valX, val_y))  \n\u001b[0m\u001b[1;32m     40\u001b[0m \u001b[0;34m\u001b[0m\u001b[0m\n\u001b[1;32m     41\u001b[0m \u001b[0;34m\u001b[0m\u001b[0m\n",
            "\u001b[0;32m/usr/local/lib/python3.6/dist-packages/tensorflow/python/keras/engine/training.py\u001b[0m in \u001b[0;36m_method_wrapper\u001b[0;34m(self, *args, **kwargs)\u001b[0m\n\u001b[1;32m     64\u001b[0m   \u001b[0;32mdef\u001b[0m \u001b[0m_method_wrapper\u001b[0m\u001b[0;34m(\u001b[0m\u001b[0mself\u001b[0m\u001b[0;34m,\u001b[0m \u001b[0;34m*\u001b[0m\u001b[0margs\u001b[0m\u001b[0;34m,\u001b[0m \u001b[0;34m**\u001b[0m\u001b[0mkwargs\u001b[0m\u001b[0;34m)\u001b[0m\u001b[0;34m:\u001b[0m\u001b[0;34m\u001b[0m\u001b[0;34m\u001b[0m\u001b[0m\n\u001b[1;32m     65\u001b[0m     \u001b[0;32mif\u001b[0m \u001b[0;32mnot\u001b[0m \u001b[0mself\u001b[0m\u001b[0;34m.\u001b[0m\u001b[0m_in_multi_worker_mode\u001b[0m\u001b[0;34m(\u001b[0m\u001b[0;34m)\u001b[0m\u001b[0;34m:\u001b[0m  \u001b[0;31m# pylint: disable=protected-access\u001b[0m\u001b[0;34m\u001b[0m\u001b[0;34m\u001b[0m\u001b[0m\n\u001b[0;32m---> 66\u001b[0;31m       \u001b[0;32mreturn\u001b[0m \u001b[0mmethod\u001b[0m\u001b[0;34m(\u001b[0m\u001b[0mself\u001b[0m\u001b[0;34m,\u001b[0m \u001b[0;34m*\u001b[0m\u001b[0margs\u001b[0m\u001b[0;34m,\u001b[0m \u001b[0;34m**\u001b[0m\u001b[0mkwargs\u001b[0m\u001b[0;34m)\u001b[0m\u001b[0;34m\u001b[0m\u001b[0;34m\u001b[0m\u001b[0m\n\u001b[0m\u001b[1;32m     67\u001b[0m \u001b[0;34m\u001b[0m\u001b[0m\n\u001b[1;32m     68\u001b[0m     \u001b[0;31m# Running inside `run_distribute_coordinator` already.\u001b[0m\u001b[0;34m\u001b[0m\u001b[0;34m\u001b[0m\u001b[0;34m\u001b[0m\u001b[0m\n",
            "\u001b[0;32m/usr/local/lib/python3.6/dist-packages/tensorflow/python/keras/engine/training.py\u001b[0m in \u001b[0;36mfit\u001b[0;34m(self, x, y, batch_size, epochs, verbose, callbacks, validation_split, validation_data, shuffle, class_weight, sample_weight, initial_epoch, steps_per_epoch, validation_steps, validation_batch_size, validation_freq, max_queue_size, workers, use_multiprocessing)\u001b[0m\n\u001b[1;32m    846\u001b[0m                 batch_size=batch_size):\n\u001b[1;32m    847\u001b[0m               \u001b[0mcallbacks\u001b[0m\u001b[0;34m.\u001b[0m\u001b[0mon_train_batch_begin\u001b[0m\u001b[0;34m(\u001b[0m\u001b[0mstep\u001b[0m\u001b[0;34m)\u001b[0m\u001b[0;34m\u001b[0m\u001b[0;34m\u001b[0m\u001b[0m\n\u001b[0;32m--> 848\u001b[0;31m               \u001b[0mtmp_logs\u001b[0m \u001b[0;34m=\u001b[0m \u001b[0mtrain_function\u001b[0m\u001b[0;34m(\u001b[0m\u001b[0miterator\u001b[0m\u001b[0;34m)\u001b[0m\u001b[0;34m\u001b[0m\u001b[0;34m\u001b[0m\u001b[0m\n\u001b[0m\u001b[1;32m    849\u001b[0m               \u001b[0;31m# Catch OutOfRangeError for Datasets of unknown size.\u001b[0m\u001b[0;34m\u001b[0m\u001b[0;34m\u001b[0m\u001b[0;34m\u001b[0m\u001b[0m\n\u001b[1;32m    850\u001b[0m               \u001b[0;31m# This blocks until the batch has finished executing.\u001b[0m\u001b[0;34m\u001b[0m\u001b[0;34m\u001b[0m\u001b[0;34m\u001b[0m\u001b[0m\n",
            "\u001b[0;32m/usr/local/lib/python3.6/dist-packages/tensorflow/python/eager/def_function.py\u001b[0m in \u001b[0;36m__call__\u001b[0;34m(self, *args, **kwds)\u001b[0m\n\u001b[1;32m    578\u001b[0m         \u001b[0mxla_context\u001b[0m\u001b[0;34m.\u001b[0m\u001b[0mExit\u001b[0m\u001b[0;34m(\u001b[0m\u001b[0;34m)\u001b[0m\u001b[0;34m\u001b[0m\u001b[0;34m\u001b[0m\u001b[0m\n\u001b[1;32m    579\u001b[0m     \u001b[0;32melse\u001b[0m\u001b[0;34m:\u001b[0m\u001b[0;34m\u001b[0m\u001b[0;34m\u001b[0m\u001b[0m\n\u001b[0;32m--> 580\u001b[0;31m       \u001b[0mresult\u001b[0m \u001b[0;34m=\u001b[0m \u001b[0mself\u001b[0m\u001b[0;34m.\u001b[0m\u001b[0m_call\u001b[0m\u001b[0;34m(\u001b[0m\u001b[0;34m*\u001b[0m\u001b[0margs\u001b[0m\u001b[0;34m,\u001b[0m \u001b[0;34m**\u001b[0m\u001b[0mkwds\u001b[0m\u001b[0;34m)\u001b[0m\u001b[0;34m\u001b[0m\u001b[0;34m\u001b[0m\u001b[0m\n\u001b[0m\u001b[1;32m    581\u001b[0m \u001b[0;34m\u001b[0m\u001b[0m\n\u001b[1;32m    582\u001b[0m     \u001b[0;32mif\u001b[0m \u001b[0mtracing_count\u001b[0m \u001b[0;34m==\u001b[0m \u001b[0mself\u001b[0m\u001b[0;34m.\u001b[0m\u001b[0m_get_tracing_count\u001b[0m\u001b[0;34m(\u001b[0m\u001b[0;34m)\u001b[0m\u001b[0;34m:\u001b[0m\u001b[0;34m\u001b[0m\u001b[0;34m\u001b[0m\u001b[0m\n",
            "\u001b[0;32m/usr/local/lib/python3.6/dist-packages/tensorflow/python/eager/def_function.py\u001b[0m in \u001b[0;36m_call\u001b[0;34m(self, *args, **kwds)\u001b[0m\n\u001b[1;32m    609\u001b[0m       \u001b[0;31m# In this case we have created variables on the first call, so we run the\u001b[0m\u001b[0;34m\u001b[0m\u001b[0;34m\u001b[0m\u001b[0;34m\u001b[0m\u001b[0m\n\u001b[1;32m    610\u001b[0m       \u001b[0;31m# defunned version which is guaranteed to never create variables.\u001b[0m\u001b[0;34m\u001b[0m\u001b[0;34m\u001b[0m\u001b[0;34m\u001b[0m\u001b[0m\n\u001b[0;32m--> 611\u001b[0;31m       \u001b[0;32mreturn\u001b[0m \u001b[0mself\u001b[0m\u001b[0;34m.\u001b[0m\u001b[0m_stateless_fn\u001b[0m\u001b[0;34m(\u001b[0m\u001b[0;34m*\u001b[0m\u001b[0margs\u001b[0m\u001b[0;34m,\u001b[0m \u001b[0;34m**\u001b[0m\u001b[0mkwds\u001b[0m\u001b[0;34m)\u001b[0m  \u001b[0;31m# pylint: disable=not-callable\u001b[0m\u001b[0;34m\u001b[0m\u001b[0;34m\u001b[0m\u001b[0m\n\u001b[0m\u001b[1;32m    612\u001b[0m     \u001b[0;32melif\u001b[0m \u001b[0mself\u001b[0m\u001b[0;34m.\u001b[0m\u001b[0m_stateful_fn\u001b[0m \u001b[0;32mis\u001b[0m \u001b[0;32mnot\u001b[0m \u001b[0;32mNone\u001b[0m\u001b[0;34m:\u001b[0m\u001b[0;34m\u001b[0m\u001b[0;34m\u001b[0m\u001b[0m\n\u001b[1;32m    613\u001b[0m       \u001b[0;31m# Release the lock early so that multiple threads can perform the call\u001b[0m\u001b[0;34m\u001b[0m\u001b[0;34m\u001b[0m\u001b[0;34m\u001b[0m\u001b[0m\n",
            "\u001b[0;32m/usr/local/lib/python3.6/dist-packages/tensorflow/python/eager/function.py\u001b[0m in \u001b[0;36m__call__\u001b[0;34m(self, *args, **kwargs)\u001b[0m\n\u001b[1;32m   2418\u001b[0m     \u001b[0;32mwith\u001b[0m \u001b[0mself\u001b[0m\u001b[0;34m.\u001b[0m\u001b[0m_lock\u001b[0m\u001b[0;34m:\u001b[0m\u001b[0;34m\u001b[0m\u001b[0;34m\u001b[0m\u001b[0m\n\u001b[1;32m   2419\u001b[0m       \u001b[0mgraph_function\u001b[0m\u001b[0;34m,\u001b[0m \u001b[0margs\u001b[0m\u001b[0;34m,\u001b[0m \u001b[0mkwargs\u001b[0m \u001b[0;34m=\u001b[0m \u001b[0mself\u001b[0m\u001b[0;34m.\u001b[0m\u001b[0m_maybe_define_function\u001b[0m\u001b[0;34m(\u001b[0m\u001b[0margs\u001b[0m\u001b[0;34m,\u001b[0m \u001b[0mkwargs\u001b[0m\u001b[0;34m)\u001b[0m\u001b[0;34m\u001b[0m\u001b[0;34m\u001b[0m\u001b[0m\n\u001b[0;32m-> 2420\u001b[0;31m     \u001b[0;32mreturn\u001b[0m \u001b[0mgraph_function\u001b[0m\u001b[0;34m.\u001b[0m\u001b[0m_filtered_call\u001b[0m\u001b[0;34m(\u001b[0m\u001b[0margs\u001b[0m\u001b[0;34m,\u001b[0m \u001b[0mkwargs\u001b[0m\u001b[0;34m)\u001b[0m  \u001b[0;31m# pylint: disable=protected-access\u001b[0m\u001b[0;34m\u001b[0m\u001b[0;34m\u001b[0m\u001b[0m\n\u001b[0m\u001b[1;32m   2421\u001b[0m \u001b[0;34m\u001b[0m\u001b[0m\n\u001b[1;32m   2422\u001b[0m   \u001b[0;34m@\u001b[0m\u001b[0mproperty\u001b[0m\u001b[0;34m\u001b[0m\u001b[0;34m\u001b[0m\u001b[0m\n",
            "\u001b[0;32m/usr/local/lib/python3.6/dist-packages/tensorflow/python/eager/function.py\u001b[0m in \u001b[0;36m_filtered_call\u001b[0;34m(self, args, kwargs)\u001b[0m\n\u001b[1;32m   1663\u001b[0m          if isinstance(t, (ops.Tensor,\n\u001b[1;32m   1664\u001b[0m                            resource_variable_ops.BaseResourceVariable))),\n\u001b[0;32m-> 1665\u001b[0;31m         self.captured_inputs)\n\u001b[0m\u001b[1;32m   1666\u001b[0m \u001b[0;34m\u001b[0m\u001b[0m\n\u001b[1;32m   1667\u001b[0m   \u001b[0;32mdef\u001b[0m \u001b[0m_call_flat\u001b[0m\u001b[0;34m(\u001b[0m\u001b[0mself\u001b[0m\u001b[0;34m,\u001b[0m \u001b[0margs\u001b[0m\u001b[0;34m,\u001b[0m \u001b[0mcaptured_inputs\u001b[0m\u001b[0;34m,\u001b[0m \u001b[0mcancellation_manager\u001b[0m\u001b[0;34m=\u001b[0m\u001b[0;32mNone\u001b[0m\u001b[0;34m)\u001b[0m\u001b[0;34m:\u001b[0m\u001b[0;34m\u001b[0m\u001b[0;34m\u001b[0m\u001b[0m\n",
            "\u001b[0;32m/usr/local/lib/python3.6/dist-packages/tensorflow/python/eager/function.py\u001b[0m in \u001b[0;36m_call_flat\u001b[0;34m(self, args, captured_inputs, cancellation_manager)\u001b[0m\n\u001b[1;32m   1744\u001b[0m       \u001b[0;31m# No tape is watching; skip to running the function.\u001b[0m\u001b[0;34m\u001b[0m\u001b[0;34m\u001b[0m\u001b[0;34m\u001b[0m\u001b[0m\n\u001b[1;32m   1745\u001b[0m       return self._build_call_outputs(self._inference_function.call(\n\u001b[0;32m-> 1746\u001b[0;31m           ctx, args, cancellation_manager=cancellation_manager))\n\u001b[0m\u001b[1;32m   1747\u001b[0m     forward_backward = self._select_forward_and_backward_functions(\n\u001b[1;32m   1748\u001b[0m         \u001b[0margs\u001b[0m\u001b[0;34m,\u001b[0m\u001b[0;34m\u001b[0m\u001b[0;34m\u001b[0m\u001b[0m\n",
            "\u001b[0;32m/usr/local/lib/python3.6/dist-packages/tensorflow/python/eager/function.py\u001b[0m in \u001b[0;36mcall\u001b[0;34m(self, ctx, args, cancellation_manager)\u001b[0m\n\u001b[1;32m    596\u001b[0m               \u001b[0minputs\u001b[0m\u001b[0;34m=\u001b[0m\u001b[0margs\u001b[0m\u001b[0;34m,\u001b[0m\u001b[0;34m\u001b[0m\u001b[0;34m\u001b[0m\u001b[0m\n\u001b[1;32m    597\u001b[0m               \u001b[0mattrs\u001b[0m\u001b[0;34m=\u001b[0m\u001b[0mattrs\u001b[0m\u001b[0;34m,\u001b[0m\u001b[0;34m\u001b[0m\u001b[0;34m\u001b[0m\u001b[0m\n\u001b[0;32m--> 598\u001b[0;31m               ctx=ctx)\n\u001b[0m\u001b[1;32m    599\u001b[0m         \u001b[0;32melse\u001b[0m\u001b[0;34m:\u001b[0m\u001b[0;34m\u001b[0m\u001b[0;34m\u001b[0m\u001b[0m\n\u001b[1;32m    600\u001b[0m           outputs = execute.execute_with_cancellation(\n",
            "\u001b[0;32m/usr/local/lib/python3.6/dist-packages/tensorflow/python/eager/execute.py\u001b[0m in \u001b[0;36mquick_execute\u001b[0;34m(op_name, num_outputs, inputs, attrs, ctx, name)\u001b[0m\n\u001b[1;32m     58\u001b[0m     \u001b[0mctx\u001b[0m\u001b[0;34m.\u001b[0m\u001b[0mensure_initialized\u001b[0m\u001b[0;34m(\u001b[0m\u001b[0;34m)\u001b[0m\u001b[0;34m\u001b[0m\u001b[0;34m\u001b[0m\u001b[0m\n\u001b[1;32m     59\u001b[0m     tensors = pywrap_tfe.TFE_Py_Execute(ctx._handle, device_name, op_name,\n\u001b[0;32m---> 60\u001b[0;31m                                         inputs, attrs, num_outputs)\n\u001b[0m\u001b[1;32m     61\u001b[0m   \u001b[0;32mexcept\u001b[0m \u001b[0mcore\u001b[0m\u001b[0;34m.\u001b[0m\u001b[0m_NotOkStatusException\u001b[0m \u001b[0;32mas\u001b[0m \u001b[0me\u001b[0m\u001b[0;34m:\u001b[0m\u001b[0;34m\u001b[0m\u001b[0;34m\u001b[0m\u001b[0m\n\u001b[1;32m     62\u001b[0m     \u001b[0;32mif\u001b[0m \u001b[0mname\u001b[0m \u001b[0;32mis\u001b[0m \u001b[0;32mnot\u001b[0m \u001b[0;32mNone\u001b[0m\u001b[0;34m:\u001b[0m\u001b[0;34m\u001b[0m\u001b[0;34m\u001b[0m\u001b[0m\n",
            "\u001b[0;31mKeyboardInterrupt\u001b[0m: "
          ]
        }
      ]
    },
    {
      "cell_type": "code",
      "metadata": {
        "id": "nQ9_nLNto0nW",
        "colab_type": "code",
        "colab": {
          "base_uri": "https://localhost:8080/",
          "height": 34
        },
        "outputId": "c6bb6fd1-1125-4db9-a013-c878b4ab54c5"
      },
      "source": [
        "aug.flow(trainX, train_y)"
      ],
      "execution_count": 20,
      "outputs": [
        {
          "output_type": "execute_result",
          "data": {
            "text/plain": [
              "<keras_preprocessing.image.numpy_array_iterator.NumpyArrayIterator at 0x7f6dae16a240>"
            ]
          },
          "metadata": {
            "tags": []
          },
          "execution_count": 20
        }
      ]
    },
    {
      "cell_type": "code",
      "metadata": {
        "id": "qRzSSGVGlG5j",
        "colab_type": "code",
        "colab": {}
      },
      "source": [
        "filename = \"/content/drive/My Drive/KTH/Year 1/DD2424 Deep Learning/DD2424_Project/model8.h5\"\n",
        "# model8.save(filename)"
      ],
      "execution_count": 0,
      "outputs": []
    },
    {
      "cell_type": "code",
      "metadata": {
        "id": "-7st40zonXrf",
        "colab_type": "code",
        "outputId": "8db608eb-dfd1-4d14-fd49-f87fd80441d0",
        "colab": {
          "base_uri": "https://localhost:8080/",
          "height": 255
        }
      },
      "source": [
        "loaded = keras.models.load_model(filename) # model8.load_weights(os.path.join(filename, saved)\n",
        "test_y_pred_m = loaded.predict(testX)\n",
        "test_y_pred8 = np.argmax(test_y_pred_m, axis=1)\n",
        "\n",
        "conf_matrix = confusion_matrix(test_y, test_y_pred8, labels=[0, 1, 2])\n",
        "print(\"Confusion matrix:\")\n",
        "print(conf_matrix)\n",
        "print(classification_report(test_y, test_y_pred8, digits=3))"
      ],
      "execution_count": 0,
      "outputs": [
        {
          "output_type": "stream",
          "text": [
            "Confusion matrix:\n",
            "[[98  2  0]\n",
            " [10 90  0]\n",
            " [ 6  1 24]]\n",
            "              precision    recall  f1-score   support\n",
            "\n",
            "           0      0.860     0.980     0.916       100\n",
            "           1      0.968     0.900     0.933       100\n",
            "           2      1.000     0.774     0.873        31\n",
            "\n",
            "    accuracy                          0.918       231\n",
            "   macro avg      0.942     0.885     0.907       231\n",
            "weighted avg      0.925     0.918     0.917       231\n",
            "\n"
          ],
          "name": "stdout"
        }
      ]
    },
    {
      "cell_type": "code",
      "metadata": {
        "id": "6aKebl9mnyAs",
        "colab_type": "code",
        "outputId": "2b894d3f-6536-4679-b73d-2fc7c2b6e960",
        "colab": {
          "base_uri": "https://localhost:8080/",
          "height": 34
        }
      },
      "source": [
        "loaded_model8\n"
      ],
      "execution_count": 0,
      "outputs": [
        {
          "output_type": "execute_result",
          "data": {
            "text/plain": [
              "<tensorflow.python.saved_model.load.Loader._recreate_base_user_object.<locals>._UserObject at 0x7fb81ba6c5c0>"
            ]
          },
          "metadata": {
            "tags": []
          },
          "execution_count": 15
        }
      ]
    },
    {
      "cell_type": "code",
      "metadata": {
        "id": "_kowFTpqn01H",
        "colab_type": "code",
        "colab": {}
      },
      "source": [
        ""
      ],
      "execution_count": 0,
      "outputs": []
    }
  ]
}