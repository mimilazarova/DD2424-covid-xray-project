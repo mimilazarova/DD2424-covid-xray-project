{
  "nbformat": 4,
  "nbformat_minor": 0,
  "metadata": {
    "kernelspec": {
      "display_name": "Python 3",
      "language": "python",
      "name": "python3"
    },
    "language_info": {
      "codemirror_mode": {
        "name": "ipython",
        "version": 3
      },
      "file_extension": ".py",
      "mimetype": "text/x-python",
      "name": "python",
      "nbconvert_exporter": "python",
      "pygments_lexer": "ipython3",
      "version": "3.7.5"
    },
    "colab": {
      "name": "playground_diego.ipynb",
      "provenance": [],
      "collapsed_sections": [],
      "machine_shape": "hm",
      "include_colab_link": true
    },
    "accelerator": "GPU"
  },
  "cells": [
    {
      "cell_type": "markdown",
      "metadata": {
        "id": "view-in-github",
        "colab_type": "text"
      },
      "source": [
        "<a href=\"https://colab.research.google.com/github/mimilazarova/DD2424-covid-xray-project/blob/master/playground_diego.ipynb\" target=\"_parent\"><img src=\"https://colab.research.google.com/assets/colab-badge.svg\" alt=\"Open In Colab\"/></a>"
      ]
    },
    {
      "cell_type": "code",
      "metadata": {
        "id": "lzc7un0tv6uD",
        "colab_type": "code",
        "colab": {}
      },
      "source": [
        "import warnings\n",
        "warnings.filterwarnings(\"ignore\", category=FutureWarning)\n",
        "\n",
        "import tensorflow as tf\n",
        "from tensorflow import keras\n",
        "from tensorflow.keras.applications import ResNet50\n",
        "from tensorflow.keras.models import Sequential\n",
        "# from tensorflow.keras import layers\n",
        "from tensorflow.keras.layers import Conv2D, MaxPooling2D, Dense, Flatten, GlobalAveragePooling2D, Dropout, BatchNormalization\n",
        "import numpy as np\n",
        "import matplotlib.pyplot as plt\n",
        "import cv2\n",
        "import pickle\n",
        "from sklearn.metrics import confusion_matrix\n",
        "from sklearn.model_selection import train_test_split\n",
        "\n",
        "# from tensorflow.python.keras.applications import ResNet50\n",
        "# from tensorflow.python.keras.models import Sequential\n",
        "# from tensorflow.python.keras.layers import Dense, Flatten, GlobalAveragePooling2D"
      ],
      "execution_count": 0,
      "outputs": []
    },
    {
      "cell_type": "code",
      "metadata": {
        "id": "UDks1pN460vn",
        "colab_type": "code",
        "outputId": "f64174e7-6afc-4d49-ca91-0ab2da966464",
        "colab": {
          "base_uri": "https://localhost:8080/",
          "height": 34
        }
      },
      "source": [
        "from google.colab import drive\n",
        "drive.mount('/content/drive')"
      ],
      "execution_count": 3,
      "outputs": [
        {
          "output_type": "stream",
          "text": [
            "Drive already mounted at /content/drive; to attempt to forcibly remount, call drive.mount(\"/content/drive\", force_remount=True).\n"
          ],
          "name": "stdout"
        }
      ]
    },
    {
      "cell_type": "code",
      "metadata": {
        "id": "3djAbcsGv6uO",
        "colab_type": "code",
        "colab": {}
      },
      "source": [
        "\n",
        "with open('/content/drive/My Drive/DD2424_Project/data/trainX1.pickle', 'rb') as f:\n",
        "  X1 = pickle.load(f)\n",
        "with open('/content/drive/My Drive/DD2424_Project/data/trainX2.pickle', 'rb') as f:\n",
        "  X2 = pickle.load(f)\n",
        "\n",
        "trainX = np.concatenate((X1, X2))\n",
        "\n",
        "with open('/content/drive/My Drive/DD2424_Project/data/testX.pickle', 'rb') as f:\n",
        "  testX = pickle.load(f)\n",
        "with open('/content/drive/My Drive/DD2424_Project/data/train_y.pickle', 'rb') as f:\n",
        "  train_y = pickle.load(f)\n",
        "with open('/content/drive/My Drive/DD2424_Project/data/test_y.pickle', 'rb') as f:\n",
        "  test_y = pickle.load(f)\n"
      ],
      "execution_count": 0,
      "outputs": []
    },
    {
      "cell_type": "code",
      "metadata": {
        "id": "WTEV-LT2dIEq",
        "colab_type": "code",
        "colab": {}
      },
      "source": [
        "N = trainX.shape[0]\n",
        "testN = testX.shape[0]\n",
        "\n",
        "trainX = trainX.reshape((N, 224, 224, 1))\n",
        "testX = testX.reshape((testN, 224, 224, 1))\n",
        "\n",
        "args = [train_y==0]\n",
        "X0, vX0, y0, vy0 = train_test_split(trainX[args], train_y[args],  test_size=0.1, random_state=42) \n",
        "\n",
        "args = [train_y==1]\n",
        "X1, vX1, y1, vy1 = train_test_split(trainX[args], train_y[args],  test_size=0.1, random_state=42) \n",
        "\n",
        "args = [train_y==2]\n",
        "X2, vX2, y2, vy2 = train_test_split(trainX[args], train_y[args],  test_size=0.1, random_state=42) \n",
        "\n",
        "trainX = np.concatenate((X0, X1, X2))\n",
        "train_y = np.concatenate((y0, y1, y2))\n",
        "\n",
        "valX = np.concatenate((vX0, vX1, vX2))\n",
        "val_y = np.concatenate((vy0, vy1, vy2))"
      ],
      "execution_count": 0,
      "outputs": []
    },
    {
      "cell_type": "code",
      "metadata": {
        "id": "Ug9S4VJjgQck",
        "colab_type": "code",
        "colab": {}
      },
      "source": [
        "trainX2 = np.copy(trainX)\n",
        "valX2 = np.copy(valX)\n",
        "train_y2 = np.copy(train_y)\n",
        "val_y2 = np.copy(val_y)"
      ],
      "execution_count": 0,
      "outputs": []
    },
    {
      "cell_type": "code",
      "metadata": {
        "id": "qIBOuIX3NAOR",
        "colab_type": "code",
        "colab": {
          "base_uri": "https://localhost:8080/",
          "height": 34
        },
        "outputId": "19a6279f-c566-483d-e827-42417aaee4b6"
      },
      "source": [
        "trainX2.shape"
      ],
      "execution_count": 7,
      "outputs": [
        {
          "output_type": "execute_result",
          "data": {
            "text/plain": [
              "(12210, 224, 224, 1)"
            ]
          },
          "metadata": {
            "tags": []
          },
          "execution_count": 7
        }
      ]
    },
    {
      "cell_type": "code",
      "metadata": {
        "id": "tp3H9qH-ZcOT",
        "colab_type": "code",
        "outputId": "b1759756-ac44-47a7-e3a1-c082929027a3",
        "colab": {
          "base_uri": "https://localhost:8080/",
          "height": 34
        }
      },
      "source": [
        "train_y2.shape"
      ],
      "execution_count": 8,
      "outputs": [
        {
          "output_type": "execute_result",
          "data": {
            "text/plain": [
              "(12210,)"
            ]
          },
          "metadata": {
            "tags": []
          },
          "execution_count": 8
        }
      ]
    },
    {
      "cell_type": "code",
      "metadata": {
        "id": "hlZnEjd9ZeBm",
        "colab_type": "code",
        "outputId": "10ca07b2-7615-4ec8-c7fa-1a431c41a2e9",
        "colab": {
          "base_uri": "https://localhost:8080/",
          "height": 34
        }
      },
      "source": [
        "valX2.shape"
      ],
      "execution_count": 9,
      "outputs": [
        {
          "output_type": "execute_result",
          "data": {
            "text/plain": [
              "(1359, 224, 224, 1)"
            ]
          },
          "metadata": {
            "tags": []
          },
          "execution_count": 9
        }
      ]
    },
    {
      "cell_type": "code",
      "metadata": {
        "id": "CYv6oLBbZfLP",
        "colab_type": "code",
        "outputId": "9094a7f7-adab-4cb3-fcd9-45a45dab6590",
        "colab": {
          "base_uri": "https://localhost:8080/",
          "height": 34
        }
      },
      "source": [
        "val_y2.shape"
      ],
      "execution_count": 10,
      "outputs": [
        {
          "output_type": "execute_result",
          "data": {
            "text/plain": [
              "(1359,)"
            ]
          },
          "metadata": {
            "tags": []
          },
          "execution_count": 10
        }
      ]
    },
    {
      "cell_type": "code",
      "metadata": {
        "id": "N5XmWIUXZnnf",
        "colab_type": "code",
        "outputId": "64066b27-5cf1-42fd-af53-7251d6d76c2b",
        "colab": {
          "base_uri": "https://localhost:8080/",
          "height": 68
        }
      },
      "source": [
        "num_classes = 3\n",
        "class_weights = {}\n",
        "for c in range(3):\n",
        "  class_weights[c] = 1000/np.sum(train_y==c)\n",
        "  print(class_weights[c])\n"
      ],
      "execution_count": 11,
      "outputs": [
        {
          "output_type": "stream",
          "text": [
            "0.13948946854512484\n",
            "0.2038735983690112\n",
            "7.352941176470588\n"
          ],
          "name": "stdout"
        }
      ]
    },
    {
      "cell_type": "code",
      "metadata": {
        "id": "Z76ICIZ-XxB7",
        "colab_type": "code",
        "colab": {}
      },
      "source": [
        "N = trainX.shape[0]\n",
        "testN = testX.shape[0]"
      ],
      "execution_count": 0,
      "outputs": []
    },
    {
      "cell_type": "code",
      "metadata": {
        "id": "Mr78uvnDv6uZ",
        "colab_type": "code",
        "colab": {
          "base_uri": "https://localhost:8080/",
          "height": 34
        },
        "outputId": "2f67dfff-e652-476b-cc25-ac564d9625d5"
      },
      "source": [
        "trainX2 = trainX2.reshape((N, 224, 224, 1))\n",
        "trainX2 = np.repeat(trainX2[0:1000,:,:,:], 3, axis=-1)\n",
        "\n",
        "trainX2.shape"
      ],
      "execution_count": 13,
      "outputs": [
        {
          "output_type": "execute_result",
          "data": {
            "text/plain": [
              "(1000, 224, 224, 3)"
            ]
          },
          "metadata": {
            "tags": []
          },
          "execution_count": 13
        }
      ]
    },
    {
      "cell_type": "code",
      "metadata": {
        "id": "aB8XwFJUtNpG",
        "colab_type": "code",
        "colab": {
          "base_uri": "https://localhost:8080/",
          "height": 198
        },
        "outputId": "89788020-caa5-473e-acf8-e74df11db81a"
      },
      "source": [
        "valX2 = valX2.reshape((testN, 224, 224, 1))\n",
        "valX2 = np.repeat(valX[0:100,:,:,:], 3, axis=-1)\n",
        "valX2.shape"
      ],
      "execution_count": 14,
      "outputs": [
        {
          "output_type": "error",
          "ename": "ValueError",
          "evalue": "ignored",
          "traceback": [
            "\u001b[0;31m---------------------------------------------------------------------------\u001b[0m",
            "\u001b[0;31mValueError\u001b[0m                                Traceback (most recent call last)",
            "\u001b[0;32m<ipython-input-14-d2d9715f696c>\u001b[0m in \u001b[0;36m<module>\u001b[0;34m()\u001b[0m\n\u001b[0;32m----> 1\u001b[0;31m \u001b[0mvalX2\u001b[0m \u001b[0;34m=\u001b[0m \u001b[0mvalX2\u001b[0m\u001b[0;34m.\u001b[0m\u001b[0mreshape\u001b[0m\u001b[0;34m(\u001b[0m\u001b[0;34m(\u001b[0m\u001b[0mtestN\u001b[0m\u001b[0;34m,\u001b[0m \u001b[0;36m224\u001b[0m\u001b[0;34m,\u001b[0m \u001b[0;36m224\u001b[0m\u001b[0;34m,\u001b[0m \u001b[0;36m1\u001b[0m\u001b[0;34m)\u001b[0m\u001b[0;34m)\u001b[0m\u001b[0;34m\u001b[0m\u001b[0;34m\u001b[0m\u001b[0m\n\u001b[0m\u001b[1;32m      2\u001b[0m \u001b[0mvalX2\u001b[0m \u001b[0;34m=\u001b[0m \u001b[0mnp\u001b[0m\u001b[0;34m.\u001b[0m\u001b[0mrepeat\u001b[0m\u001b[0;34m(\u001b[0m\u001b[0mvalX\u001b[0m\u001b[0;34m[\u001b[0m\u001b[0;36m0\u001b[0m\u001b[0;34m:\u001b[0m\u001b[0;36m100\u001b[0m\u001b[0;34m,\u001b[0m\u001b[0;34m:\u001b[0m\u001b[0;34m,\u001b[0m\u001b[0;34m:\u001b[0m\u001b[0;34m,\u001b[0m\u001b[0;34m:\u001b[0m\u001b[0;34m]\u001b[0m\u001b[0;34m,\u001b[0m \u001b[0;36m3\u001b[0m\u001b[0;34m,\u001b[0m \u001b[0maxis\u001b[0m\u001b[0;34m=\u001b[0m\u001b[0;34m-\u001b[0m\u001b[0;36m1\u001b[0m\u001b[0;34m)\u001b[0m\u001b[0;34m\u001b[0m\u001b[0;34m\u001b[0m\u001b[0m\n\u001b[1;32m      3\u001b[0m \u001b[0mvalX2\u001b[0m\u001b[0;34m.\u001b[0m\u001b[0mshape\u001b[0m\u001b[0;34m\u001b[0m\u001b[0;34m\u001b[0m\u001b[0m\n",
            "\u001b[0;31mValueError\u001b[0m: cannot reshape array of size 68189184 into shape (231,224,224,1)"
          ]
        }
      ]
    },
    {
      "cell_type": "code",
      "metadata": {
        "id": "QLszihz5v6ud",
        "colab_type": "code",
        "colab": {}
      },
      "source": [
        "#Build Model\n",
        "\n",
        "model1 = Sequential()\n",
        "model1.add(ResNet50(include_top=False, pooling='avg', weights='imagenet'))\n",
        "model1.add(Dense(num_classes, activation='softmax'))\n",
        "\n",
        "# Say not to train first layer (ResNet) model. It is already trained\n",
        "model1.layers[0].trainable = False\n",
        "\n",
        "model1.summary()"
      ],
      "execution_count": 0,
      "outputs": []
    },
    {
      "cell_type": "code",
      "metadata": {
        "id": "tiLPBL79v6uh",
        "colab_type": "code",
        "colab": {}
      },
      "source": [
        "#Compile Model\n",
        "model1.compile(optimizer=\"adam\",\n",
        "              loss=tf.keras.losses.SparseCategoricalCrossentropy(from_logits=True),\n",
        "              metrics=[\"accuracy\"])"
      ],
      "execution_count": 0,
      "outputs": []
    },
    {
      "cell_type": "code",
      "metadata": {
        "id": "G9HEH7IlOI9p",
        "colab_type": "code",
        "colab": {}
      },
      "source": [
        "from tensorflow.keras.applications.resnet50 import preprocess_input\n",
        "from tensorflow.keras.preprocessing.image import ImageDataGenerator\n",
        "\n",
        "# datagen = ImageDataGenerator(preprocessing_function=preprocess_input)\n",
        "\n",
        "# compute quantities required for featurewise normalization\n",
        "# (std, mean, and principal components if ZCA whitening is applied)\n",
        "# datagen.fit(trainX)\n",
        "\n",
        "# fits the model on batches with real-time data augmentation:\n",
        "# model1.fit(datagen.flow(trainX, train_y, batch_size=32),\n",
        "                    # steps_per_epoch=len(trainX) / 32, epochs=5)\n",
        "\n",
        "\n",
        "#Fit model\n",
        "history1 = model1.fit(trainX, train_y[0:1000], epochs=5, \n",
        "                    validation_data=(testX, test_y[0:100]))"
      ],
      "execution_count": 0,
      "outputs": []
    },
    {
      "cell_type": "code",
      "metadata": {
        "id": "lIhriiNu9zh-",
        "colab_type": "code",
        "colab": {}
      },
      "source": [
        "model1 = keras.models.Sequential()\n",
        "model1.add(layers.Conv2D(64, (5, 5), padding = 'same', activation='relu', input_shape=(224, 224, 1)))\n",
        "model1.add(layers.BatchNormalization())\n",
        "model1.add(layers.MaxPooling2D((4, 4)))\n",
        "model1.add(layers.Conv2D(64, (5, 5), padding = 'same', activation='relu'))\n",
        "model1.add(layers.BatchNormalization())\n",
        "model1.add(layers.MaxPooling2D((4, 4)))\n",
        "model1.add(layers.Conv2D(64, (5, 5), activation='relu'))\n",
        "model1.add(layers.BatchNormalization())\n",
        "model1.add(layers.Flatten())\n",
        "model1.add(layers.Dense(64, activation='relu'))\n",
        "model1.add(layers.Dense(32, activation='relu'))\n",
        "model1.add(layers.Dense(10, activation='relu'))\n",
        "model1.add(layers.Dense(3))\n",
        "\n",
        "model1.summary()"
      ],
      "execution_count": 0,
      "outputs": []
    },
    {
      "cell_type": "code",
      "metadata": {
        "id": "CN82VtrV908B",
        "colab_type": "code",
        "colab": {}
      },
      "source": [
        "model1.compile(optimizer=\"adam\",\n",
        "              loss=tf.keras.losses.SparseCategoricalCrossentropy(from_logits=True),\n",
        "              metrics=[\"accuracy\"])\n",
        "\n",
        "history1 = model1.fit(trainX, train_y, epochs=5, \n",
        "                    validation_data=(testX, test_y))"
      ],
      "execution_count": 0,
      "outputs": []
    },
    {
      "cell_type": "code",
      "metadata": {
        "id": "5XXu8w-xvb18",
        "colab_type": "code",
        "colab": {}
      },
      "source": [
        "def make_model():\n",
        "  model = keras.models.Sequential()\n",
        "  model.add(layers.Conv2D(filters=32, kernel_size=(3, 3), activation='relu', strides=1, padding='same', input_shape=(224,224,1)))\n",
        "  model.add(layers.Conv2D(filters=32, kernel_size=(3, 3), activation='relu', strides=1, padding='same'))\n",
        "  model.add(layers.Conv2D(filters=64, kernel_size=(3, 3), activation='relu', strides=1, padding='same'))\n",
        "  model.add(layers.MaxPooling2D(pool_size=(2, 2)))\n",
        "  model.add(BatchNormalization())\n",
        "    \n",
        "  model.add(layers.Conv2D(filters=128, kernel_size=(5, 5), activation='relu', strides=1, padding='same'))\n",
        "\n",
        "  model.add(layers.Flatten())\n",
        "  model.add(layers.Dense(32, activation='relu'))\n",
        "  model.add(BatchNormalization())\n",
        "  # model.add(Dropout(0.5))\n",
        "  model.add(layers.Dense(16, activation='relu'))\n",
        "  model.add(BatchNormalization())\n",
        "  # model.add(Dropout(0.5))\n",
        "  model.add(layers.Dense(3))\n",
        "  return model"
      ],
      "execution_count": 0,
      "outputs": []
    },
    {
      "cell_type": "code",
      "metadata": {
        "id": "tWj9Vh1ovK7k",
        "colab_type": "code",
        "colab": {}
      },
      "source": [
        "\n",
        "model1 = make_model()\n",
        "model1.summary()\n",
        "\n",
        "# optimizer = tf.keras.optimizers.Adam (lr=0.001)\n",
        "\n",
        "model1.compile(optimizer=\"adam\",\n",
        "              loss=tf.keras.losses.SparseCategoricalCrossentropy(from_logits=True),\n",
        "              metrics=[\"accuracy\"])\n",
        "\n",
        "# reduce_lr = tf.keras.callbacks.LearningRateScheduler(lambda x: 1e-3 * 0.9 ** x)\n",
        "\n",
        "history1 = model1.fit(trainX, train_y, epochs=5, \n",
        "                    # validation_data=(testX, test_y), callbacks=[reduce_lr])\n",
        "                    validation_data=(testX, test_y))\n"
      ],
      "execution_count": 0,
      "outputs": []
    },
    {
      "cell_type": "code",
      "metadata": {
        "id": "V0DPp_IJ6jaE",
        "colab_type": "code",
        "colab": {}
      },
      "source": [
        "plt.plot(history1.history['accuracy'], label='accuracy')\n",
        "plt.plot(history1.history['val_accuracy'], label = 'val_accuracy')\n",
        "plt.xlabel('Epoch')\n",
        "plt.ylabel('Accuracy')\n",
        "plt.ylim([0.5, 1])\n",
        "plt.legend(loc='lower right')\n",
        "\n",
        "test_y_pred_m = model1.predict(testX)\n",
        "test_y_pred1 = np.argmax(test_y_pred_m, axis=1)\n",
        "\n",
        "conf_matrix = confusion_matrix(test_y, test_y_pred1, labels=[0, 1, 2])\n",
        "print(\"Confusion matrix:\")\n",
        "print(conf_matrix)"
      ],
      "execution_count": 0,
      "outputs": []
    },
    {
      "cell_type": "code",
      "metadata": {
        "id": "0irOaGL1zUR8",
        "colab_type": "code",
        "colab": {}
      },
      "source": [
        "np.argmax(test_y_pred_m, axis=1)"
      ],
      "execution_count": 0,
      "outputs": []
    }
  ]
}