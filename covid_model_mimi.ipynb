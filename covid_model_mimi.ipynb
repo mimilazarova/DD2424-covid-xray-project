{
  "nbformat": 4,
  "nbformat_minor": 0,
  "metadata": {
    "colab": {
      "name": "covid_model",
      "provenance": [],
      "machine_shape": "hm",
      "include_colab_link": true
    },
    "kernelspec": {
      "name": "python3",
      "display_name": "Python 3"
    },
    "accelerator": "GPU"
  },
  "cells": [
    {
      "cell_type": "markdown",
      "metadata": {
        "id": "view-in-github",
        "colab_type": "text"
      },
      "source": [
        "<a href=\"https://colab.research.google.com/github/mimilazarova/DD2424-covid-xray-project/blob/master/covid_model_mimi.ipynb\" target=\"_parent\"><img src=\"https://colab.research.google.com/assets/colab-badge.svg\" alt=\"Open In Colab\"/></a>"
      ]
    },
    {
      "cell_type": "code",
      "metadata": {
        "id": "0y3fW31l6FHu",
        "colab_type": "code",
        "colab": {}
      },
      "source": [
        "import warnings\n",
        "warnings.filterwarnings(\"ignore\", category=FutureWarning)\n",
        "\n",
        "import tensorflow as tf\n",
        "from tensorflow import keras\n",
        "from tensorflow.keras import layers\n",
        "import numpy as np\n",
        "import matplotlib.pyplot as plt\n",
        "import cv2\n",
        "import pickle\n",
        "from sklearn.metrics import confusion_matrix, classification_report\n",
        "from sklearn.model_selection import train_test_split\n",
        "import os"
      ],
      "execution_count": 0,
      "outputs": []
    },
    {
      "cell_type": "code",
      "metadata": {
        "id": "XXURv2plD3Za",
        "colab_type": "code",
        "colab": {}
      },
      "source": [
        "# pip install lime"
      ],
      "execution_count": 0,
      "outputs": []
    },
    {
      "cell_type": "code",
      "metadata": {
        "id": "hmPtqE-n7Pnw",
        "colab_type": "code",
        "colab": {}
      },
      "source": [
        "from google.colab import drive\n",
        "drive.mount('/content/drive')"
      ],
      "execution_count": 0,
      "outputs": []
    },
    {
      "cell_type": "code",
      "metadata": {
        "id": "X50fvOQs7ePw",
        "colab_type": "code",
        "colab": {}
      },
      "source": [
        "data_dirname = \"/content/drive/My Drive/KTH/Year 1/DD2424 Deep Learning/DD2424_Project/data\"\n",
        "\n",
        "with open(os.path.join(data_dirname, 'testX.pickle'), 'rb') as f:\n",
        "  testX = pickle.load(f)\n",
        "with open(os.path.join(data_dirname, 'test_y.pickle'), 'rb') as f:\n",
        "  test_y = pickle.load(f)\n",
        "\n",
        "# testN = testX.shape[0]\n",
        "# testX = testX.reshape((testN, 224, 224, 1))\n",
        "# testX.shape"
      ],
      "execution_count": 0,
      "outputs": []
    },
    {
      "cell_type": "code",
      "metadata": {
        "id": "WePMzlR8G7py",
        "colab_type": "code",
        "colab": {}
      },
      "source": [
        "plt.imshow(testX[0], cmap='gray')"
      ],
      "execution_count": 0,
      "outputs": []
    },
    {
      "cell_type": "code",
      "metadata": {
        "id": "eRDOA4A0BLzO",
        "colab_type": "code",
        "colab": {}
      },
      "source": [
        "model_dirname = \"/content/drive/My Drive/KTH/Year 1/DD2424 Deep Learning/DD2424_Project/\"\n",
        "filename = \"model8-undersampling-weights-augmentation.hdf5\"\n",
        "m = keras.models.load_model(os.path.join(model_dirname, filename))\n",
        "\n",
        "def new_predict(images, model=m):\n",
        "  N = images.shape[0]\n",
        "  images = images.reshape((N, 224, 224, 1))\n",
        "  return model.predict(images)\n",
        "\n",
        "test_y_pred_m = new_predict(testX) #m.predict(testX)\n",
        "test_y_pred = np.argmax(test_y_pred_m, axis=1)\n",
        "\n",
        "conf_matrix = confusion_matrix(test_y, test_y_pred, labels=[0, 1, 2])\n",
        "print(\"Test set\")\n",
        "print(conf_matrix)\n",
        "print(classification_report(test_y, test_y_pred, digits=4))\n",
        "# print(test_y[200:231])\n",
        "# print(test_y_pred[200:231])"
      ],
      "execution_count": 0,
      "outputs": []
    },
    {
      "cell_type": "code",
      "metadata": {
        "id": "TQ8FJ7XR6cgO",
        "colab_type": "code",
        "colab": {}
      },
      "source": [
        "from lime import lime_image\n",
        "from skimage.segmentation import mark_boundaries\n",
        "\n",
        "lime_explainer = lime_image.LimeImageExplainer()"
      ],
      "execution_count": 0,
      "outputs": []
    },
    {
      "cell_type": "code",
      "metadata": {
        "id": "-TWVBUqMTZDJ",
        "colab_type": "code",
        "colab": {}
      },
      "source": [
        "#pip install lime\n"
      ],
      "execution_count": 0,
      "outputs": []
    },
    {
      "cell_type": "code",
      "metadata": {
        "id": "dlvJzd2-GvLU",
        "colab_type": "code",
        "colab": {}
      },
      "source": [
        "def lime_predict(images, model=m):\n",
        "  N = images.shape[0]\n",
        "  images = images.reshape((N, 224, 224, 3))\n",
        "  images = images[:, :, :, 0] + images[:, :, :, 1] + images[:, :, :, 2]\n",
        "  images = images /3.0\n",
        "  return model.predict(images)"
      ],
      "execution_count": 0,
      "outputs": []
    },
    {
      "cell_type": "code",
      "metadata": {
        "id": "RsAh9bKTCqBs",
        "colab_type": "code",
        "colab": {}
      },
      "source": [
        "\n",
        "for i in range(231):\n",
        "  explanation = lime_explainer.explain_instance(image=testX[i], classifier_fn=lime_predict, top_labels=1, hide_color=0, num_samples=1000)\n",
        "\n",
        "  print(\"image: \", i)\n",
        "  print(\"explanation top label: \", explanation.top_labels[0])\n",
        "  print(\"prediction: \", test_y_pred[i])\n",
        "  print(\"true label: \", test_y[i])\n",
        "  temp, mask = explanation.get_image_and_mask(explanation.top_labels[0], positive_only=False, num_features=5, hide_rest=False)\n",
        "  plt.imshow(mark_boundaries(temp, mask))\n",
        "  plt.show()"
      ],
      "execution_count": 0,
      "outputs": []
    },
    {
      "cell_type": "markdown",
      "metadata": {
        "id": "UV4bTSUyWZiz",
        "colab_type": "text"
      },
      "source": [
        ""
      ]
    },
    {
      "cell_type": "code",
      "metadata": {
        "id": "cdSgEJlqLwA5",
        "colab_type": "code",
        "colab": {}
      },
      "source": [
        "print(explanation.top_labels[0])\n",
        "temp, mask = explanation.get_image_and_mask(explanation.top_labels[0], positive_only=True, num_features=5, hide_rest=False)\n",
        "plt.imshow(mark_boundaries(temp, mask))"
      ],
      "execution_count": 0,
      "outputs": []
    },
    {
      "cell_type": "code",
      "metadata": {
        "id": "oFITLOwCL2NG",
        "colab_type": "code",
        "colab": {}
      },
      "source": [
        ""
      ],
      "execution_count": 0,
      "outputs": []
    }
  ]
}