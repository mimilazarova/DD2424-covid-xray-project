{
  "nbformat": 4,
  "nbformat_minor": 0,
  "metadata": {
    "kernelspec": {
      "display_name": "Python 3",
      "language": "python",
      "name": "python3"
    },
    "language_info": {
      "codemirror_mode": {
        "name": "ipython",
        "version": 3
      },
      "file_extension": ".py",
      "mimetype": "text/x-python",
      "name": "python",
      "nbconvert_exporter": "python",
      "pygments_lexer": "ipython3",
      "version": "3.7.5"
    },
    "colab": {
      "name": "playground_colab_mimi.ipynb",
      "provenance": [],
      "machine_shape": "hm",
      "include_colab_link": true
    },
    "accelerator": "GPU"
  },
  "cells": [
    {
      "cell_type": "markdown",
      "metadata": {
        "id": "view-in-github",
        "colab_type": "text"
      },
      "source": [
        "<a href=\"https://colab.research.google.com/github/mimilazarova/DD2424-covid-xray-project/blob/master/playground_colab_mimi.ipynb\" target=\"_parent\"><img src=\"https://colab.research.google.com/assets/colab-badge.svg\" alt=\"Open In Colab\"/></a>"
      ]
    },
    {
      "cell_type": "code",
      "metadata": {
        "id": "lzc7un0tv6uD",
        "colab_type": "code",
        "colab": {}
      },
      "source": [
        "import warnings\n",
        "warnings.filterwarnings(\"ignore\", category=FutureWarning)\n",
        "\n",
        "import tensorflow as tf\n",
        "from tensorflow import keras\n",
        "from tensorflow.keras import layers\n",
        "import numpy as np\n",
        "import matplotlib.pyplot as plt\n",
        "import cv2\n",
        "import pickle\n",
        "from sklearn.metrics import confusion_matrix\n"
      ],
      "execution_count": 0,
      "outputs": []
    },
    {
      "cell_type": "code",
      "metadata": {
        "id": "UDks1pN460vn",
        "colab_type": "code",
        "outputId": "18578d21-6f8a-4e58-e51f-d150ffb37855",
        "colab": {
          "base_uri": "https://localhost:8080/",
          "height": 34
        }
      },
      "source": [
        "from google.colab import drive\n",
        "drive.mount('/content/drive')"
      ],
      "execution_count": 6,
      "outputs": [
        {
          "output_type": "stream",
          "text": [
            "Drive already mounted at /content/drive; to attempt to forcibly remount, call drive.mount(\"/content/drive\", force_remount=True).\n"
          ],
          "name": "stdout"
        }
      ]
    },
    {
      "cell_type": "code",
      "metadata": {
        "id": "3djAbcsGv6uO",
        "colab_type": "code",
        "colab": {}
      },
      "source": [
        "\n",
        "with open('/content/drive/My Drive/Colab Notebooks/data/trainX1.pickle', 'rb') as f:\n",
        "  X1 = pickle.load(f)\n",
        "with open('/content/drive/My Drive/Colab Notebooks/data/trainX2.pickle', 'rb') as f:\n",
        "  X2 = pickle.load(f)\n",
        "\n",
        "trainX = np.concatenate((X1, X2))\n",
        "\n",
        "with open('/content/drive/My Drive/Colab Notebooks/data/testX.pickle', 'rb') as f:\n",
        "  testX = pickle.load(f)\n",
        "with open('/content/drive/My Drive/Colab Notebooks/data/train_y.pickle', 'rb') as f:\n",
        "  train_y = pickle.load(f)\n",
        "with open('/content/drive/My Drive/Colab Notebooks/data/test_y.pickle', 'rb') as f:\n",
        "  test_y = pickle.load(f)\n",
        "\n"
      ],
      "execution_count": 0,
      "outputs": []
    },
    {
      "cell_type": "code",
      "metadata": {
        "id": "N5XmWIUXZnnf",
        "colab_type": "code",
        "outputId": "ec372c18-3d25-4a77-be66-5ebd2136ad42",
        "colab": {
          "base_uri": "https://localhost:8080/",
          "height": 68
        }
      },
      "source": [
        "class_weights = {}\n",
        "for c in range(3):\n",
        "  class_weights[c] = 1000/np.sum(train_y==c)\n",
        "  print(class_weights[c])\n"
      ],
      "execution_count": 8,
      "outputs": [
        {
          "output_type": "stream",
          "text": [
            "0.12553351744915892\n",
            "0.183452577508714\n",
            "4.484304932735426\n"
          ],
          "name": "stdout"
        }
      ]
    },
    {
      "cell_type": "code",
      "metadata": {
        "id": "Mr78uvnDv6uZ",
        "colab_type": "code",
        "colab": {}
      },
      "source": [
        "N = trainX.shape[0]\n",
        "testN = testX.shape[0]\n",
        "\n",
        "trainX = trainX.reshape((N, 224, 224, 1))\n",
        "testX = testX.reshape((testN, 224, 224, 1))"
      ],
      "execution_count": 0,
      "outputs": []
    },
    {
      "cell_type": "code",
      "metadata": {
        "id": "QLszihz5v6ud",
        "colab_type": "code",
        "outputId": "1c7783bd-7f9b-446f-c825-476bf0c42247",
        "colab": {
          "base_uri": "https://localhost:8080/",
          "height": 459
        }
      },
      "source": [
        "model1 = keras.models.Sequential()\n",
        "model1.add(layers.Conv2D(64, (3, 3), padding = 'same', activation='relu', input_shape=(224, 224, 1)))\n",
        "model1.add(layers.MaxPooling2D((4, 4)))\n",
        "model1.add(layers.Conv2D(64, (3, 3), padding = 'same', activation='relu'))\n",
        "model1.add(layers.MaxPooling2D((4, 4)))\n",
        "model1.add(layers.Conv2D(64, (3, 3), activation='relu'))\n",
        "model1.add(layers.Flatten())\n",
        "model1.add(layers.Dense(64, activation='relu'))\n",
        "model1.add(layers.Dense(32, activation='relu'))\n",
        "model1.add(layers.Dense(3))\n",
        "\n",
        "model1.summary()"
      ],
      "execution_count": 11,
      "outputs": [
        {
          "output_type": "stream",
          "text": [
            "Model: \"sequential_1\"\n",
            "_________________________________________________________________\n",
            "Layer (type)                 Output Shape              Param #   \n",
            "=================================================================\n",
            "conv2d_3 (Conv2D)            (None, 224, 224, 64)      640       \n",
            "_________________________________________________________________\n",
            "max_pooling2d_2 (MaxPooling2 (None, 56, 56, 64)        0         \n",
            "_________________________________________________________________\n",
            "conv2d_4 (Conv2D)            (None, 56, 56, 64)        36928     \n",
            "_________________________________________________________________\n",
            "max_pooling2d_3 (MaxPooling2 (None, 14, 14, 64)        0         \n",
            "_________________________________________________________________\n",
            "conv2d_5 (Conv2D)            (None, 12, 12, 64)        36928     \n",
            "_________________________________________________________________\n",
            "flatten_1 (Flatten)          (None, 9216)              0         \n",
            "_________________________________________________________________\n",
            "dense_3 (Dense)              (None, 64)                589888    \n",
            "_________________________________________________________________\n",
            "dense_4 (Dense)              (None, 32)                2080      \n",
            "_________________________________________________________________\n",
            "dense_5 (Dense)              (None, 3)                 99        \n",
            "=================================================================\n",
            "Total params: 666,563\n",
            "Trainable params: 666,563\n",
            "Non-trainable params: 0\n",
            "_________________________________________________________________\n"
          ],
          "name": "stdout"
        }
      ]
    },
    {
      "cell_type": "code",
      "metadata": {
        "id": "tiLPBL79v6uh",
        "colab_type": "code",
        "outputId": "ba86490b-72da-49ed-f807-dbfcefd3f21c",
        "colab": {
          "base_uri": "https://localhost:8080/",
          "height": 867
        }
      },
      "source": [
        "model1.compile(optimizer='adam',\n",
        "              loss=tf.keras.losses.SparseCategoricalCrossentropy(from_logits=True),\n",
        "              metrics=[\"accuracy\"])\n",
        "\n",
        "history1 = model1.fit(trainX, train_y, epochs=25, \n",
        "                    validation_data=(testX, test_y))\n"
      ],
      "execution_count": 12,
      "outputs": [
        {
          "output_type": "stream",
          "text": [
            "Epoch 1/25\n",
            "427/427 [==============================] - 33s 78ms/step - loss: 0.4776 - accuracy: 0.8065 - val_loss: 0.3730 - val_accuracy: 0.8550\n",
            "Epoch 2/25\n",
            "427/427 [==============================] - 33s 76ms/step - loss: 0.3869 - accuracy: 0.8535 - val_loss: 0.3616 - val_accuracy: 0.8623\n",
            "Epoch 3/25\n",
            "427/427 [==============================] - 32s 75ms/step - loss: 0.3487 - accuracy: 0.8673 - val_loss: 0.3281 - val_accuracy: 0.8768\n",
            "Epoch 4/25\n",
            "427/427 [==============================] - 32s 76ms/step - loss: 0.3062 - accuracy: 0.8861 - val_loss: 0.3097 - val_accuracy: 0.8914\n",
            "Epoch 5/25\n",
            "427/427 [==============================] - 32s 76ms/step - loss: 0.2800 - accuracy: 0.8960 - val_loss: 0.3295 - val_accuracy: 0.8854\n",
            "Epoch 6/25\n",
            "427/427 [==============================] - 32s 75ms/step - loss: 0.2567 - accuracy: 0.9069 - val_loss: 0.2707 - val_accuracy: 0.9060\n",
            "Epoch 7/25\n",
            "427/427 [==============================] - 32s 75ms/step - loss: 0.2330 - accuracy: 0.9142 - val_loss: 0.2619 - val_accuracy: 0.9079\n",
            "Epoch 8/25\n",
            "427/427 [==============================] - 32s 75ms/step - loss: 0.2100 - accuracy: 0.9250 - val_loss: 0.3215 - val_accuracy: 0.8901\n",
            "Epoch 9/25\n",
            "427/427 [==============================] - 32s 75ms/step - loss: 0.1908 - accuracy: 0.9295 - val_loss: 0.2993 - val_accuracy: 0.9013\n",
            "Epoch 10/25\n",
            "427/427 [==============================] - 32s 75ms/step - loss: 0.1679 - accuracy: 0.9390 - val_loss: 0.3035 - val_accuracy: 0.8894\n",
            "Epoch 11/25\n",
            "427/427 [==============================] - 32s 75ms/step - loss: 0.1465 - accuracy: 0.9469 - val_loss: 0.3820 - val_accuracy: 0.8987\n",
            "Epoch 12/25\n",
            "427/427 [==============================] - 32s 75ms/step - loss: 0.1338 - accuracy: 0.9502 - val_loss: 0.4135 - val_accuracy: 0.8868\n",
            "Epoch 13/25\n",
            "427/427 [==============================] - 32s 76ms/step - loss: 0.1107 - accuracy: 0.9591 - val_loss: 0.3968 - val_accuracy: 0.8967\n",
            "Epoch 14/25\n",
            "427/427 [==============================] - 32s 76ms/step - loss: 0.0952 - accuracy: 0.9647 - val_loss: 0.4120 - val_accuracy: 0.8894\n",
            "Epoch 15/25\n",
            "427/427 [==============================] - 32s 75ms/step - loss: 0.0952 - accuracy: 0.9666 - val_loss: 0.4867 - val_accuracy: 0.8841\n",
            "Epoch 16/25\n",
            "427/427 [==============================] - 32s 75ms/step - loss: 0.0684 - accuracy: 0.9769 - val_loss: 0.4825 - val_accuracy: 0.8914\n",
            "Epoch 17/25\n",
            "427/427 [==============================] - 32s 75ms/step - loss: 0.0614 - accuracy: 0.9768 - val_loss: 0.5328 - val_accuracy: 0.8841\n",
            "Epoch 18/25\n",
            "427/427 [==============================] - 32s 75ms/step - loss: 0.0594 - accuracy: 0.9785 - val_loss: 0.6320 - val_accuracy: 0.8854\n",
            "Epoch 19/25\n",
            "427/427 [==============================] - 32s 76ms/step - loss: 0.0624 - accuracy: 0.9771 - val_loss: 0.6471 - val_accuracy: 0.8967\n",
            "Epoch 20/25\n",
            "427/427 [==============================] - 32s 76ms/step - loss: 0.0466 - accuracy: 0.9837 - val_loss: 0.6268 - val_accuracy: 0.8914\n",
            "Epoch 21/25\n",
            "427/427 [==============================] - 32s 76ms/step - loss: 0.0386 - accuracy: 0.9857 - val_loss: 0.6250 - val_accuracy: 0.8795\n",
            "Epoch 22/25\n",
            "427/427 [==============================] - 32s 75ms/step - loss: 0.0406 - accuracy: 0.9855 - val_loss: 0.7303 - val_accuracy: 0.8993\n",
            "Epoch 23/25\n",
            "427/427 [==============================] - 32s 75ms/step - loss: 0.0516 - accuracy: 0.9816 - val_loss: 0.8374 - val_accuracy: 0.8934\n",
            "Epoch 24/25\n",
            "427/427 [==============================] - 32s 76ms/step - loss: 0.0177 - accuracy: 0.9948 - val_loss: 0.8361 - val_accuracy: 0.8709\n",
            "Epoch 25/25\n",
            "427/427 [==============================] - 32s 76ms/step - loss: 0.0363 - accuracy: 0.9867 - val_loss: 0.8212 - val_accuracy: 0.8874\n"
          ],
          "name": "stdout"
        }
      ]
    },
    {
      "cell_type": "code",
      "metadata": {
        "id": "V0DPp_IJ6jaE",
        "colab_type": "code",
        "outputId": "78ee0942-c889-473d-8c3f-f8c556f35409",
        "colab": {
          "base_uri": "https://localhost:8080/",
          "height": 351
        }
      },
      "source": [
        "plt.plot(history1.history['accuracy'], label='accuracy')\n",
        "plt.plot(history1.history['val_accuracy'], label = 'val_accuracy')\n",
        "plt.xlabel('Epoch')\n",
        "plt.ylabel('Accuracy')\n",
        "plt.ylim([0.5, 1])\n",
        "plt.legend(loc='lower right')\n",
        "\n",
        "test_y_pred_m = model1.predict(testX)\n",
        "test_y_pred1 = np.argmax(test_y_pred_m, axis=1)\n",
        "\n",
        "conf_matrix = confusion_matrix(test_y, test_y_pred1, labels=[0, 1, 2])\n",
        "print(\"Confusion matrix:\")\n",
        "print(conf_matrix)"
      ],
      "execution_count": 13,
      "outputs": [
        {
          "output_type": "stream",
          "text": [
            "Confusion matrix:\n",
            "[[796  83   6]\n",
            " [ 65 525   4]\n",
            " [  7   5  19]]\n"
          ],
          "name": "stdout"
        },
        {
          "output_type": "display_data",
          "data": {
            "image/png": "[encoded data removed]",
            "text/plain": [
              "<Figure size 432x288 with 1 Axes>"
            ]
          },
          "metadata": {
            "tags": [],
            "needs_background": "light"
          }
        }
      ]
    },
    {
      "cell_type": "code",
      "metadata": {
        "id": "0irOaGL1zUR8",
        "colab_type": "code",
        "colab": {}
      },
      "source": [
        "np.argmax(test_y_pred_m, axis=1)"
      ],
      "execution_count": 0,
      "outputs": []
    },
    {
      "cell_type": "code",
      "metadata": {
        "id": "TfPriXlxh4OM",
        "colab_type": "code",
        "colab": {}
      },
      "source": [
        "# one-hot-encoded vectors, not sure it we need them, the fitting the models with them did not work for me\n",
        "\n",
        "trainY = np.zeros((N, 3))\n",
        "testY = np.zeros((testN, 3))\n",
        "\n",
        "trainY[np.arange(N), train_y] = 1\n",
        "testY[np.arange(testN), test_y] = 1\n"
      ],
      "execution_count": 0,
      "outputs": []
    },
    {
      "cell_type": "code",
      "metadata": {
        "id": "iA1EtR2qhtxd",
        "colab_type": "code",
        "outputId": "988ca8ad-806b-45df-baff-d91e3e479680",
        "colab": {
          "base_uri": "https://localhost:8080/",
          "height": 799
        }
      },
      "source": [
        "model2 = keras.models.Sequential()\n",
        "model2.add(layers.Conv2D(64, (3, 3), padding = 'same', activation='relu', input_shape=(224, 224, 1)))\n",
        "model2.add(layers.MaxPooling2D((4, 4)))\n",
        "model2.add(layers.Conv2D(64, (3, 3), padding = 'same', activation='relu'))\n",
        "model2.add(layers.MaxPooling2D((4, 4)))\n",
        "model2.add(layers.Conv2D(64, (3, 3), activation='relu'))\n",
        "model2.add(layers.Flatten())\n",
        "model2.add(layers.Dense(64, activation='relu'))\n",
        "model2.add(layers.Dense(32, activation='relu'))\n",
        "model2.add(layers.Dense(3))\n",
        "\n",
        "class_weights = {}\n",
        "for c in range(3):\n",
        "  class_weights[c] = 1000/np.sum(train_y==c)\n",
        "  print(class_weights[c])\n",
        "\n",
        "model2.compile(optimizer='adam',\n",
        "              loss=tf.keras.losses.SparseCategoricalCrossentropy(from_logits=True),\n",
        "              metrics=['accuracy'])\n",
        "\n",
        "early_stopping = tf.keras.callbacks.EarlyStopping(\n",
        "    monitor='val_accuracy', \n",
        "    verbose=1,\n",
        "    patience=10,\n",
        "    mode='max',\n",
        "    restore_best_weights=True)\n",
        "\n",
        "\n",
        "history2 = model2.fit(trainX, train_y, epochs=25, callbacks=[early_stopping],\n",
        "                    class_weight=class_weights, validation_data=(testX, test_y))"
      ],
      "execution_count": 14,
      "outputs": [
        {
          "output_type": "stream",
          "text": [
            "Epoch 1/25\n",
            "427/427 [==============================] - 32s 76ms/step - loss: 0.1975 - accuracy: 0.6450 - val_loss: 0.5721 - val_accuracy: 0.8152\n",
            "Epoch 2/25\n",
            "427/427 [==============================] - 32s 75ms/step - loss: 0.1638 - accuracy: 0.7303 - val_loss: 0.5990 - val_accuracy: 0.7974\n",
            "Epoch 3/25\n",
            "427/427 [==============================] - 32s 75ms/step - loss: 0.1561 - accuracy: 0.7463 - val_loss: 0.5656 - val_accuracy: 0.7907\n",
            "Epoch 4/25\n",
            "427/427 [==============================] - 32s 74ms/step - loss: 0.1342 - accuracy: 0.7775 - val_loss: 0.5541 - val_accuracy: 0.8000\n",
            "Epoch 5/25\n",
            "427/427 [==============================] - 32s 74ms/step - loss: 0.1221 - accuracy: 0.7911 - val_loss: 0.4897 - val_accuracy: 0.8212\n",
            "Epoch 6/25\n",
            "427/427 [==============================] - 32s 75ms/step - loss: 0.1077 - accuracy: 0.8057 - val_loss: 0.4883 - val_accuracy: 0.8139\n",
            "Epoch 7/25\n",
            "427/427 [==============================] - 32s 75ms/step - loss: 0.0986 - accuracy: 0.8172 - val_loss: 0.4138 - val_accuracy: 0.8424\n",
            "Epoch 8/25\n",
            "427/427 [==============================] - 32s 74ms/step - loss: 0.1021 - accuracy: 0.8084 - val_loss: 0.7452 - val_accuracy: 0.7007\n",
            "Epoch 9/25\n",
            "427/427 [==============================] - 32s 75ms/step - loss: 0.0810 - accuracy: 0.8386 - val_loss: 0.3993 - val_accuracy: 0.8523\n",
            "Epoch 10/25\n",
            "427/427 [==============================] - 32s 75ms/step - loss: 0.0750 - accuracy: 0.8493 - val_loss: 0.6042 - val_accuracy: 0.7967\n",
            "Epoch 11/25\n",
            "427/427 [==============================] - 32s 75ms/step - loss: 0.0689 - accuracy: 0.8590 - val_loss: 0.4149 - val_accuracy: 0.8536\n",
            "Epoch 12/25\n",
            "427/427 [==============================] - 32s 75ms/step - loss: 0.0613 - accuracy: 0.8708 - val_loss: 0.3507 - val_accuracy: 0.8868\n",
            "Epoch 13/25\n",
            "427/427 [==============================] - 32s 75ms/step - loss: 0.0594 - accuracy: 0.8746 - val_loss: 0.3971 - val_accuracy: 0.8589\n",
            "Epoch 14/25\n",
            "427/427 [==============================] - 32s 75ms/step - loss: 0.0526 - accuracy: 0.8843 - val_loss: 0.4424 - val_accuracy: 0.8689\n",
            "Epoch 15/25\n",
            "427/427 [==============================] - 32s 75ms/step - loss: 0.0491 - accuracy: 0.8914 - val_loss: 0.4174 - val_accuracy: 0.8596\n",
            "Epoch 16/25\n",
            "427/427 [==============================] - 32s 74ms/step - loss: 0.0538 - accuracy: 0.8929 - val_loss: 0.4850 - val_accuracy: 0.8119\n",
            "Epoch 17/25\n",
            "427/427 [==============================] - 32s 75ms/step - loss: 0.0490 - accuracy: 0.8949 - val_loss: 0.3571 - val_accuracy: 0.8821\n",
            "Epoch 18/25\n",
            "427/427 [==============================] - 32s 75ms/step - loss: 0.0376 - accuracy: 0.9177 - val_loss: 0.3974 - val_accuracy: 0.8795\n",
            "Epoch 19/25\n",
            "427/427 [==============================] - 32s 75ms/step - loss: 0.0435 - accuracy: 0.9056 - val_loss: 0.4006 - val_accuracy: 0.8781\n",
            "Epoch 20/25\n",
            "427/427 [==============================] - 32s 75ms/step - loss: 0.0417 - accuracy: 0.9103 - val_loss: 0.4569 - val_accuracy: 0.8609\n",
            "Epoch 21/25\n",
            "427/427 [==============================] - 32s 75ms/step - loss: 0.0316 - accuracy: 0.9268 - val_loss: 0.4590 - val_accuracy: 0.8656\n",
            "Epoch 22/25\n",
            "426/427 [============================>.] - ETA: 0s - loss: 0.0266 - accuracy: 0.9394Restoring model weights from the end of the best epoch.\n",
            "427/427 [==============================] - 32s 75ms/step - loss: 0.0266 - accuracy: 0.9394 - val_loss: 0.4720 - val_accuracy: 0.8728\n",
            "Epoch 00022: early stopping\n"
          ],
          "name": "stdout"
        }
      ]
    },
    {
      "cell_type": "code",
      "metadata": {
        "id": "gQr2IOnr282b",
        "colab_type": "code",
        "outputId": "dbc4d09a-909d-44c5-bc38-14d9cab2f332",
        "colab": {
          "base_uri": "https://localhost:8080/",
          "height": 351
        }
      },
      "source": [
        "plt.plot(history2.history['accuracy'], label='accuracy')\n",
        "plt.plot(history2.history['val_accuracy'], label = 'val_accuracy')\n",
        "plt.xlabel('Epoch')\n",
        "plt.ylabel('Accuracy')\n",
        "plt.ylim([0.5, 1])\n",
        "plt.legend(loc='lower right')\n",
        "\n",
        "test_y_pred_m = model2.predict(testX)\n",
        "test_y_pred2 = np.argmax(test_y_pred_m, axis=1)\n",
        "\n",
        "conf_matrix = confusion_matrix(test_y, test_y_pred2, labels=[0, 1, 2])\n",
        "print(\"Confusion matrix:\")\n",
        "print(conf_matrix)\n"
      ],
      "execution_count": 15,
      "outputs": [
        {
          "output_type": "stream",
          "text": [
            "Confusion matrix:\n",
            "[[814  61  10]\n",
            " [ 77 503  14]\n",
            " [  6   3  22]]\n"
          ],
          "name": "stdout"
        },
        {
          "output_type": "display_data",
          "data": {
            "image/png": "[encoded data removed]",
            "text/plain": [
              "<Figure size 432x288 with 1 Axes>"
            ]
          },
          "metadata": {
            "tags": [],
            "needs_background": "light"
          }
        }
      ]
    },
    {
      "cell_type": "code",
      "metadata": {
        "id": "hjtYQiMGJhcG",
        "colab_type": "code",
        "outputId": "cfc0530f-6caa-48cc-fcbc-1a90f4db3b48",
        "colab": {
          "base_uri": "https://localhost:8080/",
          "height": 1000
        }
      },
      "source": [
        "model3 = keras.models.Sequential()\n",
        "model3.add(layers.Conv2D(64, (3, 3), padding = 'same', activation='relu', input_shape=(224, 224, 1)))\n",
        "model3.add(layers.MaxPooling2D((4, 4)))\n",
        "model3.add(layers.Conv2D(64, (3, 3), padding = 'same', activation='relu'))\n",
        "model3.add(layers.MaxPooling2D((4, 4)))\n",
        "model3.add(layers.Conv2D(64, (3, 3), activation='relu'))\n",
        "model3.add(layers.Flatten())\n",
        "model3.add(layers.Dense(64, activation='relu'))\n",
        "model3.add(layers.Dense(32, activation='relu'))\n",
        "model3.add(layers.Dense(3))\n",
        "\n",
        "class_weights = {}\n",
        "class_weights[0] = 1\n",
        "class_weights[1] = 1\n",
        "class_weights[2] = 4\n",
        "\n",
        "model3.compile(optimizer='adam',\n",
        "              loss=tf.keras.losses.SparseCategoricalCrossentropy(from_logits=True),\n",
        "              metrics=['accuracy'])\n",
        "\n",
        "\n",
        "history3 = model3.fit(trainX, train_y, epochs=25, callbacks=[early_stopping],\n",
        "                    class_weight=class_weights, validation_data=(testX, test_y))  \n",
        "\n",
        "plt.plot(history3.history['accuracy'], label='accuracy')\n",
        "plt.plot(history3.history['val_accuracy'], label = 'val_accuracy')\n",
        "plt.xlabel('Epoch')\n",
        "plt.ylabel('Accuracy')\n",
        "plt.ylim([0.5, 1])\n",
        "plt.legend(loc='lower right')\n",
        "\n",
        "test_y_pred_m = model3.predict(testX)\n",
        "test_y_pred3 = np.argmax(test_y_pred_m, axis=1)\n",
        "\n",
        "conf_matrix = confusion_matrix(test_y, test_y_pred3, labels=[0, 1, 2])\n",
        "print(\"Confusion matrix:\")\n",
        "print(conf_matrix)\n"
      ],
      "execution_count": 16,
      "outputs": [
        {
          "output_type": "stream",
          "text": [
            "Epoch 1/25\n",
            "427/427 [==============================] - 33s 76ms/step - loss: 0.6783 - accuracy: 0.7821 - val_loss: 0.4229 - val_accuracy: 0.8377\n",
            "Epoch 2/25\n",
            "427/427 [==============================] - 33s 76ms/step - loss: 0.5182 - accuracy: 0.8412 - val_loss: 0.3678 - val_accuracy: 0.8583\n",
            "Epoch 3/25\n",
            "427/427 [==============================] - 33s 76ms/step - loss: 0.4461 - accuracy: 0.8565 - val_loss: 0.3802 - val_accuracy: 0.8470\n",
            "Epoch 4/25\n",
            "427/427 [==============================] - 33s 76ms/step - loss: 0.3855 - accuracy: 0.8750 - val_loss: 0.3009 - val_accuracy: 0.8967\n",
            "Epoch 5/25\n",
            "427/427 [==============================] - 32s 76ms/step - loss: 0.3561 - accuracy: 0.8838 - val_loss: 0.3479 - val_accuracy: 0.8762\n",
            "Epoch 6/25\n",
            "427/427 [==============================] - 32s 76ms/step - loss: 0.3237 - accuracy: 0.8935 - val_loss: 0.3293 - val_accuracy: 0.8801\n",
            "Epoch 7/25\n",
            "427/427 [==============================] - 33s 77ms/step - loss: 0.2910 - accuracy: 0.9051 - val_loss: 0.4041 - val_accuracy: 0.8589\n",
            "Epoch 8/25\n",
            "427/427 [==============================] - 32s 76ms/step - loss: 0.2789 - accuracy: 0.9020 - val_loss: 0.2970 - val_accuracy: 0.8927\n",
            "Epoch 9/25\n",
            "427/427 [==============================] - 33s 76ms/step - loss: 0.2368 - accuracy: 0.9191 - val_loss: 0.3333 - val_accuracy: 0.8821\n",
            "Epoch 10/25\n",
            "427/427 [==============================] - 32s 76ms/step - loss: 0.2056 - accuracy: 0.9302 - val_loss: 0.3466 - val_accuracy: 0.8987\n",
            "Epoch 11/25\n",
            "427/427 [==============================] - 32s 76ms/step - loss: 0.1933 - accuracy: 0.9328 - val_loss: 0.3576 - val_accuracy: 0.8921\n",
            "Epoch 12/25\n",
            "427/427 [==============================] - 33s 76ms/step - loss: 0.1700 - accuracy: 0.9424 - val_loss: 0.3754 - val_accuracy: 0.8881\n",
            "Epoch 13/25\n",
            "427/427 [==============================] - 32s 76ms/step - loss: 0.1555 - accuracy: 0.9456 - val_loss: 0.3805 - val_accuracy: 0.8914\n",
            "Epoch 14/25\n",
            "427/427 [==============================] - 32s 76ms/step - loss: 0.1347 - accuracy: 0.9537 - val_loss: 0.4271 - val_accuracy: 0.8881\n",
            "Epoch 15/25\n",
            "427/427 [==============================] - 32s 76ms/step - loss: 0.1225 - accuracy: 0.9577 - val_loss: 0.4946 - val_accuracy: 0.8868\n",
            "Epoch 16/25\n",
            "427/427 [==============================] - 33s 76ms/step - loss: 0.1150 - accuracy: 0.9600 - val_loss: 0.4969 - val_accuracy: 0.8742\n",
            "Epoch 17/25\n",
            "427/427 [==============================] - 32s 76ms/step - loss: 0.1082 - accuracy: 0.9637 - val_loss: 0.4900 - val_accuracy: 0.8795\n",
            "Epoch 18/25\n",
            "427/427 [==============================] - 32s 75ms/step - loss: 0.0841 - accuracy: 0.9711 - val_loss: 0.5776 - val_accuracy: 0.8907\n",
            "Epoch 19/25\n",
            "427/427 [==============================] - 32s 76ms/step - loss: 0.1035 - accuracy: 0.9645 - val_loss: 0.6223 - val_accuracy: 0.8735\n",
            "Epoch 20/25\n",
            "426/427 [============================>.] - ETA: 0s - loss: 0.0786 - accuracy: 0.9737Restoring model weights from the end of the best epoch.\n",
            "427/427 [==============================] - 32s 76ms/step - loss: 0.0787 - accuracy: 0.9736 - val_loss: 0.6696 - val_accuracy: 0.8781\n",
            "Epoch 00020: early stopping\n",
            "Confusion matrix:\n",
            "[[811  70   4]\n",
            " [ 61 529   4]\n",
            " [  8   6  17]]\n"
          ],
          "name": "stdout"
        },
        {
          "output_type": "display_data",
          "data": {
            "image/png": "[encoded data removed]",
            "text/plain": [
              "<Figure size 432x288 with 1 Axes>"
            ]
          },
          "metadata": {
            "tags": [],
            "needs_background": "light"
          }
        }
      ]
    },
    {
      "cell_type": "code",
      "metadata": {
        "colab_type": "code",
        "outputId": "3ea2fae2-3b4b-406f-a9b0-272cad36e873",
        "id": "0tGWlxY04bvE",
        "colab": {
          "base_uri": "https://localhost:8080/",
          "height": 1000
        }
      },
      "source": [
        "model4 = keras.models.Sequential()\n",
        "model4.add(layers.Conv2D(64, (3, 3), padding = 'same', activation='relu', input_shape=(224, 224, 1)))\n",
        "model4.add(layers.MaxPooling2D((4, 4)))\n",
        "model4.add(layers.Conv2D(64, (3, 3), padding = 'same', activation='relu'))\n",
        "model4.add(layers.MaxPooling2D((4, 4)))\n",
        "model4.add(layers.Conv2D(64, (3, 3), activation='relu'))\n",
        "model4.add(layers.Flatten())\n",
        "model4.add(layers.Dense(64, activation='relu'))\n",
        "model4.add(layers.Dense(32, activation='relu'))\n",
        "model4.add(layers.Dense(3))\n",
        "\n",
        "class_weights = {}\n",
        "for c in range(3):\n",
        "  class_weights[c] = 1000*(c+1)/np.sum(train_y==c)\n",
        "  print(class_weights[c])\n",
        "\n",
        "\n",
        "model4.compile(optimizer='adam',\n",
        "              loss=tf.keras.losses.SparseCategoricalCrossentropy(from_logits=True),\n",
        "              metrics=['accuracy'])\n",
        "\n",
        "\n",
        "history4 = model4.fit(trainX, train_y, epochs=25, callbacks=[early_stopping],\n",
        "                    class_weight=class_weights, validation_data=(testX, test_y))  \n",
        "\n",
        "plt.plot(history4.history['accuracy'], label='accuracy')\n",
        "plt.plot(history4.history['val_accuracy'], label = 'val_accuracy')\n",
        "plt.xlabel('Epoch')\n",
        "plt.ylabel('Accuracy')\n",
        "plt.ylim([0.5, 1])\n",
        "plt.legend(loc='lower right')\n",
        "\n",
        "test_y_pred_m = model4.predict(testX)\n",
        "test_y_pred4 = np.argmax(test_y_pred_m, axis=1)\n",
        "\n",
        "conf_matrix = confusion_matrix(test_y, test_y_pred4, labels=[0, 1, 2])\n",
        "print(\"Confusion matrix:\")\n",
        "print(conf_matrix)\n",
        "\n"
      ],
      "execution_count": 17,
      "outputs": [
        {
          "output_type": "stream",
          "text": [
            "0.12553351744915892\n",
            "0.366905155017428\n",
            "13.452914798206278\n",
            "Epoch 1/25\n",
            "427/427 [==============================] - 32s 76ms/step - loss: 0.4144 - accuracy: 0.2707 - val_loss: 0.8837 - val_accuracy: 0.6503\n",
            "Epoch 2/25\n",
            "427/427 [==============================] - 32s 75ms/step - loss: 0.3277 - accuracy: 0.5273 - val_loss: 0.9661 - val_accuracy: 0.6007\n",
            "Epoch 3/25\n",
            "427/427 [==============================] - 32s 76ms/step - loss: 0.2747 - accuracy: 0.6376 - val_loss: 0.7898 - val_accuracy: 0.7026\n",
            "Epoch 4/25\n",
            "427/427 [==============================] - 32s 76ms/step - loss: 0.2444 - accuracy: 0.6729 - val_loss: 0.8393 - val_accuracy: 0.6596\n",
            "Epoch 5/25\n",
            "427/427 [==============================] - 32s 75ms/step - loss: 0.2116 - accuracy: 0.7087 - val_loss: 0.6871 - val_accuracy: 0.7079\n",
            "Epoch 6/25\n",
            "427/427 [==============================] - 32s 75ms/step - loss: 0.1773 - accuracy: 0.7418 - val_loss: 0.7044 - val_accuracy: 0.7152\n",
            "Epoch 7/25\n",
            "427/427 [==============================] - 32s 75ms/step - loss: 0.1672 - accuracy: 0.7504 - val_loss: 0.8094 - val_accuracy: 0.6881\n",
            "Epoch 8/25\n",
            "427/427 [==============================] - 32s 76ms/step - loss: 0.1528 - accuracy: 0.7745 - val_loss: 0.5567 - val_accuracy: 0.7907\n",
            "Epoch 9/25\n",
            "427/427 [==============================] - 32s 75ms/step - loss: 0.1739 - accuracy: 0.7555 - val_loss: 0.9964 - val_accuracy: 0.6325\n",
            "Epoch 10/25\n",
            "427/427 [==============================] - 32s 75ms/step - loss: 0.1289 - accuracy: 0.7815 - val_loss: 0.5746 - val_accuracy: 0.7848\n",
            "Epoch 11/25\n",
            "427/427 [==============================] - 32s 75ms/step - loss: 0.1110 - accuracy: 0.8052 - val_loss: 0.5412 - val_accuracy: 0.8020\n",
            "Epoch 12/25\n",
            "427/427 [==============================] - 32s 75ms/step - loss: 0.1022 - accuracy: 0.8154 - val_loss: 0.6432 - val_accuracy: 0.7483\n",
            "Epoch 13/25\n",
            "427/427 [==============================] - 32s 75ms/step - loss: 0.1014 - accuracy: 0.8221 - val_loss: 0.7137 - val_accuracy: 0.7464\n",
            "Epoch 14/25\n",
            "427/427 [==============================] - 32s 75ms/step - loss: 0.1132 - accuracy: 0.8189 - val_loss: 0.7953 - val_accuracy: 0.7232\n",
            "Epoch 15/25\n",
            "427/427 [==============================] - 32s 75ms/step - loss: 0.1296 - accuracy: 0.7865 - val_loss: 0.5174 - val_accuracy: 0.8020\n",
            "Epoch 16/25\n",
            "427/427 [==============================] - 32s 75ms/step - loss: 0.0941 - accuracy: 0.8282 - val_loss: 0.4425 - val_accuracy: 0.8437\n",
            "Epoch 17/25\n",
            "427/427 [==============================] - 32s 75ms/step - loss: 0.0820 - accuracy: 0.8460 - val_loss: 0.5778 - val_accuracy: 0.7907\n",
            "Epoch 18/25\n",
            "427/427 [==============================] - 32s 75ms/step - loss: 0.1084 - accuracy: 0.8241 - val_loss: 0.4819 - val_accuracy: 0.8225\n",
            "Epoch 19/25\n",
            "427/427 [==============================] - 32s 75ms/step - loss: 0.0811 - accuracy: 0.8523 - val_loss: 0.5255 - val_accuracy: 0.8053\n",
            "Epoch 20/25\n",
            "427/427 [==============================] - 32s 76ms/step - loss: 0.0811 - accuracy: 0.8515 - val_loss: 0.4716 - val_accuracy: 0.8351\n",
            "Epoch 21/25\n",
            "427/427 [==============================] - 32s 75ms/step - loss: 0.0653 - accuracy: 0.8731 - val_loss: 0.4070 - val_accuracy: 0.8563\n",
            "Epoch 22/25\n",
            "427/427 [==============================] - 32s 75ms/step - loss: 0.0589 - accuracy: 0.8872 - val_loss: 0.4014 - val_accuracy: 0.8616\n",
            "Epoch 23/25\n",
            "427/427 [==============================] - 32s 75ms/step - loss: 0.0545 - accuracy: 0.8949 - val_loss: 0.4602 - val_accuracy: 0.8338\n",
            "Epoch 24/25\n",
            "427/427 [==============================] - 32s 75ms/step - loss: 0.0558 - accuracy: 0.8918 - val_loss: 0.4087 - val_accuracy: 0.8623\n",
            "Epoch 25/25\n",
            "427/427 [==============================] - 32s 75ms/step - loss: 0.0535 - accuracy: 0.9039 - val_loss: 0.6507 - val_accuracy: 0.7987\n",
            "Confusion matrix:\n",
            "[[674 144  67]\n",
            " [ 53 506  35]\n",
            " [  3   2  26]]\n"
          ],
          "name": "stdout"
        },
        {
          "output_type": "display_data",
          "data": {
            "image/png": "[encoded data removed]",
            "text/plain": [
              "<Figure size 432x288 with 1 Axes>"
            ]
          },
          "metadata": {
            "tags": [],
            "needs_background": "light"
          }
        }
      ]
    }
  ]
}