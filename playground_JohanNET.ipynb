{
  "nbformat": 4,
  "nbformat_minor": 0,
  "metadata": {
    "kernelspec": {
      "display_name": "Python 3",
      "language": "python",
      "name": "python3"
    },
    "language_info": {
      "codemirror_mode": {
        "name": "ipython",
        "version": 3
      },
      "file_extension": ".py",
      "mimetype": "text/x-python",
      "name": "python",
      "nbconvert_exporter": "python",
      "pygments_lexer": "ipython3",
      "version": "3.7.5"
    },
    "colab": {
      "name": "playground_colab_mimi_copy.ipynb",
      "provenance": [],
      "machine_shape": "hm"
    },
    "accelerator": "GPU"
  },
  "cells": [
    {
      "cell_type": "code",
      "metadata": {
        "id": "0irOaGL1zUR8",
        "colab_type": "code",
        "colab": {}
      },
      "source": [
        ""
      ],
      "execution_count": 0,
      "outputs": []
    },
    {
      "cell_type": "markdown",
      "metadata": {
        "id": "view-in-github",
        "colab_type": "text"
      },
      "source": [
        "<a href=\"https://colab.research.google.com/github/mimilazarova/DD2424-covid-xray-project/blob/master/playground_colab_mimi.ipynb\" target=\"_parent\"><img src=\"https://colab.research.google.com/assets/colab-badge.svg\" alt=\"Open In Colab\"/></a>"
      ]
    },
    {
      "cell_type": "code",
      "metadata": {
        "id": "lzc7un0tv6uD",
        "colab_type": "code",
        "colab": {}
      },
      "source": [
        "import warnings\n",
        "warnings.filterwarnings(\"ignore\", category=FutureWarning)\n",
        "\n",
        "import tensorflow as tf\n",
        "from tensorflow import keras\n",
        "from tensorflow.keras import layers\n",
        "import numpy as np\n",
        "import matplotlib.pyplot as plt\n",
        "import cv2\n",
        "import pickle\n",
        "from sklearn.metrics import confusion_matrix, classification_report\n"
      ],
      "execution_count": 0,
      "outputs": []
    },
    {
      "cell_type": "code",
      "metadata": {
        "id": "UDks1pN460vn",
        "colab_type": "code",
        "outputId": "405ee82b-b031-4d20-9614-d874ec7f3aa6",
        "colab": {
          "base_uri": "https://localhost:8080/",
          "height": 122
        }
      },
      "source": [
        "from google.colab import drive\n",
        "drive.mount('/content/drive')"
      ],
      "execution_count": 0,
      "outputs": [
        {
          "output_type": "stream",
          "text": [
            "Go to this URL in a browser: https://accounts.google.com/o/oauth2/auth?client_id=947318989803-6bn6qk8qdgf4n4g3pfee6491hc0brc4i.apps.googleusercontent.com&redirect_uri=urn%3aietf%3awg%3aoauth%3a2.0%3aoob&response_type=code&scope=email%20https%3a%2f%2fwww.googleapis.com%2fauth%2fdocs.test%20https%3a%2f%2fwww.googleapis.com%2fauth%2fdrive%20https%3a%2f%2fwww.googleapis.com%2fauth%2fdrive.photos.readonly%20https%3a%2f%2fwww.googleapis.com%2fauth%2fpeopleapi.readonly\n",
            "\n",
            "Enter your authorization code:\n",
            "··········\n",
            "Mounted at /content/drive\n"
          ],
          "name": "stdout"
        }
      ]
    },
    {
      "cell_type": "markdown",
      "metadata": {
        "id": "J73eUk4aWbSy",
        "colab_type": "text"
      },
      "source": [
        "#**Load data set**"
      ]
    },
    {
      "cell_type": "code",
      "metadata": {
        "id": "3djAbcsGv6uO",
        "colab_type": "code",
        "colab": {}
      },
      "source": [
        "\n",
        "with open('/content/drive/My Drive/Colab Notebooks/data/trainX1.pickle', 'rb') as f:\n",
        "  X1 = pickle.load(f)\n",
        "with open('/content/drive/My Drive/Colab Notebooks/data/trainX2.pickle', 'rb') as f:\n",
        "  X2 = pickle.load(f)\n",
        "\n",
        "train_X = np.concatenate((X1, X2))\n",
        "\n",
        "with open('/content/drive/My Drive/Colab Notebooks/data/testX.pickle', 'rb') as f:\n",
        "  test_X = pickle.load(f)\n",
        "with open('/content/drive/My Drive/Colab Notebooks/data/train_y.pickle', 'rb') as f:\n",
        "  train_y = pickle.load(f)\n",
        "with open('/content/drive/My Drive/Colab Notebooks/data/test_y.pickle', 'rb') as f:\n",
        "  test_y = pickle.load(f)\n",
        "\n"
      ],
      "execution_count": 0,
      "outputs": []
    },
    {
      "cell_type": "markdown",
      "metadata": {
        "id": "Ir7AghM2WmLy",
        "colab_type": "text"
      },
      "source": [
        "Get class weights"
      ]
    },
    {
      "cell_type": "code",
      "metadata": {
        "id": "N5XmWIUXZnnf",
        "colab_type": "code",
        "outputId": "b8b0eba7-9227-4d63-c922-ecf9a10dec44",
        "colab": {
          "base_uri": "https://localhost:8080/",
          "height": 68
        }
      },
      "source": [
        "class_weights = {}\n",
        "for c in range(3):\n",
        "  class_weights[c] = 1000/np.sum(train_y==c)\n",
        "  print(class_weights[c])\n"
      ],
      "execution_count": 0,
      "outputs": [
        {
          "output_type": "stream",
          "text": [
            "0.12553351744915892\n",
            "0.183452577508714\n",
            "4.484304932735426\n"
          ],
          "name": "stdout"
        }
      ]
    },
    {
      "cell_type": "code",
      "metadata": {
        "id": "Mr78uvnDv6uZ",
        "colab_type": "code",
        "outputId": "f8b6a6f4-0fc0-44f4-cf68-e7e40e42a85e",
        "colab": {
          "base_uri": "https://localhost:8080/",
          "height": 51
        }
      },
      "source": [
        "train_N = train_X.shape[0]\n",
        "test_N = test_X.shape[0]\n",
        "\n",
        "train_X = train_X.reshape((train_N, 224, 224, 1))\n",
        "test_X = test_X.reshape((test_N, 224, 224, 1))\n",
        "\n",
        "print(\"train_y bincount: \", np.bincount(train_y))\n",
        "print(\"test_y bincount: \", np.bincount(test_y))"
      ],
      "execution_count": 0,
      "outputs": [
        {
          "output_type": "stream",
          "text": [
            "train_y bincount:  [7966 5451  223]\n",
            "test_y bincount:  [885 594  31]\n"
          ],
          "name": "stdout"
        }
      ]
    },
    {
      "cell_type": "code",
      "metadata": {
        "id": "Ld57oT1AaOwI",
        "colab_type": "code",
        "colab": {}
      },
      "source": [
        "#plotting learning curve\n",
        "def plot_history(history):\n",
        "  plt.plot(history.history['accuracy'], label='accuracy')\n",
        "  plt.plot(history.history['val_accuracy'], label = 'val_accuracy')\n",
        "  plt.xlabel('Epoch')\n",
        "  plt.ylabel('Accuracy')\n",
        "  plt.ylim([0.5, 1])\n",
        "  plt.legend(loc='lower right')"
      ],
      "execution_count": 0,
      "outputs": []
    },
    {
      "cell_type": "markdown",
      "metadata": {
        "id": "WPfDXrhhWs-y",
        "colab_type": "text"
      },
      "source": [
        "# **Model 1**\n",
        "1. Model definition"
      ]
    },
    {
      "cell_type": "code",
      "metadata": {
        "id": "QLszihz5v6ud",
        "colab_type": "code",
        "outputId": "595d3bbd-2099-48c0-b375-6acf9ca1e802",
        "colab": {
          "base_uri": "https://localhost:8080/",
          "height": 459
        }
      },
      "source": [
        "model1 = keras.models.Sequential()\n",
        "model1.add(layers.Conv2D(64, (3, 3), padding = 'same', activation='relu', input_shape=(224, 224, 1)))\n",
        "model1.add(layers.MaxPooling2D((4, 4)))\n",
        "model1.add(layers.Conv2D(64, (3, 3), padding = 'same', activation='relu'))\n",
        "model1.add(layers.MaxPooling2D((4, 4)))\n",
        "model1.add(layers.Conv2D(64, (3, 3), activation='relu'))\n",
        "model1.add(layers.Flatten())\n",
        "model1.add(layers.Dense(64, activation='relu'))\n",
        "model1.add(layers.Dense(32, activation='relu'))\n",
        "model1.add(layers.Dense(3))\n",
        "\n",
        "model1.summary()"
      ],
      "execution_count": 0,
      "outputs": [
        {
          "output_type": "stream",
          "text": [
            "Model: \"sequential\"\n",
            "_________________________________________________________________\n",
            "Layer (type)                 Output Shape              Param #   \n",
            "=================================================================\n",
            "conv2d (Conv2D)              (None, 224, 224, 64)      640       \n",
            "_________________________________________________________________\n",
            "max_pooling2d (MaxPooling2D) (None, 56, 56, 64)        0         \n",
            "_________________________________________________________________\n",
            "conv2d_1 (Conv2D)            (None, 56, 56, 64)        36928     \n",
            "_________________________________________________________________\n",
            "max_pooling2d_1 (MaxPooling2 (None, 14, 14, 64)        0         \n",
            "_________________________________________________________________\n",
            "conv2d_2 (Conv2D)            (None, 12, 12, 64)        36928     \n",
            "_________________________________________________________________\n",
            "flatten (Flatten)            (None, 9216)              0         \n",
            "_________________________________________________________________\n",
            "dense (Dense)                (None, 64)                589888    \n",
            "_________________________________________________________________\n",
            "dense_1 (Dense)              (None, 32)                2080      \n",
            "_________________________________________________________________\n",
            "dense_2 (Dense)              (None, 3)                 99        \n",
            "=================================================================\n",
            "Total params: 666,563\n",
            "Trainable params: 666,563\n",
            "Non-trainable params: 0\n",
            "_________________________________________________________________\n"
          ],
          "name": "stdout"
        }
      ]
    },
    {
      "cell_type": "markdown",
      "metadata": {
        "id": "4y2x_R1wa-ri",
        "colab_type": "text"
      },
      "source": [
        "2. Training"
      ]
    },
    {
      "cell_type": "code",
      "metadata": {
        "id": "tiLPBL79v6uh",
        "colab_type": "code",
        "outputId": "4dd5e0e2-d8f0-434e-cf12-deb7c1298323",
        "colab": {
          "base_uri": "https://localhost:8080/",
          "height": 887
        }
      },
      "source": [
        "model1.compile(optimizer='adam',\n",
        "              loss=tf.keras.losses.SparseCategoricalCrossentropy(from_logits=True),\n",
        "              metrics=[\"accuracy\"])\n",
        "\n",
        "history1 = model1.fit(train_X, train_y, epochs=25, \n",
        "                    validation_data=(test_X, test_y))\n"
      ],
      "execution_count": 0,
      "outputs": [
        {
          "output_type": "stream",
          "text": [
            "Epoch 1/25\n",
            "427/427 [==============================] - 11s 25ms/step - loss: 0.5005 - accuracy: 0.8024 - val_loss: 0.4033 - val_accuracy: 0.8457\n",
            "Epoch 2/25\n",
            "427/427 [==============================] - 10s 24ms/step - loss: 0.4099 - accuracy: 0.8454 - val_loss: 0.3988 - val_accuracy: 0.8404\n",
            "Epoch 3/25\n",
            "427/427 [==============================] - 10s 24ms/step - loss: 0.3724 - accuracy: 0.8578 - val_loss: 0.3302 - val_accuracy: 0.8788\n",
            "Epoch 4/25\n",
            "427/427 [==============================] - 10s 24ms/step - loss: 0.3406 - accuracy: 0.8720 - val_loss: 0.3279 - val_accuracy: 0.8748\n",
            "Epoch 5/25\n",
            "427/427 [==============================] - 10s 24ms/step - loss: 0.3106 - accuracy: 0.8830 - val_loss: 0.3002 - val_accuracy: 0.8795\n",
            "Epoch 6/25\n",
            "427/427 [==============================] - 10s 24ms/step - loss: 0.2889 - accuracy: 0.8933 - val_loss: 0.2907 - val_accuracy: 0.8967\n",
            "Epoch 7/25\n",
            "427/427 [==============================] - 10s 24ms/step - loss: 0.2672 - accuracy: 0.9015 - val_loss: 0.2713 - val_accuracy: 0.9033\n",
            "Epoch 8/25\n",
            "427/427 [==============================] - 11s 25ms/step - loss: 0.2440 - accuracy: 0.9080 - val_loss: 0.2814 - val_accuracy: 0.8960\n",
            "Epoch 9/25\n",
            "427/427 [==============================] - 10s 25ms/step - loss: 0.2229 - accuracy: 0.9183 - val_loss: 0.2916 - val_accuracy: 0.8934\n",
            "Epoch 10/25\n",
            "427/427 [==============================] - 11s 25ms/step - loss: 0.2071 - accuracy: 0.9229 - val_loss: 0.2980 - val_accuracy: 0.8940\n",
            "Epoch 11/25\n",
            "427/427 [==============================] - 11s 25ms/step - loss: 0.1866 - accuracy: 0.9310 - val_loss: 0.2937 - val_accuracy: 0.9053\n",
            "Epoch 12/25\n",
            "427/427 [==============================] - 10s 24ms/step - loss: 0.1672 - accuracy: 0.9386 - val_loss: 0.3178 - val_accuracy: 0.9026\n",
            "Epoch 13/25\n",
            "427/427 [==============================] - 10s 24ms/step - loss: 0.1482 - accuracy: 0.9469 - val_loss: 0.3674 - val_accuracy: 0.8940\n",
            "Epoch 14/25\n",
            "427/427 [==============================] - 10s 24ms/step - loss: 0.1385 - accuracy: 0.9495 - val_loss: 0.3473 - val_accuracy: 0.9000\n",
            "Epoch 15/25\n",
            "427/427 [==============================] - 10s 24ms/step - loss: 0.1195 - accuracy: 0.9567 - val_loss: 0.3664 - val_accuracy: 0.8881\n",
            "Epoch 16/25\n",
            "427/427 [==============================] - 10s 24ms/step - loss: 0.1090 - accuracy: 0.9617 - val_loss: 0.3754 - val_accuracy: 0.9007\n",
            "Epoch 17/25\n",
            "427/427 [==============================] - 10s 24ms/step - loss: 0.1040 - accuracy: 0.9615 - val_loss: 0.4418 - val_accuracy: 0.8894\n",
            "Epoch 18/25\n",
            "427/427 [==============================] - 10s 24ms/step - loss: 0.0850 - accuracy: 0.9679 - val_loss: 0.4776 - val_accuracy: 0.8940\n",
            "Epoch 19/25\n",
            "427/427 [==============================] - 10s 25ms/step - loss: 0.0670 - accuracy: 0.9768 - val_loss: 0.4792 - val_accuracy: 0.8874\n",
            "Epoch 20/25\n",
            "427/427 [==============================] - 11s 25ms/step - loss: 0.0822 - accuracy: 0.9688 - val_loss: 0.5103 - val_accuracy: 0.8914\n",
            "Epoch 21/25\n",
            "427/427 [==============================] - 10s 24ms/step - loss: 0.0650 - accuracy: 0.9768 - val_loss: 0.6659 - val_accuracy: 0.8795\n",
            "Epoch 22/25\n",
            "427/427 [==============================] - 10s 24ms/step - loss: 0.0569 - accuracy: 0.9795 - val_loss: 0.5545 - val_accuracy: 0.8901\n",
            "Epoch 23/25\n",
            "427/427 [==============================] - 10s 24ms/step - loss: 0.0493 - accuracy: 0.9821 - val_loss: 0.5924 - val_accuracy: 0.8795\n",
            "Epoch 24/25\n",
            "427/427 [==============================] - 10s 24ms/step - loss: 0.0536 - accuracy: 0.9805 - val_loss: 0.6034 - val_accuracy: 0.8921\n",
            "Epoch 25/25\n",
            "427/427 [==============================] - 10s 24ms/step - loss: 0.0390 - accuracy: 0.9867 - val_loss: 0.6850 - val_accuracy: 0.8987\n"
          ],
          "name": "stdout"
        }
      ]
    },
    {
      "cell_type": "markdown",
      "metadata": {
        "id": "wa7LeBPNbDIn",
        "colab_type": "text"
      },
      "source": [
        "3. Performance"
      ]
    },
    {
      "cell_type": "code",
      "metadata": {
        "id": "V0DPp_IJ6jaE",
        "colab_type": "code",
        "outputId": "118059ae-7ab3-4fe2-c69a-77cdbb807d6e",
        "colab": {
          "base_uri": "https://localhost:8080/",
          "height": 521
        }
      },
      "source": [
        "plot_history(history1)\n",
        "\n",
        "# predictions\n",
        "pred = model1.predict(test_X)\n",
        "pred_1 = np.argmax(pred, axis=1) # one-hot encoding\n",
        "\n",
        "conf_matrix = confusion_matrix(test_y, pred_1, labels=[0, 1, 2])\n",
        "print(\"Confusion matrix:\")\n",
        "print(conf_matrix)\n",
        "print(classification_report(test_y, pred_1, digits=3))"
      ],
      "execution_count": 0,
      "outputs": [
        {
          "output_type": "stream",
          "text": [
            "Confusion matrix:\n",
            "[[808  77   0]\n",
            " [ 89 503   2]\n",
            " [  8  12  11]]\n",
            "              precision    recall  f1-score   support\n",
            "\n",
            "           0      0.893     0.913     0.903       885\n",
            "           1      0.850     0.847     0.848       594\n",
            "           2      0.846     0.355     0.500        31\n",
            "\n",
            "    accuracy                          0.875      1510\n",
            "   macro avg      0.863     0.705     0.750      1510\n",
            "weighted avg      0.875     0.875     0.873      1510\n",
            "\n"
          ],
          "name": "stdout"
        },
        {
          "output_type": "display_data",
          "data": {
            "image/png": "[encoded data removed]",
            "text/plain": [
              "<Figure size 432x288 with 1 Axes>"
            ]
          },
          "metadata": {
            "tags": [],
            "needs_background": "light"
          }
        }
      ]
    },
    {
      "cell_type": "markdown",
      "metadata": {
        "id": "KnlOnM51YNwd",
        "colab_type": "text"
      },
      "source": [
        "# **Model 2**\n",
        "1. Model Definition"
      ]
    },
    {
      "cell_type": "code",
      "metadata": {
        "id": "IrO3Xi2YYcyC",
        "colab_type": "code",
        "outputId": "8a201e78-ff0a-4bb6-ee78-7b4931e9ecc3",
        "colab": {
          "base_uri": "https://localhost:8080/",
          "height": 459
        }
      },
      "source": [
        "model2 = keras.models.Sequential()\n",
        "model2.add(layers.Conv2D(64, (3, 3), padding = 'same', activation='relu', input_shape=(224, 224, 1)))\n",
        "model2.add(layers.MaxPooling2D((4, 4)))\n",
        "model2.add(layers.Conv2D(128, (3, 3), padding = 'same', activation='relu'))\n",
        "model2.add(layers.MaxPooling2D((4, 4)))\n",
        "model2.add(layers.Conv2D(256, (3, 3), activation='relu'))\n",
        "model2.add(layers.Flatten())\n",
        "model2.add(layers.Dense(64, activation='relu'))\n",
        "model2.add(layers.Dense(32, activation='relu'))\n",
        "model2.add(layers.Dense(3))\n",
        "\n",
        "model2.summary()"
      ],
      "execution_count": 0,
      "outputs": [
        {
          "output_type": "stream",
          "text": [
            "Model: \"sequential\"\n",
            "_________________________________________________________________\n",
            "Layer (type)                 Output Shape              Param #   \n",
            "=================================================================\n",
            "conv2d (Conv2D)              (None, 224, 224, 64)      640       \n",
            "_________________________________________________________________\n",
            "max_pooling2d (MaxPooling2D) (None, 56, 56, 64)        0         \n",
            "_________________________________________________________________\n",
            "conv2d_1 (Conv2D)            (None, 56, 56, 128)       73856     \n",
            "_________________________________________________________________\n",
            "max_pooling2d_1 (MaxPooling2 (None, 14, 14, 128)       0         \n",
            "_________________________________________________________________\n",
            "conv2d_2 (Conv2D)            (None, 12, 12, 256)       295168    \n",
            "_________________________________________________________________\n",
            "flatten (Flatten)            (None, 36864)             0         \n",
            "_________________________________________________________________\n",
            "dense (Dense)                (None, 64)                2359360   \n",
            "_________________________________________________________________\n",
            "dense_1 (Dense)              (None, 32)                2080      \n",
            "_________________________________________________________________\n",
            "dense_2 (Dense)              (None, 3)                 99        \n",
            "=================================================================\n",
            "Total params: 2,731,203\n",
            "Trainable params: 2,731,203\n",
            "Non-trainable params: 0\n",
            "_________________________________________________________________\n"
          ],
          "name": "stdout"
        }
      ]
    },
    {
      "cell_type": "markdown",
      "metadata": {
        "id": "LVmyYHWnZoAS",
        "colab_type": "text"
      },
      "source": [
        "2. Training"
      ]
    },
    {
      "cell_type": "code",
      "metadata": {
        "id": "foJ7PCwaZnBG",
        "colab_type": "code",
        "outputId": "eb6f5137-f199-43c3-f2a6-78b0993a636c",
        "colab": {
          "base_uri": "https://localhost:8080/",
          "height": 887
        }
      },
      "source": [
        "model2.compile(optimizer='adam',\n",
        "              loss=tf.keras.losses.SparseCategoricalCrossentropy(from_logits=True),\n",
        "              metrics=[\"accuracy\"])\n",
        "\n",
        "history2 = model2.fit(train_X, train_y, epochs=25, \n",
        "                    validation_data=(test_X, test_y))\n"
      ],
      "execution_count": 0,
      "outputs": [
        {
          "output_type": "stream",
          "text": [
            "Epoch 1/25\n",
            "427/427 [==============================] - 37s 88ms/step - loss: 0.4926 - accuracy: 0.8000 - val_loss: 0.3882 - val_accuracy: 0.8483\n",
            "Epoch 2/25\n",
            "427/427 [==============================] - 37s 86ms/step - loss: 0.3926 - accuracy: 0.8529 - val_loss: 0.4230 - val_accuracy: 0.8391\n",
            "Epoch 3/25\n",
            "427/427 [==============================] - 37s 86ms/step - loss: 0.3499 - accuracy: 0.8647 - val_loss: 0.3311 - val_accuracy: 0.8748\n",
            "Epoch 4/25\n",
            "427/427 [==============================] - 37s 86ms/step - loss: 0.3075 - accuracy: 0.8845 - val_loss: 0.3290 - val_accuracy: 0.8755\n",
            "Epoch 5/25\n",
            "427/427 [==============================] - 37s 86ms/step - loss: 0.2785 - accuracy: 0.8951 - val_loss: 0.2750 - val_accuracy: 0.9007\n",
            "Epoch 6/25\n",
            "427/427 [==============================] - 37s 86ms/step - loss: 0.2461 - accuracy: 0.9082 - val_loss: 0.2768 - val_accuracy: 0.9053\n",
            "Epoch 7/25\n",
            "427/427 [==============================] - 37s 86ms/step - loss: 0.2247 - accuracy: 0.9160 - val_loss: 0.2957 - val_accuracy: 0.9046\n",
            "Epoch 8/25\n",
            "427/427 [==============================] - 37s 86ms/step - loss: 0.1945 - accuracy: 0.9301 - val_loss: 0.2980 - val_accuracy: 0.8980\n",
            "Epoch 9/25\n",
            "427/427 [==============================] - 37s 86ms/step - loss: 0.1710 - accuracy: 0.9388 - val_loss: 0.3006 - val_accuracy: 0.8993\n",
            "Epoch 10/25\n",
            "427/427 [==============================] - 37s 86ms/step - loss: 0.1457 - accuracy: 0.9482 - val_loss: 0.3730 - val_accuracy: 0.8947\n",
            "Epoch 11/25\n",
            "427/427 [==============================] - 37s 86ms/step - loss: 0.1295 - accuracy: 0.9529 - val_loss: 0.3718 - val_accuracy: 0.9079\n",
            "Epoch 12/25\n",
            "427/427 [==============================] - 36s 85ms/step - loss: 0.1152 - accuracy: 0.9587 - val_loss: 0.4043 - val_accuracy: 0.8993\n",
            "Epoch 13/25\n",
            "427/427 [==============================] - 36s 85ms/step - loss: 0.0905 - accuracy: 0.9692 - val_loss: 0.4486 - val_accuracy: 0.8874\n",
            "Epoch 14/25\n",
            "427/427 [==============================] - 36s 85ms/step - loss: 0.0811 - accuracy: 0.9696 - val_loss: 0.5327 - val_accuracy: 0.8967\n",
            "Epoch 15/25\n",
            "427/427 [==============================] - 37s 86ms/step - loss: 0.0713 - accuracy: 0.9739 - val_loss: 0.5015 - val_accuracy: 0.8907\n",
            "Epoch 16/25\n",
            "427/427 [==============================] - 37s 86ms/step - loss: 0.0629 - accuracy: 0.9782 - val_loss: 0.6303 - val_accuracy: 0.8709\n",
            "Epoch 17/25\n",
            "427/427 [==============================] - 36s 85ms/step - loss: 0.0598 - accuracy: 0.9775 - val_loss: 0.5840 - val_accuracy: 0.9007\n",
            "Epoch 18/25\n",
            "427/427 [==============================] - 37s 86ms/step - loss: 0.0620 - accuracy: 0.9771 - val_loss: 0.5573 - val_accuracy: 0.8947\n",
            "Epoch 19/25\n",
            "427/427 [==============================] - 37s 86ms/step - loss: 0.0462 - accuracy: 0.9839 - val_loss: 0.6046 - val_accuracy: 0.8742\n",
            "Epoch 20/25\n",
            "427/427 [==============================] - 37s 87ms/step - loss: 0.0389 - accuracy: 0.9864 - val_loss: 0.6539 - val_accuracy: 0.8934\n",
            "Epoch 21/25\n",
            "427/427 [==============================] - 37s 86ms/step - loss: 0.0411 - accuracy: 0.9859 - val_loss: 0.6839 - val_accuracy: 0.8795\n",
            "Epoch 22/25\n",
            "427/427 [==============================] - 37s 86ms/step - loss: 0.0334 - accuracy: 0.9881 - val_loss: 0.7378 - val_accuracy: 0.8927\n",
            "Epoch 23/25\n",
            "427/427 [==============================] - 37s 86ms/step - loss: 0.0296 - accuracy: 0.9900 - val_loss: 0.7204 - val_accuracy: 0.9000\n",
            "Epoch 24/25\n",
            "427/427 [==============================] - 37s 86ms/step - loss: 0.0283 - accuracy: 0.9901 - val_loss: 0.8026 - val_accuracy: 0.8821\n",
            "Epoch 25/25\n",
            "427/427 [==============================] - 37s 86ms/step - loss: 0.0446 - accuracy: 0.9841 - val_loss: 0.7301 - val_accuracy: 0.8927\n"
          ],
          "name": "stdout"
        }
      ]
    },
    {
      "cell_type": "markdown",
      "metadata": {
        "id": "-CcniX0cZx8l",
        "colab_type": "text"
      },
      "source": [
        "3. Performance"
      ]
    },
    {
      "cell_type": "code",
      "metadata": {
        "id": "gXmhea1gZ5Ju",
        "colab_type": "code",
        "outputId": "37340518-aa74-40b5-bb96-d360926d343d",
        "colab": {
          "base_uri": "https://localhost:8080/",
          "height": 521
        }
      },
      "source": [
        "plot_history(history2)\n",
        "\n",
        "pred = model2.predict(test_X)\n",
        "pred_1 = np.argmax(pred, axis=1)\n",
        "\n",
        "conf_matrix = confusion_matrix(test_y, pred_1, labels=[0, 1, 2])\n",
        "print(\"Confusion matrix:\")\n",
        "print(conf_matrix)\n",
        "print(classification_report(test_y, pred_1, digits=3))"
      ],
      "execution_count": 0,
      "outputs": [
        {
          "output_type": "stream",
          "text": [
            "Confusion matrix:\n",
            "[[812  72   1]\n",
            " [ 73 518   3]\n",
            " [  6   7  18]]\n",
            "              precision    recall  f1-score   support\n",
            "\n",
            "           0      0.911     0.918     0.914       885\n",
            "           1      0.868     0.872     0.870       594\n",
            "           2      0.818     0.581     0.679        31\n",
            "\n",
            "    accuracy                          0.893      1510\n",
            "   macro avg      0.866     0.790     0.821      1510\n",
            "weighted avg      0.892     0.893     0.892      1510\n",
            "\n"
          ],
          "name": "stdout"
        },
        {
          "output_type": "display_data",
          "data": {
            "image/png": "[encoded data removed]",
            "text/plain": [
              "<Figure size 432x288 with 1 Axes>"
            ]
          },
          "metadata": {
            "tags": [],
            "needs_background": "light"
          }
        }
      ]
    },
    {
      "cell_type": "markdown",
      "metadata": {
        "id": "ODv3D4Hpn57a",
        "colab_type": "text"
      },
      "source": [
        "# **Model 3 - Like model 2 but with batch normalization**\n",
        "1. Model definition"
      ]
    },
    {
      "cell_type": "code",
      "metadata": {
        "id": "sQ-yL30Hn_kj",
        "colab_type": "code",
        "outputId": "e0f4500b-f264-4de8-dd86-5430efeeb743",
        "colab": {
          "base_uri": "https://localhost:8080/",
          "height": 459
        }
      },
      "source": [
        "model3 = keras.models.Sequential()\n",
        "model3.add(layers.Conv2D(64, (3, 3), padding = 'same', activation='relu', input_shape=(224, 224, 1)))\n",
        "model3.add(layers.MaxPooling2D((4, 4)))\n",
        "model3.add(layers.BatchNormalization())\n",
        "model3.add(layers.Conv2D(128, (3, 3), padding = 'same', activation='relu'))\n",
        "model3.add(layers.MaxPooling2D((4, 4)))\n",
        "model3.add(layers.BatchNormalization())\n",
        "model3.add(layers.Conv2D(256, (3, 3), activation='relu'))\n",
        "model3.add(layers.Flatten())\n",
        "model3.add(layers.BatchNormalization())\n",
        "model3.add(layers.Dense(64, activation='relu'))\n",
        "#model3.add(layers.BatchNormalization())\n",
        "model3.add(layers.Dense(32, activation='relu'))\n",
        "#model3.add(layers.BatchNormalization())\n",
        "model3.add(layers.Dense(3))\n",
        "\n",
        "model2.summary()"
      ],
      "execution_count": 0,
      "outputs": [
        {
          "output_type": "stream",
          "text": [
            "Model: \"sequential\"\n",
            "_________________________________________________________________\n",
            "Layer (type)                 Output Shape              Param #   \n",
            "=================================================================\n",
            "conv2d (Conv2D)              (None, 224, 224, 64)      640       \n",
            "_________________________________________________________________\n",
            "max_pooling2d (MaxPooling2D) (None, 56, 56, 64)        0         \n",
            "_________________________________________________________________\n",
            "conv2d_1 (Conv2D)            (None, 56, 56, 128)       73856     \n",
            "_________________________________________________________________\n",
            "max_pooling2d_1 (MaxPooling2 (None, 14, 14, 128)       0         \n",
            "_________________________________________________________________\n",
            "conv2d_2 (Conv2D)            (None, 12, 12, 256)       295168    \n",
            "_________________________________________________________________\n",
            "flatten (Flatten)            (None, 36864)             0         \n",
            "_________________________________________________________________\n",
            "dense (Dense)                (None, 64)                2359360   \n",
            "_________________________________________________________________\n",
            "dense_1 (Dense)              (None, 32)                2080      \n",
            "_________________________________________________________________\n",
            "dense_2 (Dense)              (None, 3)                 99        \n",
            "=================================================================\n",
            "Total params: 2,731,203\n",
            "Trainable params: 2,731,203\n",
            "Non-trainable params: 0\n",
            "_________________________________________________________________\n"
          ],
          "name": "stdout"
        }
      ]
    },
    {
      "cell_type": "markdown",
      "metadata": {
        "id": "tiDRBCr2o-tY",
        "colab_type": "text"
      },
      "source": [
        "2. Training"
      ]
    },
    {
      "cell_type": "code",
      "metadata": {
        "id": "LMhy9eTXpH3W",
        "colab_type": "code",
        "outputId": "a91f0666-48ec-474e-8dcc-5131caaa4f2c",
        "colab": {
          "base_uri": "https://localhost:8080/",
          "height": 887
        }
      },
      "source": [
        "model3.compile(optimizer='adam',\n",
        "              loss=tf.keras.losses.SparseCategoricalCrossentropy(from_logits=True),\n",
        "              metrics=[\"accuracy\"])\n",
        "\n",
        "history3 = model3.fit(train_X, train_y, epochs=25, \n",
        "                    validation_data=(test_X, test_y))\n"
      ],
      "execution_count": 0,
      "outputs": [
        {
          "output_type": "stream",
          "text": [
            "Epoch 1/25\n",
            "427/427 [==============================] - 39s 90ms/step - loss: 0.8790 - accuracy: 0.7850 - val_loss: 0.9556 - val_accuracy: 0.4841\n",
            "Epoch 2/25\n",
            "427/427 [==============================] - 38s 90ms/step - loss: 0.4135 - accuracy: 0.8453 - val_loss: 0.4072 - val_accuracy: 0.8596\n",
            "Epoch 3/25\n",
            "427/427 [==============================] - 38s 90ms/step - loss: 0.3473 - accuracy: 0.8666 - val_loss: 0.5157 - val_accuracy: 0.8444\n",
            "Epoch 4/25\n",
            "427/427 [==============================] - 38s 90ms/step - loss: 0.3236 - accuracy: 0.8768 - val_loss: 1.1611 - val_accuracy: 0.4503\n",
            "Epoch 5/25\n",
            "427/427 [==============================] - 38s 89ms/step - loss: 0.3030 - accuracy: 0.8862 - val_loss: 0.6139 - val_accuracy: 0.7689\n",
            "Epoch 6/25\n",
            "427/427 [==============================] - 38s 89ms/step - loss: 0.2795 - accuracy: 0.8927 - val_loss: 1.6456 - val_accuracy: 0.4517\n",
            "Epoch 7/25\n",
            "427/427 [==============================] - 38s 89ms/step - loss: 0.2654 - accuracy: 0.8979 - val_loss: 0.7952 - val_accuracy: 0.6801\n",
            "Epoch 8/25\n",
            "427/427 [==============================] - 38s 89ms/step - loss: 0.2418 - accuracy: 0.9076 - val_loss: 0.8630 - val_accuracy: 0.6642\n",
            "Epoch 9/25\n",
            "427/427 [==============================] - 38s 89ms/step - loss: 0.2231 - accuracy: 0.9136 - val_loss: 0.6317 - val_accuracy: 0.7225\n",
            "Epoch 10/25\n",
            "427/427 [==============================] - 38s 89ms/step - loss: 0.2118 - accuracy: 0.9197 - val_loss: 0.4692 - val_accuracy: 0.8543\n",
            "Epoch 11/25\n",
            "427/427 [==============================] - 38s 89ms/step - loss: 0.1928 - accuracy: 0.9261 - val_loss: 0.3454 - val_accuracy: 0.8828\n",
            "Epoch 12/25\n",
            "427/427 [==============================] - 38s 89ms/step - loss: 0.1850 - accuracy: 0.9304 - val_loss: 2.4056 - val_accuracy: 0.4649\n",
            "Epoch 13/25\n",
            "427/427 [==============================] - 38s 89ms/step - loss: 0.1733 - accuracy: 0.9349 - val_loss: 0.4806 - val_accuracy: 0.8212\n",
            "Epoch 14/25\n",
            "427/427 [==============================] - 38s 89ms/step - loss: 0.1623 - accuracy: 0.9391 - val_loss: 0.3729 - val_accuracy: 0.8815\n",
            "Epoch 15/25\n",
            "427/427 [==============================] - 38s 89ms/step - loss: 0.1447 - accuracy: 0.9455 - val_loss: 11.7854 - val_accuracy: 0.0947\n",
            "Epoch 16/25\n",
            "427/427 [==============================] - 38s 89ms/step - loss: 0.1506 - accuracy: 0.9459 - val_loss: 0.5001 - val_accuracy: 0.8556\n",
            "Epoch 17/25\n",
            "427/427 [==============================] - 38s 89ms/step - loss: 0.1274 - accuracy: 0.9526 - val_loss: 15.5848 - val_accuracy: 0.0881\n",
            "Epoch 18/25\n",
            "427/427 [==============================] - 38s 89ms/step - loss: 0.1143 - accuracy: 0.9584 - val_loss: 7.2625 - val_accuracy: 0.1536\n",
            "Epoch 19/25\n",
            "427/427 [==============================] - 38s 89ms/step - loss: 0.1114 - accuracy: 0.9585 - val_loss: 0.9348 - val_accuracy: 0.7517\n",
            "Epoch 20/25\n",
            "427/427 [==============================] - 38s 89ms/step - loss: 0.0930 - accuracy: 0.9660 - val_loss: 1.0174 - val_accuracy: 0.7616\n",
            "Epoch 21/25\n",
            "427/427 [==============================] - 38s 89ms/step - loss: 0.0800 - accuracy: 0.9695 - val_loss: 1.9993 - val_accuracy: 0.6563\n",
            "Epoch 22/25\n",
            "427/427 [==============================] - 38s 89ms/step - loss: 0.0758 - accuracy: 0.9732 - val_loss: 0.7685 - val_accuracy: 0.8192\n",
            "Epoch 23/25\n",
            "427/427 [==============================] - 38s 89ms/step - loss: 0.0767 - accuracy: 0.9715 - val_loss: 0.4343 - val_accuracy: 0.8914\n",
            "Epoch 24/25\n",
            "427/427 [==============================] - 38s 89ms/step - loss: 0.0600 - accuracy: 0.9794 - val_loss: 0.5648 - val_accuracy: 0.8854\n",
            "Epoch 25/25\n",
            "427/427 [==============================] - 38s 89ms/step - loss: 0.0731 - accuracy: 0.9739 - val_loss: 0.5924 - val_accuracy: 0.8596\n"
          ],
          "name": "stdout"
        }
      ]
    },
    {
      "cell_type": "markdown",
      "metadata": {
        "id": "OSrV8omYw5vJ",
        "colab_type": "text"
      },
      "source": [
        "3. Performance"
      ]
    },
    {
      "cell_type": "code",
      "metadata": {
        "id": "k2f7A4OEw7e0",
        "colab_type": "code",
        "outputId": "180c773a-b1b9-4a28-a354-2fee801ce47d",
        "colab": {
          "base_uri": "https://localhost:8080/",
          "height": 521
        }
      },
      "source": [
        "plot_history(history3)\n",
        "\n",
        "pred = model3.predict(test_X)\n",
        "pred_1 = np.argmax(pred, axis=1)\n",
        "\n",
        "conf_matrix = confusion_matrix(test_y, pred_1, labels=[0, 1, 2])\n",
        "print(\"Confusion matrix:\")\n",
        "print(conf_matrix)\n",
        "print(classification_report(test_y, pred_1, digits=3))"
      ],
      "execution_count": 0,
      "outputs": [
        {
          "output_type": "stream",
          "text": [
            "Confusion matrix:\n",
            "[[777 105   3]\n",
            " [ 82 512   0]\n",
            " [  5  17   9]]\n",
            "              precision    recall  f1-score   support\n",
            "\n",
            "           0      0.899     0.878     0.889       885\n",
            "           1      0.808     0.862     0.834       594\n",
            "           2      0.750     0.290     0.419        31\n",
            "\n",
            "    accuracy                          0.860      1510\n",
            "   macro avg      0.819     0.677     0.714      1510\n",
            "weighted avg      0.860     0.860     0.857      1510\n",
            "\n"
          ],
          "name": "stdout"
        },
        {
          "output_type": "display_data",
          "data": {
            "image/png": "[encoded data removed]",
            "text/plain": [
              "<Figure size 432x288 with 1 Axes>"
            ]
          },
          "metadata": {
            "tags": [],
            "needs_background": "light"
          }
        }
      ]
    },
    {
      "cell_type": "markdown",
      "metadata": {
        "id": "VcamHpAIbTVD",
        "colab_type": "text"
      },
      "source": [
        "# **Alternative Layer Structures**"
      ]
    },
    {
      "cell_type": "code",
      "metadata": {
        "id": "TfPriXlxh4OM",
        "colab_type": "code",
        "colab": {}
      },
      "source": [
        "def residual_block(x, squeeze=16, expand=64):\n",
        "  m = layers.Conv2D(squeeze, (1,1), activation='relu')(x)\n",
        "  m = layers.Conv2D(squeeze, (3,3), activation='relu')(m)\n",
        "  m = layers.Conv2D(expand, (1,1), activation='relu')(m)\n",
        "  return Add()([m, x])\n",
        "\n",
        "def inverted_residual_block(x, expand=64, squeeze=16):\n",
        "  m = layers.Conv2D(expand, (1,1), activation='relu')(x)\n",
        "  m = layers.DepthwiseConv2D((3,3), activation='relu')(m)\n",
        "  m = layers.Conv2D(squeeze, (1,1), activation='relu')(m)\n",
        "  return Add()([m, x])\n",
        "\n",
        "def inverted_linear_residual_block(x, expand=64, squeeze=16):\n",
        "  m = layers.Conv2D(expand, (1,1), activation='relu')(x)\n",
        "  m = layers.DepthwiseConv2D((3,3),  activation='relu')(m)\n",
        "  m = layers.Conv2D(squeeze, (1,1))(m)\n",
        "  return Add()([m, x])\n",
        "\n",
        "def relu6(x):\n",
        "  return min(max(0, x), 6)\n",
        "\n",
        "def bottleneck_block(x, expand=64, squeeze=16):\n",
        "  m = layers.Conv2D(expand, (1,1))(x)\n",
        "  m = layers.BatchNormalization()(m)\n",
        "  m = layers.Activation('relu6')(m)\n",
        "  m = layers.DepthwiseConv2D((3,3))(m)\n",
        "  m = layers.BatchNormalization()(m)\n",
        "  m = layers.Activation('relu6')(m)\n",
        "  m = layers.Conv2D(squeeze, (1,1))(m)\n",
        "  m = layers.BatchNormalization()(m)\n",
        "  return Add()([m, x])\n",
        "\n",
        "def se_block(x, filters, squeeze_ratio=0.25):\n",
        "    x_ = layers.GlobalAveragePooling2D()(x)\n",
        "    x_ = layers.Reshape((1,1,filters))(x_)\n",
        "    squeezed_filters = max(1, int(filters * squeeze_ratio))\n",
        "    x_ = layers.Conv2D(squeezed_filters , activation='relu')(x_)\n",
        "    x_ = layers.Conv2D(filters, activation='sigmoid')(x_)\n",
        "    return multiply()([x, x_])\n",
        "\n",
        "argument_block = [ \n",
        "BlockArgs(kernel_size=3, num_repeat=1, input_filters=32, output_filters=16, expand_ratio=1, id_skip=True, strides=[1, 1], se_ratio=0.25),\n",
        "BlockArgs(kernel_size=3, num_repeat=2, input_filters=16, output_filters=24, expand_ratio=6, id_skip=True, strides=[2, 2], se_ratio=0.25),\n",
        "BlockArgs(kernel_size=5, num_repeat=2, input_filters=24, output_filters=40, expand_ratio=6, id_skip=True, strides=[2, 2], se_ratio=0.25),\n",
        "BlockArgs(kernel_size=3, num_repeat=3, input_filters=40, output_filters=80, expand_ratio=6, id_skip=True, strides=[2, 2], se_ratio=0.25),\n",
        "BlockArgs(kernel_size=5, num_repeat=3, input_filters=80, output_filters=112, expand_ratio=6, id_skip=True, strides=[1, 1], se_ratio=0.25),\n",
        "BlockArgs(kernel_size=5, num_repeat=4, input_filters=112, output_filters=192, expand_ratio=6, id_skip=True, strides=[2, 2], se_ratio=0.25),\n",
        "BlockArgs(kernel_size=3, num_repeat=1, input_filters=192, output_filters=320, expand_ratio=6, id_skip=True, strides=[1, 1], se_ratio=0.25)\n",
        "]\n",
        "\n",
        "def mbConv_block(input_data, block_arg):\n",
        "    “““Mobile Inverted Residual block along with Squeeze \n",
        "    and Excitation block.”””\n",
        "    kernel_size = block_arg.kernel_size\n",
        "    num_repeat= block_arg.num_repeat\n",
        "    input_filters= block_arg.input_filters\n",
        "    output_filters= output_filters.kernel_size\n",
        "    expand_ratio= block_arg.expand_ratio\n",
        "    id_skip= block_arg.id_skip\n",
        "    strides= block_arg.strides\n",
        "    se_ratio= block_arg.se_ratio\n",
        "\n",
        "    # expansion phase\n",
        "    expanded_filters = input_filters * expand_ratio\n",
        "    x = Conv2D(expanded_filters, 1, padding=’same’, use_bias=False)(input_data)\n",
        "    x = BatchNormalization()(x)\n",
        "    x = Activation(swish_activation)(x)\n",
        "\n",
        "    # depthwise conv\n",
        "    x = DepthwiseConv2D(kernel_size, strides, padding=’same’, use_bias=False)(x)\n",
        "    x = BatchNormalization()(x)\n",
        "    x = Activation(swish_activation)(x)\n",
        "\n",
        "    # squeeze and excitation phase\n",
        "    se = GlobalAveragePooling2D()(x) \n",
        "    se = Reshape((1, 1, expanded_filters ))(x)\n",
        "    squeezed_filters = max (1, int(input_filters * se_ratio))\n",
        "    se = Conv2D(squeezed_filters , 1, activation=swish_activation, padding=’same’)(se)\n",
        "    se = Conv2D(expanded_filters, 1, activation=’sigmoid’, padding=’same’)(se)\n",
        "    x = multiply([x, se])\n",
        "\n",
        "    # output phase\n",
        "    x = Conv2D(output_filters, 1, padding=’same’, use_bias=False)\n",
        "    x = BatchNormalization()(x)\n",
        "    return x\n",
        "\n"
      ],
      "execution_count": 0,
      "outputs": []
    },
    {
      "cell_type": "code",
      "metadata": {
        "id": "IxqMfWipWK7t",
        "colab_type": "code",
        "colab": {}
      },
      "source": [
        "class MyResBlock(tf.keras.Model):\n",
        "  def __init__(self, squeeze=16, expand=64):\n",
        "    super(MyResBlock, self).__init__(name='')\n",
        "\n",
        "    self.squeeze = squeeze\n",
        "    self.expand = expand\n",
        "  \n",
        "  def call(self, x, training=False):\n",
        "    m = layers.Conv2D(self.squeeze, (1,1), activation='relu')(x)\n",
        "    m = layers.Conv2D(self.squeeze, (3,3), activation='relu')(m)\n",
        "    m = layers.Conv2D(self.expand, (1,1), activation='relu')(m)\n",
        "\n",
        "    return Add()([m, x])\n",
        "\n",
        "class MyInvResBlock(tf.keras.Model):\n",
        "  def __init__(self, expand=64, squeeze=16):\n",
        "    super(MyInvResBlock, self).__init__(name='')\n",
        "    self.expand = expand\n",
        "    self.squeenze = squeeze\n",
        "\n",
        "  def call(self, x, training=False):\n",
        "    m = layers.Conv2D(self.expand, (1,1), activation='relu')(x)\n",
        "    m = layers.DepthwiseConv2D((3,3), activation='relu')(m)\n",
        "    m = layers.Conv2D(self.squeeze, (1,1), activation='relu')(m)\n",
        "    return Add()([m, x])\n",
        "\n",
        "class MyInvLinResBlock(tf.keras.Model):\n",
        "  def __init__(self, expand=64, squeeze=16):\n",
        "    super(MyInvLinResBlock, self).__init__(name='')\n",
        "    self.expand = expand\n",
        "    self.squeeze = squeeze\n",
        "\n",
        "  def call(self, x, training=False):\n",
        "    m = layers.Conv2D(self.expand, (1,1), activation='relu')(x)\n",
        "    m = layers.DepthwiseConv2D((3,3),  activation='relu')(m)\n",
        "    m = layers.Conv2D(self.squeeze, (1,1))(m)\n",
        "    return Add()([m, x])\n",
        "  \n",
        "\n",
        "class MyInvLinResBlock(tf.keras.Model):\n",
        "  def __init__(self, expand=64, squeeze=16):\n",
        "    super(MyInvLinResBlock, self).__init__(name='')\n",
        "    self.expand = expand\n",
        "    self.squeeze = squeeze\n",
        "\n",
        "  def call(self, x, training=False):\n",
        "    m = layers.Conv2D(self.expand, (1,1), activation='relu')(x)\n",
        "    m = layers.DepthwiseConv2D((3,3),  activation='relu')(m)\n",
        "    m = layers.Conv2D(self.squeeze, (1,1))(m)\n",
        "    return Add()([m, x])\n",
        "  \n",
        "\n",
        "class BottleneckBlock(tf.keras.Model)\n",
        "  def __init__(self, expand=64, squeeze=16):\n",
        "    super(MyInvLinResBlock, self).__init__(name='')\n",
        "    self.expand = expand\n",
        "    self.squeeze = squeeze\n",
        "\n",
        "  def call(self, x, training=False):\n",
        "    m = layers.Conv2D(self.expand, (1,1))(x)\n",
        "    m = layers.BatchNormalization()(m)\n",
        "    m = layers.Activation(tf.nn.relu6)\n",
        "    m = layers.DepthwiseConv2D((3,3))(m)\n",
        "    m = layers.BatchNormalization()(m)\n",
        "    m = layers.Activation(tf.nn.relu6)\n",
        "    m = layers.Conv2D(self.squeeze, (1,1))(m)\n",
        "    m = layers.BatchNormalization()(m)\n",
        "    return Add()([m, x])\n",
        " "
      ],
      "execution_count": 0,
      "outputs": []
    },
    {
      "cell_type": "markdown",
      "metadata": {
        "id": "qOu0XKgAr8Cs",
        "colab_type": "text"
      },
      "source": [
        "# **EfficientNet Baseline model**"
      ]
    },
    {
      "cell_type": "code",
      "metadata": {
        "id": "iA1EtR2qhtxd",
        "colab_type": "code",
        "colab": {}
      },
      "source": [
        "efficientNet = keras.models.Sequential()\n",
        "efficientNet.add(layers.Conv2D(32, (3,3), padding='same', activation='relu', input_shape=(224, 224, 1)))\n",
        "efficientNet.add(mbConv_block())\n"
      ],
      "execution_count": 0,
      "outputs": []
    },
    {
      "cell_type": "code",
      "metadata": {
        "id": "gQr2IOnr282b",
        "colab_type": "code",
        "colab": {}
      },
      "source": [
        ""
      ],
      "execution_count": 0,
      "outputs": []
    },
    {
      "cell_type": "code",
      "metadata": {
        "id": "hjtYQiMGJhcG",
        "colab_type": "code",
        "colab": {}
      },
      "source": [
        ""
      ],
      "execution_count": 0,
      "outputs": []
    },
    {
      "cell_type": "code",
      "metadata": {
        "colab_type": "code",
        "id": "0tGWlxY04bvE",
        "colab": {}
      },
      "source": [
        ""
      ],
      "execution_count": 0,
      "outputs": []
    },
    {
      "cell_type": "markdown",
      "metadata": {
        "id": "iQihZIV5fMrM",
        "colab_type": "text"
      },
      "source": [
        "# **Testing Alternative Layer Structures**"
      ]
    },
    {
      "cell_type": "code",
      "metadata": {
        "id": "xTxVEMgVfQ11",
        "colab_type": "code",
        "colab": {}
      },
      "source": [
        ""
      ],
      "execution_count": 0,
      "outputs": []
    }
  ]
}